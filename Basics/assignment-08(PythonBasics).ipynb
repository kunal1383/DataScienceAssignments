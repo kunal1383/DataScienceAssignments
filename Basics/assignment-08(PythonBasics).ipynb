{
 "cells": [
  {
   "cell_type": "markdown",
   "id": "215594ca",
   "metadata": {},
   "source": [
    "#### 1. Is the Python Standard Library included with PyInputPlus?\n",
    "**Ans:** No, **`PyInputPlus`** is not a part of Python Standard Library, it needs to be installed explicitly using the command **`!pip install PyInputPlus`**"
   ]
  },
  {
   "cell_type": "markdown",
   "id": "76a769e0",
   "metadata": {},
   "source": [
    "#### 2. Why is PyInputPlus commonly imported with import pyinputplus as pypi?\n",
    "**Ans:** PyInputPlus is commonly imported with the alias **pypi** to make it easier and more concise to refer to the module in the code"
   ]
  },
  {
   "cell_type": "markdown",
   "id": "5d578dfb",
   "metadata": {},
   "source": [
    "#### 3. How do you distinguish between inputInt() and inputFloat()?\n",
    "**Ans:** `inputInt()` is used to prompt the user for input and expects an integer value as the input. It will keep prompting the user until a valid integer is entered. On the other hand, `inputFloat()` is used for inputting floating-point numbers."
   ]
  },
  {
   "cell_type": "markdown",
   "id": "5a276409",
   "metadata": {},
   "source": [
    "#### 4. Using PyInputPlus, how do you ensure that the user enters a whole number between 0 and 99?\n",
    "**Ans:** To ensure that the user enters a whole number between 0 and 99 using PyInputPlus, you can use the **`inputInt()`** function with the **`min`** and **`max`** arguments set to the desired range\n",
    "\n",
    "  "
   ]
  },
  {
   "cell_type": "code",
   "execution_count": 2,
   "id": "b2720e61",
   "metadata": {
    "scrolled": true
   },
   "outputs": [
    {
     "name": "stdout",
     "output_type": "stream",
     "text": [
      "Enter a number between 0 and 99: gds\n",
      "'gds' is not an integer.\n",
      "Enter a number between 0 and 99: 23\n"
     ]
    }
   ],
   "source": [
    "import pyinputplus as pypi\n",
    "\n",
    "number = pypi.inputInt(prompt='Enter a number between 0 and 99: ', min=0, max=99)\n"
   ]
  },
  {
   "cell_type": "markdown",
   "id": "a3266159",
   "metadata": {},
   "source": [
    "#### 5. What is transferred to the keyword arguments allowRegexes and blockRegexes?\n",
    "**Ans:** we can use **`allowRegexes`** and **`blockRegexes`** keyword arguments to take list of regular expression strings to determine\n",
    "what the pyinputplus function will reject or accept valid input."
   ]
  },
  {
   "cell_type": "markdown",
   "id": "20251b09",
   "metadata": {},
   "source": [
    "#### 6. If a blank input is entered three times, what does inputStr(limit=3) do?\n",
    "**Ans:** If a blank input is entered three times using **`inputStr(limit=3)`**, it will raise a TimeoutException after three attempts. The limit argument specifies the maximum number of allowed attempts for the input."
   ]
  },
  {
   "cell_type": "markdown",
   "id": "a57b26ea",
   "metadata": {},
   "source": [
    "#### 7. If blank input is entered three times, what does inputStr(limit=3, default='hello') do?\n",
    "**Ans:** If blank input is entered three times using **`inputStr(limit=3, default='hello')`**, it will return the default value **`'hello'`**"
   ]
  },
  {
   "cell_type": "code",
   "execution_count": null,
   "id": "956c40d6",
   "metadata": {},
   "outputs": [],
   "source": []
  }
 ],
 "metadata": {
  "kernelspec": {
   "display_name": "Python 3 (ipykernel)",
   "language": "python",
   "name": "python3"
  },
  "language_info": {
   "codemirror_mode": {
    "name": "ipython",
    "version": 3
   },
   "file_extension": ".py",
   "mimetype": "text/x-python",
   "name": "python",
   "nbconvert_exporter": "python",
   "pygments_lexer": "ipython3",
   "version": "3.9.7"
  }
 },
 "nbformat": 4,
 "nbformat_minor": 5
}
