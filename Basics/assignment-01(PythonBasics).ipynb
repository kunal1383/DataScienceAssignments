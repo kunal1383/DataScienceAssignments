{
 "cells": [
  {
   "cell_type": "markdown",
   "id": "3256b1fe",
   "metadata": {},
   "source": [
    "#### 1. In the below elements which of them are values or an expression? **eg:-** values can be integer or string and expressions will be mathematical operators.  \n",
    "`*`,`'hello'`, `-87.8`,`-`,`/`,`+`,`6`\n",
    "\n",
    "\n",
    "Ans : Operators : *, -, /, + <br>\n",
    "interger : 6 <br>\n",
    "float : -87.8 <br>\n",
    "string : 'hello' <br>"
   ]
  },
  {
   "cell_type": "markdown",
   "id": "5f4a9822",
   "metadata": {},
   "source": [
    "### 2.What is the difference between string and variable?\n",
    "\n",
    "Ans: Variable is named storage location which is used to hold value or information. String on the other hand is a data type\n",
    "which is sequence of characters enclosed in quotes or you can think of it as a data type that represent text."
   ]
  },
  {
   "cell_type": "markdown",
   "id": "2b43c6be",
   "metadata": {},
   "source": [
    "### 3.Describe three different data types?\n",
    "\n",
    "Ans : \n",
    "    **Integer:** (int) data type is used to represent whole number. eg 5 ,-10 <br>\n",
    "    **float:** (float) data type is used to represent numbers with decimal. eg 3.14 ,-1.45<br>\n",
    "    **string:** (str) data type is used to represent text in quotes . eg \"hello\" ,\"world\"<br>\n",
    "    **boolean:** (bool) data type is a data type which represent either of two value True or False. It is used to represent \n",
    "    logical values, such as whether a condition is true or false.\n",
    "    \n",
    "    "
   ]
  },
  {
   "cell_type": "markdown",
   "id": "467956a3",
   "metadata": {},
   "source": [
    "### 4.What is an expression made up of? What do all expressions do?\n",
    "Ans: Expression is made of operators ,constant ,variables and function calls that evaluates to a value.\n",
    "     All expression evaluates to a value.Expressions can be used to perform calculations, compare values, and manipulate        data."
   ]
  },
  {
   "cell_type": "markdown",
   "id": "035e0fb3",
   "metadata": {},
   "source": [
    "### 5.This assignment statements, like spam = 10. What is the difference between an expression and a statement?\n",
    "Ans:Expression is combination of operators ,constant ,variables and function which will evaluate to a value where as           statement is line of code that performs a specific action or operation like assignment. spam = 10 is an assignment         statement where we assign value 10 to variable \"spam\".<br>\n",
    "    The key difference between an expression and a statement is that an expression evaluates to a value, while a statement     does not. A statement performs an action or operation, but it does not have a value that can be used in another part of     the program.\n",
    "    "
   ]
  },
  {
   "cell_type": "markdown",
   "id": "41919862",
   "metadata": {},
   "source": [
    "#### 6.After running the following code, what does the variable bacon contain?\n",
    "`bacon = 22`  \n",
    "`bacon + 1`\n",
    "\n",
    "Ans : If we execute above code then we are assigning value 22 to variable \"bacon\" and then we are incrementing its value by 1. But orignal value of variable will not change as we are not reassigning it to variable bacon(bacon = bacon + 1)"
   ]
  },
  {
   "cell_type": "code",
   "execution_count": 5,
   "id": "94d435f4",
   "metadata": {},
   "outputs": [
    {
     "data": {
      "text/plain": [
       "23"
      ]
     },
     "execution_count": 5,
     "metadata": {},
     "output_type": "execute_result"
    }
   ],
   "source": [
    "bacon = 22\n",
    "bacon + 1\n"
   ]
  },
  {
   "cell_type": "code",
   "execution_count": 6,
   "id": "70892962",
   "metadata": {},
   "outputs": [
    {
     "name": "stdout",
     "output_type": "stream",
     "text": [
      "22\n"
     ]
    }
   ],
   "source": [
    "bacon = 22\n",
    "bacon + 1\n",
    "print(bacon)"
   ]
  },
  {
   "cell_type": "markdown",
   "id": "27fcbe2d",
   "metadata": {},
   "source": [
    "#### 7.What should the values of the following two terms be?  \n",
    "`'spam'+'spamspam'`  \n",
    "`'spam'*3`\n",
    "\n",
    "Ans : so in first case we are doing string concatenation. output - spamspamspam\n",
    "      and in second case its string multiplication/repetition. output -spamspamspam "
   ]
  },
  {
   "cell_type": "code",
   "execution_count": 7,
   "id": "3ae7391c",
   "metadata": {},
   "outputs": [
    {
     "name": "stdout",
     "output_type": "stream",
     "text": [
      "spamspamspam\n",
      "spamspamspam\n"
     ]
    }
   ],
   "source": [
    "print('spam'+'spamspam') # string concatenation\n",
    "print('spam'*3) # string multiplication"
   ]
  },
  {
   "cell_type": "markdown",
   "id": "95558b36",
   "metadata": {},
   "source": [
    "### 8.Why is eggs a valid variable name while 100 is invalid?\n",
    "\n",
    "Ans : As per python rules and conventions variable names must start with a letter or underscore character, and can be followed by any combination of letters, numbers, and underscore characters. However, variable names cannot start with a number.\n"
   ]
  },
  {
   "cell_type": "markdown",
   "id": "5f52d45d",
   "metadata": {},
   "source": [
    "### 9. What three functions can be used to get the integer, floating-point number, or string version of a value?\n",
    "\n",
    "Ans: The three function which can be used to get integer, floating-point number, or string version of a value are int() ,float() and str()"
   ]
  },
  {
   "cell_type": "code",
   "execution_count": 8,
   "id": "8275e5bc",
   "metadata": {},
   "outputs": [
    {
     "name": "stdout",
     "output_type": "stream",
     "text": [
      "10\n"
     ]
    }
   ],
   "source": [
    "variable  = \"10\"\n",
    "print(int(variable))"
   ]
  },
  {
   "cell_type": "code",
   "execution_count": 9,
   "id": "6fae01a5",
   "metadata": {},
   "outputs": [
    {
     "name": "stdout",
     "output_type": "stream",
     "text": [
      "10.0\n"
     ]
    }
   ],
   "source": [
    "variable  = \"10\"\n",
    "print(float(variable))"
   ]
  },
  {
   "cell_type": "code",
   "execution_count": 10,
   "id": "14b97c03",
   "metadata": {},
   "outputs": [
    {
     "name": "stdout",
     "output_type": "stream",
     "text": [
      "10\n"
     ]
    }
   ],
   "source": [
    "variable  = \"10\"\n",
    "print(str(variable))"
   ]
  },
  {
   "cell_type": "markdown",
   "id": "e838ebfb",
   "metadata": {},
   "source": [
    "### 10. Why does this expression cause an error? How can you fix it?\n",
    "`'I have eaten ' + 99 + 'burritos.'`\n",
    "\n",
    "Ans: We will encounter error because 99 is a integer and not a string . In Python, you can only concatenate strings with other strings, not with integers or other data types.\n",
    "we can convert the integer 99 to a string using the str() function. "
   ]
  },
  {
   "cell_type": "code",
   "execution_count": 11,
   "id": "6606990e",
   "metadata": {},
   "outputs": [
    {
     "data": {
      "text/plain": [
       "'I have eaten 99 burritos.'"
      ]
     },
     "execution_count": 11,
     "metadata": {},
     "output_type": "execute_result"
    }
   ],
   "source": [
    "'I have eaten ' + str(99) + ' burritos.'"
   ]
  },
  {
   "cell_type": "code",
   "execution_count": null,
   "id": "e56c3470",
   "metadata": {},
   "outputs": [],
   "source": []
  }
 ],
 "metadata": {
  "kernelspec": {
   "display_name": "Python 3 (ipykernel)",
   "language": "python",
   "name": "python3"
  },
  "language_info": {
   "codemirror_mode": {
    "name": "ipython",
    "version": 3
   },
   "file_extension": ".py",
   "mimetype": "text/x-python",
   "name": "python",
   "nbconvert_exporter": "python",
   "pygments_lexer": "ipython3",
   "version": "3.9.7"
  }
 },
 "nbformat": 4,
 "nbformat_minor": 5
}
