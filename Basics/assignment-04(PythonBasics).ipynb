{
 "cells": [
  {
   "cell_type": "markdown",
   "id": "43c2c89f",
   "metadata": {},
   "source": [
    "### 1. What exactly is []?\n",
    "**Ans** : [] represents an empty list with no elements."
   ]
  },
  {
   "cell_type": "markdown",
   "id": "a2a669bc",
   "metadata": {},
   "source": [
    "### 2. In a list of values stored in a variable called spam, how would you assign the value 'hello' as the third value? (Assume [2, 4, 6, 8, 10] are in spam.)\n",
    "\n",
    "* spam = [2, 4, 6, 8, 10]\n",
    "* spam[2] = 'hello'\n",
    "* print(spam)"
   ]
  },
  {
   "cell_type": "code",
   "execution_count": 4,
   "id": "94fc6e00",
   "metadata": {},
   "outputs": [
    {
     "name": "stdout",
     "output_type": "stream",
     "text": [
      "[2, 4, 'hello', 8, 10]\n"
     ]
    }
   ],
   "source": [
    "spam = [2, 4, 6, 8, 10]\n",
    "spam[2] = 'hello'\n",
    "print(spam)"
   ]
  },
  {
   "cell_type": "markdown",
   "id": "8bef9deb",
   "metadata": {},
   "source": [
    "## Let's pretend the spam includes the list ['a', 'b', 'c', 'd'] for the next three queries."
   ]
  },
  {
   "cell_type": "markdown",
   "id": "53661cb1",
   "metadata": {},
   "source": [
    "### 3. What is the value of spam[int(int('3' * 2) / 11)]? \n",
    "**Ans**:\n",
    "* First '3' * 2 evaluates to the string '33'.\n",
    "* Then, int('33') converts the string  to an integer value of 33.\n",
    "* Next, int('33') / 11 will give value 3.\n",
    "* so spam[3] = d\n"
   ]
  },
  {
   "cell_type": "code",
   "execution_count": 5,
   "id": "dc2de0be",
   "metadata": {},
   "outputs": [
    {
     "name": "stdout",
     "output_type": "stream",
     "text": [
      "spam[int(int('3' * 2) / 11)] = d\n"
     ]
    }
   ],
   "source": [
    "spam = ['a', 'b', 'c', 'd']\n",
    "print(\"spam[int(int('3' * 2) / 11)] =\" ,spam[int(int('3' * 2) / 11)])"
   ]
  },
  {
   "cell_type": "markdown",
   "id": "bb92f889",
   "metadata": {},
   "source": [
    "### 4. What is the value of spam[-1]?\n",
    "**Ans**: d"
   ]
  },
  {
   "cell_type": "code",
   "execution_count": 6,
   "id": "70b5b0ef",
   "metadata": {},
   "outputs": [
    {
     "data": {
      "text/plain": [
       "'d'"
      ]
     },
     "execution_count": 6,
     "metadata": {},
     "output_type": "execute_result"
    }
   ],
   "source": [
    "spam[-1]"
   ]
  },
  {
   "cell_type": "markdown",
   "id": "c9ae94f5",
   "metadata": {},
   "source": [
    "### 5. What is the value of spam[:2]?\n",
    "**Ans**: It will return value form index 0 to 2 excluding value at index 2"
   ]
  },
  {
   "cell_type": "code",
   "execution_count": 7,
   "id": "ad24b4f8",
   "metadata": {},
   "outputs": [
    {
     "data": {
      "text/plain": [
       "['a', 'b']"
      ]
     },
     "execution_count": 7,
     "metadata": {},
     "output_type": "execute_result"
    }
   ],
   "source": [
    "spam[:2]"
   ]
  },
  {
   "cell_type": "markdown",
   "id": "5d9b24a8",
   "metadata": {},
   "source": [
    "## Let's pretend bacon has the list [3.14, 'cat,' 11, 'cat,' True] for the next three questions."
   ]
  },
  {
   "cell_type": "markdown",
   "id": "1f2a01d3",
   "metadata": {},
   "source": [
    "### 6. What is the value of bacon.index('cat')?\n",
    "**Ans:** The value of `bacon.index('cat')` is `1` as index method returns the index of first occuerence"
   ]
  },
  {
   "cell_type": "code",
   "execution_count": 11,
   "id": "1784dfd0",
   "metadata": {},
   "outputs": [
    {
     "name": "stdout",
     "output_type": "stream",
     "text": [
      "bacon.index('cat') =  1\n"
     ]
    }
   ],
   "source": [
    "bacon=[3.14,'cat',11,'cat',True]\n",
    "print(\"bacon.index('cat') = \",bacon.index('cat'))"
   ]
  },
  {
   "cell_type": "markdown",
   "id": "1d615a8e",
   "metadata": {},
   "source": [
    "### 7. How does bacon.append(99) change the look of the list value in bacon?\n",
    "**Ans**: append method adds new elemnt at the end of list so new list will be:[3.14, 'cat,' 11, 'cat,' True ,99]\n"
   ]
  },
  {
   "cell_type": "code",
   "execution_count": 12,
   "id": "c1b6202b",
   "metadata": {},
   "outputs": [
    {
     "name": "stdout",
     "output_type": "stream",
     "text": [
      "[3.14, 'cat', 11, 'cat', True, 99]\n"
     ]
    }
   ],
   "source": [
    "bacon.append(99)\n",
    "print(bacon)"
   ]
  },
  {
   "cell_type": "markdown",
   "id": "2ad81a1c",
   "metadata": {},
   "source": [
    "### 8. How does bacon.remove('cat') change the look of the list in bacon?\n",
    "**Ans**: 'remove' method will remove the first occurance  of element in list"
   ]
  },
  {
   "cell_type": "code",
   "execution_count": 13,
   "id": "3ac5e489",
   "metadata": {},
   "outputs": [
    {
     "name": "stdout",
     "output_type": "stream",
     "text": [
      "[3.14, 11, 'cat', True, 99]\n"
     ]
    }
   ],
   "source": [
    "bacon.remove('cat')\n",
    "print(bacon)"
   ]
  },
  {
   "cell_type": "markdown",
   "id": "88465b24",
   "metadata": {},
   "source": [
    "### 9. What are the list concatenation and list replication operators?\n",
    "**Ans**:The list concatenation operator is +, and the list replication operator is *."
   ]
  },
  {
   "cell_type": "markdown",
   "id": "3ba27795",
   "metadata": {},
   "source": [
    "### 10. What is difference between the list methods append() and insert()?\n",
    "**Ans**:The append() method is used to add an element to the end of a list,it takes a single argument, which is the element to be added whereas the insert() method is used to add an element at a specific index in a list. It takes two arguments the index at which to insert the element and the element itself."
   ]
  },
  {
   "cell_type": "markdown",
   "id": "c61eb608",
   "metadata": {},
   "source": [
    "### 11. What are the two methods for removing items from a list?\n",
    "**Ans** The two common methods for removing elemnts from list are `pop` and `remove`."
   ]
  },
  {
   "cell_type": "markdown",
   "id": "049f21c2",
   "metadata": {},
   "source": [
    "### 12. Describe how list values and string values are identical.\n",
    "**Ans** : In both we can access individual elements using indexing . Both support concatination and replication.Lists and strings support slicing and also we can iterate over them. we can also use len() function to check there length"
   ]
  },
  {
   "cell_type": "markdown",
   "id": "a0c06488",
   "metadata": {},
   "source": [
    "### 13. What's the difference between tuples and lists?\n",
    "**Ans** : Lists are mutable, meaning you can modify their elements, add or remove elements, and change their length. Tuples, on the other hand, are immutable, meaning once a tuple is created, you cannot modify its elements.Also, tuples are define using parentheses, `()`, while lists use the square brackets, `[]`."
   ]
  },
  {
   "cell_type": "markdown",
   "id": "e5ed2a40",
   "metadata": {},
   "source": [
    "### 14. How do you type a tuple value that only contains the integer 42?\n",
    "**Ans**: The trailing comma after the integer value is necessary to distinguish the tuple from an integer in parentheses."
   ]
  },
  {
   "cell_type": "code",
   "execution_count": 14,
   "id": "fef3d7fb",
   "metadata": {},
   "outputs": [
    {
     "name": "stdout",
     "output_type": "stream",
     "text": [
      "<class 'int'>\n",
      "<class 'tuple'>\n"
     ]
    }
   ],
   "source": [
    "tuple1 =(12)\n",
    "tuple2= (12,)\n",
    "print(type(tuple1))\n",
    "print(type(tuple2))"
   ]
  },
  {
   "cell_type": "markdown",
   "id": "c98cdef9",
   "metadata": {},
   "source": [
    "### 15. How do you get a list value's tuple form? How do you get a tuple value's list form?\n",
    "**Ans**:\n",
    "* To get a tuple value's list form, you can use the list() function.\n",
    "* To get a list value's tuple form, you can use the tuple() function."
   ]
  },
  {
   "cell_type": "markdown",
   "id": "2a01d571",
   "metadata": {},
   "source": [
    "### 16. Variables that \"contain\" list values are not necessarily lists themselves. Instead, what do they contain?\n",
    "**Ans** Variable contains a reference to the list object."
   ]
  },
  {
   "cell_type": "markdown",
   "id": "bf94242e",
   "metadata": {},
   "source": [
    "### 17. How do you distinguish between copy.copy() and copy.deepcopy()?\n",
    "**Ans**:\n",
    "* copy.copy() will create a shallow copy meaning it will create a new object but the nested objects are still referenced and shared between the original and copied objects.\n",
    "* copy.deepcopy() on other hand will create a deep copy meaning it creates an independent copy of the original object and recursively copies all the nested objects. It creates new instances of the nested objects and copies their values,making sure that the copied object is entirely separate from the original. "
   ]
  },
  {
   "cell_type": "code",
   "execution_count": 19,
   "id": "49e46e43",
   "metadata": {},
   "outputs": [
    {
     "name": "stdout",
     "output_type": "stream",
     "text": [
      "orignal -> [1, 2, ['a', 'b', 99], 3, 4]\n",
      "shallow -> [1, 2, ['a', 'b', 99], 3, 4]\n",
      "deep copy -> [1, 2, ['a', 'b'], 3, 4]\n"
     ]
    }
   ],
   "source": [
    "import copy\n",
    "original = [1,2,['a','b'] ,3,4]\n",
    "shallow_copy = copy.copy(original)\n",
    "deep_copy  =copy.deepcopy(original)\n",
    "original[2].append(99)\n",
    "print('orignal ->',original)    \n",
    "print('shallow ->',shallow_copy)     \n",
    "print('deep copy ->',deep_copy)        "
   ]
  },
  {
   "cell_type": "code",
   "execution_count": null,
   "id": "55256905",
   "metadata": {},
   "outputs": [],
   "source": []
  },
  {
   "cell_type": "code",
   "execution_count": null,
   "id": "6cdc5d51",
   "metadata": {},
   "outputs": [],
   "source": []
  },
  {
   "cell_type": "code",
   "execution_count": null,
   "id": "c02ee7f4",
   "metadata": {},
   "outputs": [],
   "source": []
  },
  {
   "cell_type": "code",
   "execution_count": null,
   "id": "dd170ee7",
   "metadata": {},
   "outputs": [],
   "source": []
  },
  {
   "cell_type": "code",
   "execution_count": null,
   "id": "fef6a13a",
   "metadata": {},
   "outputs": [],
   "source": []
  },
  {
   "cell_type": "code",
   "execution_count": null,
   "id": "e10be9f9",
   "metadata": {},
   "outputs": [],
   "source": []
  },
  {
   "cell_type": "code",
   "execution_count": null,
   "id": "d425b210",
   "metadata": {},
   "outputs": [],
   "source": []
  },
  {
   "cell_type": "code",
   "execution_count": null,
   "id": "27fa128d",
   "metadata": {},
   "outputs": [],
   "source": []
  },
  {
   "cell_type": "code",
   "execution_count": null,
   "id": "3fafc6f8",
   "metadata": {},
   "outputs": [],
   "source": []
  },
  {
   "cell_type": "code",
   "execution_count": null,
   "id": "9798817a",
   "metadata": {},
   "outputs": [],
   "source": []
  }
 ],
 "metadata": {
  "kernelspec": {
   "display_name": "Python 3 (ipykernel)",
   "language": "python",
   "name": "python3"
  },
  "language_info": {
   "codemirror_mode": {
    "name": "ipython",
    "version": 3
   },
   "file_extension": ".py",
   "mimetype": "text/x-python",
   "name": "python",
   "nbconvert_exporter": "python",
   "pygments_lexer": "ipython3",
   "version": "3.9.7"
  }
 },
 "nbformat": 4,
 "nbformat_minor": 5
}
