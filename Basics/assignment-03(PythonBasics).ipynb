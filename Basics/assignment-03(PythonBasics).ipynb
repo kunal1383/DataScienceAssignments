{
 "cells": [
  {
   "cell_type": "markdown",
   "id": "e42faf0f",
   "metadata": {},
   "source": [
    "### 1. Why are functions advantageous to have in your programs?\n",
    "\n",
    "**Ans**:\n",
    "* The main purpose of function is code reusability. We don't have to write same code over and over again.\n",
    "* Function make our code modular meaning function allows us to break down the program into smaller and more manageable pieces of code.\n",
    "* Function also makes testing and debbuging of code easy\n"
   ]
  },
  {
   "cell_type": "markdown",
   "id": "c7583e5d",
   "metadata": {},
   "source": [
    "### 2. When does the code in a function run: when it's specified or when it's called?\n",
    "**Ans**: Code in a function is only executed when the function is called and not when it is specified."
   ]
  },
  {
   "cell_type": "markdown",
   "id": "0445dfaa",
   "metadata": {},
   "source": [
    "### 3. What statement creates a function?\n",
    "**Ans**: We use `def` statement to define a function.\n",
    "\n",
    "def function_name(parameters):<br>\n",
    "---    function body ----<br>\n",
    "----    return value----"
   ]
  },
  {
   "cell_type": "markdown",
   "id": "5f317815",
   "metadata": {},
   "source": [
    "### 4. What is the difference between a function and a function call?\n",
    "**Ans**: Function is piece or block of code which performs specific task .\n",
    " Function call on other hand is a point in program where fuction gets executed or invoked."
   ]
  },
  {
   "cell_type": "markdown",
   "id": "c7b9afeb",
   "metadata": {},
   "source": [
    "### 5. How many global scopes are there in a Python program? How many local scopes?\n",
    "**Ans**: There is only one global scope in python program. on other hand local scope are created every time when a function is called"
   ]
  },
  {
   "cell_type": "markdown",
   "id": "b3a73f62",
   "metadata": {},
   "source": [
    "### 6. What happens to variables in a local scope when the function call returns?\n",
    "**Ans**: When function call returns local scope is destroyed and any variable is local scope is forgotten."
   ]
  },
  {
   "cell_type": "markdown",
   "id": "29e92c92",
   "metadata": {},
   "source": [
    "### 7. What is the concept of a return value? Is it possible to have a return value in an expression?\n",
    "**Ans**: Return value in function is a value the function returns to caller after performing some operation .Like any value , a return value can be used as an expression. for eg in below code we passed to argument to `addNumber` function and it returned value which is assigned to result and which is later printed in console.  "
   ]
  },
  {
   "cell_type": "code",
   "execution_count": 2,
   "id": "94370543",
   "metadata": {},
   "outputs": [
    {
     "name": "stdout",
     "output_type": "stream",
     "text": [
      "10\n"
     ]
    }
   ],
   "source": [
    "def addNumber(a,b):\n",
    "    return a+b\n",
    "result = addNumber(3,7)\n",
    "print(result)"
   ]
  },
  {
   "cell_type": "markdown",
   "id": "2df78be5",
   "metadata": {},
   "source": [
    "### 8. If a function does not have a return statement, what is the return value of a call to that function?\n",
    "**Ans**:If there is no return statement for a function, its return value is `None`."
   ]
  },
  {
   "cell_type": "markdown",
   "id": "a7dd1f9a",
   "metadata": {},
   "source": [
    "### 9. How do you make a function variable refer to the global variable?\n",
    "**Ans**: We can use `global` keyword followed by the name of the variable inside the function. "
   ]
  },
  {
   "cell_type": "markdown",
   "id": "50540ae8",
   "metadata": {},
   "source": [
    "### 10. What is the data type of None?\n",
    "**Ans**:The data type of None is `NoneType`."
   ]
  },
  {
   "cell_type": "markdown",
   "id": "2f2efebf",
   "metadata": {},
   "source": [
    "### 11. What does the sentence import areallyourpetsnamederic do?\n",
    "**Ans**:`import areallyourpetsnamederic ` will raise a `ModuleNotFoundError` as it is not an offical module but if create our own module of name areallyourpetsnamederic then it will import the module ."
   ]
  },
  {
   "cell_type": "markdown",
   "id": "23a2a180",
   "metadata": {},
   "source": [
    "### 12. If you had a bacon() feature in a spam module, what would you call it after importing spam?\n",
    "**Ans**: After importing spam we can call `spam.bacon()` to execute the function."
   ]
  },
  {
   "cell_type": "markdown",
   "id": "2457f876",
   "metadata": {},
   "source": [
    "### 13. What can you do to save a programme from crashing if it encounters an error?\n",
    "**Ans**: we can use `try-except` block to catch and handle exceptions that may occur during the execution of a program."
   ]
  },
  {
   "cell_type": "markdown",
   "id": "0489b345",
   "metadata": {},
   "source": [
    "### 14. What is the purpose of the try clause? What is the purpose of the except clause?\n",
    "**Ans**:\n",
    "* The purpose of try block is to enclose a code which can potentially cause an error.It allows the program to try executing the code, and if an exception is raised, it can be handled without crashing the program.\n",
    "* The purpose of the except clause is to handle the exception raised in the try clause. If an exception occurs in the try block, the except clause that matches the type of the exception is executed."
   ]
  },
  {
   "cell_type": "code",
   "execution_count": null,
   "id": "441fec9a",
   "metadata": {},
   "outputs": [],
   "source": []
  }
 ],
 "metadata": {
  "kernelspec": {
   "display_name": "Python 3 (ipykernel)",
   "language": "python",
   "name": "python3"
  },
  "language_info": {
   "codemirror_mode": {
    "name": "ipython",
    "version": 3
   },
   "file_extension": ".py",
   "mimetype": "text/x-python",
   "name": "python",
   "nbconvert_exporter": "python",
   "pygments_lexer": "ipython3",
   "version": "3.9.7"
  }
 },
 "nbformat": 4,
 "nbformat_minor": 5
}
