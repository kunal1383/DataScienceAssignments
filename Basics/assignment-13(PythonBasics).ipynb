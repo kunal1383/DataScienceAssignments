{
 "cells": [
  {
   "cell_type": "markdown",
   "id": "d8aab80a",
   "metadata": {},
   "source": [
    "#### 1. What advantages do Excel spreadsheets have over CSV spreadsheets?\n",
    "**Ans:** The Advantages of Excel over CSV are:\n",
    "1. Excel spreadsheets can contain multiple sheets within a single file, while CSV files are typically single-sheet.\n",
    "2. Excel supports formatting options such as cell colors, font styles, and formulas, whereas CSV files only store raw data.\n",
    "3. Excel provides built-in features for sorting, filtering, and visualizing data, making it more versatile for data analysis.\n",
    "4. Excel supports complex data types, such as dates, times, and formulas, while CSV files store data as plain text.\n",
    "5. Excel also contains various formula which makes calculation easy."
   ]
  },
  {
   "cell_type": "markdown",
   "id": "b66e958d",
   "metadata": {},
   "source": [
    "#### 2.What do you pass to csv.reader() and csv.writer() to create reader and writer objects?\n",
    "**Ans** :  We pass csv file object `csv.reader()` and `csv.writer()` to create reader and writer objects."
   ]
  },
  {
   "cell_type": "markdown",
   "id": "c3478f56",
   "metadata": {},
   "source": [
    "#### 3. What modes do File objects for reader and writer objects need to be opened in?\n",
    "**Ans:** For reader objects, the file object needs to be opened in `'r'(read) mode.` For writer objects, the file object needs to be opened in `'w'(write) mode.`\n"
   ]
  },
  {
   "cell_type": "markdown",
   "id": "c2f017ec",
   "metadata": {},
   "source": [
    "#### 4. What method takes a list argument and writes it to a CSV file?\n",
    "**Ans:** csv.writer class provides two methods for writing to CSV. They are `writerow()` and `writerows().` writerow() method writes a single row at a time. Whereas writerows() method is used to write multiple rows at a time."
   ]
  },
  {
   "cell_type": "markdown",
   "id": "68179164",
   "metadata": {},
   "source": [
    "#### 5. What do the keyword arguments delimiter and line terminator do?\n",
    "**Ans:** The `delimiter keyword` argument in CSV functions specifies the character used to separate fields in a CSV file. The `line_terminator` keyword argument specifies the string used to terminate lines in the output CSV file."
   ]
  },
  {
   "cell_type": "markdown",
   "id": "94752f89",
   "metadata": {},
   "source": [
    "#### 6. What function takes a string of JSON data and returns a Python data structure?\n",
    "**Ans:** `loads()` method takes a string of JSON data and returns a Python data structure"
   ]
  },
  {
   "cell_type": "code",
   "execution_count": 3,
   "id": "cf976f3f",
   "metadata": {},
   "outputs": [
    {
     "name": "stdout",
     "output_type": "stream",
     "text": [
      "  \n",
      "     {  \n",
      "        \"name\":       \"sonoo\",   \n",
      "        \"salary\":      56000,   \n",
      "        \"married\":    \"true\"  \n",
      "    }  \n",
      "  \n",
      "Type of my_details_json is <class 'str'>\n",
      "{'name': 'sonoo', 'salary': 56000, 'married': 'true'}\n",
      "Type of my_details is <class 'dict'>\n"
     ]
    }
   ],
   "source": [
    "# Example of json.loads() method\n",
    "import json\n",
    "my_details_json ='''  \n",
    "     {  \n",
    "        \"name\":       \"Jack\",   \n",
    "        \"salary\":      56000,   \n",
    "        \"married\":    \"false\"  \n",
    "    }  \n",
    "  '''\n",
    "print(my_details_json)\n",
    "print(f'Type of my_details_json is {type(my_details_json)}')\n",
    "my_details = json.loads(my_details_json)\n",
    "print(my_details)\n",
    "print(f'Type of my_details is {type(my_details)}')"
   ]
  },
  {
   "cell_type": "markdown",
   "id": "bc39716d",
   "metadata": {},
   "source": [
    "#### 7. What function takes a Python data structure and returns a string of JSON data?\n",
    "**Ans:** `dumps()` method takes a python data structure and returns a string of JSON data"
   ]
  },
  {
   "cell_type": "code",
   "execution_count": 4,
   "id": "5125a827",
   "metadata": {},
   "outputs": [
    {
     "name": "stdout",
     "output_type": "stream",
     "text": [
      "{'name': 'Jack', 'salary': 56000, 'married': 'true'}\n",
      "Type of my_details is <class 'dict'>\n",
      "{\n",
      "    \"married\": \"true\",\n",
      "    \"name\": \"Jack\",\n",
      "    \"salary\": 56000\n",
      "}\n",
      "Type of my_details_json is <class 'str'>\n"
     ]
    }
   ],
   "source": [
    "# Example of json.dumps() method\n",
    "import json\n",
    "my_details =      {  \n",
    "        \"name\":       \"Jack\",   \n",
    "        \"salary\":      56000,   \n",
    "        \"married\":    'true'\n",
    "    }  \n",
    "print(my_details)\n",
    "print(f'Type of my_details is {type(my_details)}')\n",
    "my_details_json = json.dumps(my_details, indent=4, sort_keys=True)\n",
    "print(my_details_json)\n",
    "print(f'Type of my_details_json is {type(my_details_json)}')"
   ]
  },
  {
   "cell_type": "code",
   "execution_count": null,
   "id": "268f2a18",
   "metadata": {},
   "outputs": [],
   "source": []
  }
 ],
 "metadata": {
  "kernelspec": {
   "display_name": "Python 3 (ipykernel)",
   "language": "python",
   "name": "python3"
  },
  "language_info": {
   "codemirror_mode": {
    "name": "ipython",
    "version": 3
   },
   "file_extension": ".py",
   "mimetype": "text/x-python",
   "name": "python",
   "nbconvert_exporter": "python",
   "pygments_lexer": "ipython3",
   "version": "3.9.7"
  }
 },
 "nbformat": 4,
 "nbformat_minor": 5
}
