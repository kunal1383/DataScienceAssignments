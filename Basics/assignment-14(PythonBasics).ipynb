{
 "cells": [
  {
   "cell_type": "markdown",
   "id": "7c6c3412",
   "metadata": {},
   "source": [
    "#### 1. What does RGBA stand for?\n",
    "**Ans:** **RGBA** is a four-channel format containing data for `Red`, `Green`, `Blue`, and an `Alpha` value. Where Alpha Represents the Opacity"
   ]
  },
  {
   "cell_type": "markdown",
   "id": "39e9a315",
   "metadata": {},
   "source": [
    "#### 2. From the Pillow module, how do you get the RGBA value of any images?\n",
    "**Ans:** **`Image.getpixel()`** gives rgba value of any image "
   ]
  },
  {
   "cell_type": "code",
   "execution_count": 5,
   "id": "756a107a",
   "metadata": {},
   "outputs": [
    {
     "name": "stdout",
     "output_type": "stream",
     "text": [
      "(163, 148, 125)\n"
     ]
    }
   ],
   "source": [
    "from PIL import Image\n",
    "\n",
    "# Open the image\n",
    "image = Image.open(\"cat3.jpg\")\n",
    "\n",
    "# Get the RGBA value of a pixel at coordinates (x, y)\n",
    "x = 100\n",
    "y = 200\n",
    "rgba_value = image.getpixel((x, y))\n",
    "\n",
    "print(rgba_value)"
   ]
  },
  {
   "cell_type": "markdown",
   "id": "185bf687",
   "metadata": {},
   "source": [
    "#### 3. What is a box tuple, and how does it work?\n",
    "**Ans:** A box tuple is a tuple that represents a rectangular region in an image. It consists of four values: (left, upper, right, lower), where left and upper define the coordinates of the top-left corner of the box, and right and lower define the coordinates of the bottom-right corner of the box. "
   ]
  },
  {
   "cell_type": "markdown",
   "id": "2dd0185d",
   "metadata": {},
   "source": [
    "#### 4. Use your image and load in notebook then, How can you find out the width and height of an Image object?\n",
    "**Ans**: To find out the width and height of an Image object, you can use the size attribute"
   ]
  },
  {
   "cell_type": "code",
   "execution_count": 7,
   "id": "1b9e60eb",
   "metadata": {},
   "outputs": [
    {
     "name": "stdout",
     "output_type": "stream",
     "text": [
      "width: 500 ,height: 414\n"
     ]
    }
   ],
   "source": [
    "from PIL import Image\n",
    "\n",
    "image = Image.open(\"cat3.jpg\")\n",
    "width, height = image.size\n",
    "print(f'width: {width} ,height: {height}')"
   ]
  },
  {
   "cell_type": "markdown",
   "id": "efc289ab",
   "metadata": {},
   "source": [
    "#### 5. What method would you call to get Image object for a 100×100 image, excluding the lower-left quarter of it?\n",
    "**Ans** : To get an Image object for a 100x100 image, excluding the lower-left quarter, you can use the crop() method followed by the resize() method. "
   ]
  },
  {
   "cell_type": "code",
   "execution_count": 14,
   "id": "4a82a38a",
   "metadata": {},
   "outputs": [],
   "source": [
    "from PIL import Image\n",
    "\n",
    "image = Image.open(\"cat3.jpg\")\n",
    "width, height = image.size\n",
    "\n",
    "x1 = width // 2 \n",
    "y1 = height // 2  \n",
    "x2 = width \n",
    "y2 = height \n",
    "\n",
    "cropped_image = image.crop((x1, y1, x2, y2))  # Exclude the lower-left quarter\n",
    "resized_image = cropped_image.resize((100, 100)) \n",
    "\n",
    "resized_image.show()"
   ]
  },
  {
   "cell_type": "markdown",
   "id": "0ffd911b",
   "metadata": {},
   "source": [
    "#### 6. After making changes to an Image object, how could you save it as an image file?\n",
    "**Ans** :After making changes to an Image object, you can save it as an image file using the save() method"
   ]
  },
  {
   "cell_type": "code",
   "execution_count": 15,
   "id": "e5939016",
   "metadata": {},
   "outputs": [],
   "source": [
    "#Example Program\n",
    "from PIL import Image\n",
    "resized_image.save('cropped_image.jpg')"
   ]
  },
  {
   "cell_type": "markdown",
   "id": "5ad56500",
   "metadata": {},
   "source": [
    "#### 7. What module contains Pillow’s shape-drawing code?\n",
    "**Ans:** Pillows **`ImageDraw`** module contains Shape drawing methods"
   ]
  },
  {
   "cell_type": "markdown",
   "id": "2a09c289",
   "metadata": {},
   "source": [
    "#### 8. Image objects do not have drawing methods. What kind of object does? How do you get this kind of object?\n",
    "**Ans:** The `ImageDraw.Draw `object provides methods such as `line(), rectangle(), ellipse(), polygon(), text(), etc.,` to draw various shapes on the image."
   ]
  },
  {
   "cell_type": "code",
   "execution_count": null,
   "id": "21cab00b",
   "metadata": {},
   "outputs": [],
   "source": []
  }
 ],
 "metadata": {
  "kernelspec": {
   "display_name": "Python 3 (ipykernel)",
   "language": "python",
   "name": "python3"
  },
  "language_info": {
   "codemirror_mode": {
    "name": "ipython",
    "version": 3
   },
   "file_extension": ".py",
   "mimetype": "text/x-python",
   "name": "python",
   "nbconvert_exporter": "python",
   "pygments_lexer": "ipython3",
   "version": "3.9.7"
  }
 },
 "nbformat": 4,
 "nbformat_minor": 5
}
