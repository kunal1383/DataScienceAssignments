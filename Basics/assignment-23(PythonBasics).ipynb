{
 "cells": [
  {
   "cell_type": "markdown",
   "id": "cbe5add1",
   "metadata": {},
   "source": [
    "#### 1. What is the result of the code, and why?\n",
    "`>>> def func(a, b=6, c=8):`   \n",
    "`print(a, b, c)`   \n",
    "`>>> func(1, 2)`   \n",
    "\n",
    "**Ans:** The code will print: 1 2 8\n",
    "\n",
    "When calling the function func(1, 2), the value 1 is assigned to the parameter a, the value 2 is assigned to the parameter b, and since the parameter c is not provided, it takes its default value of 8."
   ]
  },
  {
   "cell_type": "code",
   "execution_count": 1,
   "id": "25277357",
   "metadata": {},
   "outputs": [
    {
     "name": "stdout",
     "output_type": "stream",
     "text": [
      "1 2 8\n"
     ]
    }
   ],
   "source": [
    "def func(a,b=6,c=8):\n",
    "    print(a,b,c)\n",
    "func(1,2)"
   ]
  },
  {
   "cell_type": "markdown",
   "id": "9fcdfe9e",
   "metadata": {},
   "source": [
    "#### 2. What is the result of this code, and why?\n",
    "`>>> def func(a, b, c=5):`  \n",
    "`print(a, b, c)`  \n",
    "`>>> func(1, c=3, b=2)`     \n",
    "\n",
    "**Ans:** The code will print: 1 2 3\n",
    "\n",
    "When calling the function func(1, c=3, b=2), the value 1 is assigned to the parameter  `a`, the value 3 is assigned to the parameter c, and the value 2 is assigned to the parameter b"
   ]
  },
  {
   "cell_type": "code",
   "execution_count": 2,
   "id": "dfb849ce",
   "metadata": {},
   "outputs": [
    {
     "name": "stdout",
     "output_type": "stream",
     "text": [
      "1 2 3\n"
     ]
    }
   ],
   "source": [
    "def func(a,b,c=5):\n",
    "    print(a,b,c)\n",
    "func(1,c=3,b=2)"
   ]
  },
  {
   "cell_type": "markdown",
   "id": "d030f9f1",
   "metadata": {},
   "source": [
    "#### 3. How about this code: what is its result, and why?\n",
    "`>>> def func(a, *pargs):`   \n",
    "`print(a, pargs)`   \n",
    "`>>> func(1, 2, 3)`   \n",
    "\n",
    "**Ans:** The code will print: 1 (2, 3)\n",
    "\n",
    "The parameter `a` receives the value 1, and the *pargs parameter is a tuple that collects any additional positional arguments passed to the function"
   ]
  },
  {
   "cell_type": "code",
   "execution_count": 3,
   "id": "82ddc925",
   "metadata": {},
   "outputs": [
    {
     "name": "stdout",
     "output_type": "stream",
     "text": [
      "1 (2, 3)\n"
     ]
    }
   ],
   "source": [
    "def func(a, *pargs):\n",
    "    print(a,pargs)\n",
    "func(1,2,3)"
   ]
  },
  {
   "cell_type": "markdown",
   "id": "c1c3848b",
   "metadata": {},
   "source": [
    "#### 4. What does this code print, and why?\n",
    "`>>> def func(a, **kargs):`   \n",
    "`print(a, kargs)`   \n",
    "`>>> func(a=1, c=3, b=2)` \n",
    "\n",
    "**Ans:** The code will print: 1 {'c': 3, 'b': 2}\n",
    "\n",
    "The parameter `a` receives the value 1, and the `**kargs` parameter is a dictionary that collects any additional keyword arguments passed to the function."
   ]
  },
  {
   "cell_type": "code",
   "execution_count": 4,
   "id": "53f34da6",
   "metadata": {},
   "outputs": [
    {
     "name": "stdout",
     "output_type": "stream",
     "text": [
      "1 {'c': 3, 'b': 2}\n"
     ]
    }
   ],
   "source": [
    "def func(a,**kargs):\n",
    "    print(a,kargs)\n",
    "func(a=1,c=3,b=2)"
   ]
  },
  {
   "cell_type": "markdown",
   "id": "473e1bdf",
   "metadata": {},
   "source": [
    "#### 5. What gets printed by this, and explain?\n",
    "`>>> def func(a, b, c=8, d=5): print(a, b, c, d)`   \n",
    "`>>> func(1, *(5, 6))`   \n",
    "\n",
    "    **Ans:** The code will print: 1 5 6 5\n",
    "    \n",
    "The parameter `a` receives the value 1, and the `*(5, 6)` syntax passes the values 5 and 6 as additional positional arguments. The values 5 and 6 are assigned to b and c respectively. The default value of d remains unchanged, which is 5."
   ]
  },
  {
   "cell_type": "code",
   "execution_count": 2,
   "id": "ab5de589",
   "metadata": {},
   "outputs": [
    {
     "name": "stdout",
     "output_type": "stream",
     "text": [
      "1 5 6 5\n"
     ]
    }
   ],
   "source": [
    "def func(a,b,c=8,d=5):\n",
    "    print(a,b,c,d)\n",
    "func(1,*(5,6))"
   ]
  },
  {
   "cell_type": "markdown",
   "id": "e6fd179c",
   "metadata": {},
   "source": [
    "#### 6. what is the result of this, and explain?\n",
    "`>>> def func(a, b, c): a = 2; b[0] = 'x'; c['a'] = 'y'`   \n",
    "`>>> l=1; m=[1]; n={'a':0}`   \n",
    "`>>> func(l, m, n)`   \n",
    "`>>> l, m, n`   \n",
    "**Ans:** The code will print: `1 ['x'] {'a': 'y'}`\n",
    "1. Eventhough Python gives importance to indentation. its provides a facility to declare an entire function in one single line. where statements in a function body are sepereated by `;`\n",
    "2. After executing the function func(l, m, n), the value of l remains unchanged since it is a simple integer and not modified within the function. The value of m, which is a list, is modified inside the function by changing its first element to 'x'. The value of n, which is a dictionary, is also modified inside the function by assigning the value 'y' to the key 'a'."
   ]
  },
  {
   "cell_type": "code",
   "execution_count": 3,
   "id": "3a23e9c9",
   "metadata": {},
   "outputs": [
    {
     "data": {
      "text/plain": [
       "(1, ['x'], {'a': 'y'})"
      ]
     },
     "execution_count": 3,
     "metadata": {},
     "output_type": "execute_result"
    }
   ],
   "source": [
    "def func(a, b, c): a = 2; b[0] = 'x'; c['a'] = 'y'\n",
    "l=1; m=[1]; n={'a':0}\n",
    "func(l, m, n)\n",
    "l,m,n"
   ]
  },
  {
   "cell_type": "code",
   "execution_count": null,
   "id": "ecd60204",
   "metadata": {},
   "outputs": [],
   "source": []
  }
 ],
 "metadata": {
  "kernelspec": {
   "display_name": "Python 3 (ipykernel)",
   "language": "python",
   "name": "python3"
  },
  "language_info": {
   "codemirror_mode": {
    "name": "ipython",
    "version": 3
   },
   "file_extension": ".py",
   "mimetype": "text/x-python",
   "name": "python",
   "nbconvert_exporter": "python",
   "pygments_lexer": "ipython3",
   "version": "3.9.7"
  }
 },
 "nbformat": 4,
 "nbformat_minor": 5
}
