{
 "cells": [
  {
   "cell_type": "markdown",
   "id": "5e4896b3",
   "metadata": {},
   "source": [
    "# Assignment 9 Solutions"
   ]
  },
  {
   "cell_type": "markdown",
   "id": "7a719726",
   "metadata": {},
   "source": [
    "#### 1.To what does a relative path refer ?\n",
    "**Ans:** A relative path refers to the path of a file or directory relative to the current working directory.  \n",
    "**For example:** if Absolute path to a file called example.txt is: `C:/users/admin/documents/example.txt` If my PWD is `C:/users/admin/` , then the relative path to `example.txt` would be: `documents/example.txt`       \n"
   ]
  },
  {
   "cell_type": "markdown",
   "id": "1e5a7601",
   "metadata": {},
   "source": [
    "#### 2.Where does an absolute path start with your Operating System ?\n",
    "**Ans:** In Linux based systems the absolute path starts with **`/`**. Where as in Windows based systems absolute path starts with **`C:`**"
   ]
  },
  {
   "cell_type": "markdown",
   "id": "20cf4bf7",
   "metadata": {},
   "source": [
    "#### 3.What does the functions `os.getcwd()` and `os.chdir()` do ?\n",
    "**Ans:** The `os.getcwd()` function returns the current working directory. Whereas `os.chdir()` method in Python used to change the current working directory to specified path. "
   ]
  },
  {
   "cell_type": "markdown",
   "id": "ef89a436",
   "metadata": {},
   "source": [
    "#### 4.What are `.` and `..`  folders ?\n",
    "**Ans:** The `.` (dot) folder refers to the current directory, while the `..` (double dot) folder refers to the parent directory."
   ]
  },
  {
   "cell_type": "markdown",
   "id": "dc9559e2",
   "metadata": {},
   "source": [
    "#### 5.In `C:\\bacon\\eggs\\spam.txt` which part is the dir name and which part is the base name ?\n",
    "**Ans:** For `C:\\bacon\\eggs\\spam.txt`  \n",
    "The dir name is `C:\\\\bacon\\\\eggs`  \n",
    "The Base name is `spam.txt`"
   ]
  },
  {
   "cell_type": "markdown",
   "id": "edb97d1b",
   "metadata": {},
   "source": [
    "#### 6.What are the three `mode` arguments that can be passed to the `open()` function ?\n",
    "**Ans:** A file can be Accessed in python using `open()` function. open function takes two arguments filename and mode of operation (optional). if mode is not provided the default mode of opening is read mode   \n",
    " syntax: **`open(filename, mode)`**\n",
    "* **`‘r’`** – Read Mode: This is the default mode for open(). The file is opened and a pointer is positioned at the beginning of the file’s content.\n",
    "* **`‘w’`** – Write Mode: Using this mode will overwrite any existing content in a file. If the given file does not exist, a new one will be created. \n",
    "* **`‘r+’`** – Read/Write Mode: Use this mode if you need to simultaneously read and write to a file.\n",
    "* **`‘a’`** – Append Mode: With this mode the user can append the data without overwriting any already existing data in the file. \n",
    "* **`‘a+’`** – Append and Read Mode: In this mode you can read and append the data without overwriting the original file.\n",
    "* **`‘x’`** – Exclusive Creating Mode: This mode is for the sole purpose of creating new files. Use this mode if you know the file to be written doesn’t exist beforehand."
   ]
  },
  {
   "cell_type": "markdown",
   "id": "a6250b7d",
   "metadata": {},
   "source": [
    "#### 7.What happens if an existing file is opened in write mode ?\n",
    "**Ans:** If an existing file is opened in write mode ('w'), the file's existing content is overwritten"
   ]
  },
  {
   "cell_type": "markdown",
   "id": "e76da392",
   "metadata": {},
   "source": [
    "#### 8.How do you tell the difference between `read()` and `readlines()` ?\n",
    "**Ans:** \n",
    "*  The read() method reads the entire contents of a file as a single string includingnewline characters ('\\n').If no argument is provided, it reads the entire file. If an optional argument size is specified, it reads up to size characters from the file.\n",
    "* The readlines() method reads the lines of a file and returns them as a list of strings. Each line in the file becomes a separate element in the list. "
   ]
  },
  {
   "cell_type": "markdown",
   "id": "9e161992",
   "metadata": {},
   "source": [
    "#### 9.What data structure does a shelf value resemble ?\n",
    "**Ans:** A `shelf` value in Python resembles a dictionary-like data structure. It is provided by the `shelve` module and allows you to store and retrieve key-value pairs."
   ]
  },
  {
   "cell_type": "code",
   "execution_count": null,
   "id": "c9312744",
   "metadata": {},
   "outputs": [],
   "source": []
  }
 ],
 "metadata": {
  "kernelspec": {
   "display_name": "Python 3 (ipykernel)",
   "language": "python",
   "name": "python3"
  },
  "language_info": {
   "codemirror_mode": {
    "name": "ipython",
    "version": 3
   },
   "file_extension": ".py",
   "mimetype": "text/x-python",
   "name": "python",
   "nbconvert_exporter": "python",
   "pygments_lexer": "ipython3",
   "version": "3.9.7"
  }
 },
 "nbformat": 4,
 "nbformat_minor": 5
}
