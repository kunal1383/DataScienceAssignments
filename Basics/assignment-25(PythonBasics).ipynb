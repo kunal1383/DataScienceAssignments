{
 "cells": [
  {
   "cell_type": "markdown",
   "id": "5aee2c7e",
   "metadata": {},
   "source": [
    "#### 1) . What is the difference between enclosing a list comprehension in square brackets and parentheses?\n",
    "**Ans:** Enclosing a list comprehension in square brackets returns a list.but where as enclosing a list comprehension in parentheses returns a `generator` object"
   ]
  },
  {
   "cell_type": "code",
   "execution_count": 1,
   "id": "b4745353-bbeb-46d7-bcab-9f81ab1914b5",
   "metadata": {},
   "outputs": [
    {
     "name": "stdout",
     "output_type": "stream",
     "text": [
      "[0, 1, 2, 3, 4, 5, 6, 7, 8, 9] <class 'list'>\n",
      "<generator object <genexpr> at 0x000002A88C422CF0> <class 'generator'>\n"
     ]
    }
   ],
   "source": [
    "list1 = [element for element in range(10)]\n",
    "print(list1, type(list1))\n",
    "gen = (element for element in range(10))\n",
    "print(gen, type(gen))"
   ]
  },
  {
   "cell_type": "markdown",
   "id": "43ead631",
   "metadata": {},
   "source": [
    "#### 2) What is the relationship between generators and iterators?\n",
    "**Ans:** An iterator is an object that implements the iterator protocol, which consists of the` __iter__()` method and the `__next__()` method. Iterators are used to traverse over a sequence of values or elements.\n",
    "Generators are a type of iterator, but they are defined using a special syntax and can be created using generator functions or generator expressions. Generator functions use the `yield` statement to generate values one at a time, allowing them to be paused and resumed. Generators provide a convenient way to create iterators by simplifying the process of implementing the iterator protocol."
   ]
  },
  {
   "cell_type": "code",
   "execution_count": 3,
   "id": "475ad9eb-18b8-4e3a-a246-86c341de25ad",
   "metadata": {
    "tags": []
   },
   "outputs": [
    {
     "name": "stdout",
     "output_type": "stream",
     "text": [
      "<class 'list_iterator'>\n",
      "iNeuron\n",
      "Full\n",
      "Stack\n",
      "Data Science\n",
      "<list_iterator object at 0x000002A88C877670>\n",
      "0\n",
      "1\n",
      "4\n",
      "9\n",
      "16\n"
     ]
    }
   ],
   "source": [
    "# Example of iterartor\n",
    "iter_str = iter(['iNeuron','Full','Stack','Data Science'])\n",
    "print(type(iter_str))\n",
    "print(next(iter_str))\n",
    "print(next(iter_str))\n",
    "print(next(iter_str))\n",
    "print(next(iter_str))\n",
    "print(iter_str) # After the iterable object is completed, to use them again we have reassign them to the same object.\n",
    "\n",
    "# Example of Generator\n",
    "def square_numbers(num):\n",
    "    for element in range(num):\n",
    "        yield element ** 2\n",
    "\n",
    "output = square_numbers(5)\n",
    "print(next(output))\n",
    "print(next(output))\n",
    "print(next(output))\n",
    "print(next(output))\n",
    "print(next(output))"
   ]
  },
  {
   "cell_type": "markdown",
   "id": "c4bd6bf0",
   "metadata": {},
   "source": [
    "#### 3) What are the signs that a function is a generator function?\n",
    "**Ans:** The signs that a function is a generator function is the presence of the `yield statement` within the function's body instead of a `return statement`. The `yield statement` is used to define generator functions in Python. When a generator function is called, it returns a `generator object` without executing the function's body immediately. Instead, the generator object can be iterated over using the `next() function` or a for loop."
   ]
  },
  {
   "cell_type": "markdown",
   "id": "b35dd5fe",
   "metadata": {},
   "source": [
    "#### 4) What is the purpose of a yield statement?\n",
    "**Ans:** The purpose of a yield statement is to define a point in a generator function where the function's execution is temporarily halted, and a value is yielded to the caller. The yield statement allows the generator function to produce a series of values over multiple iterations, without having to generate all the values at once and store them in memory. Each time the generator's next() method is called or a for loop iterates over the generator, the function resumes execution from where it left off, with all its variables and state intact. This makes generators memory-efficient."
   ]
  },
  {
   "cell_type": "markdown",
   "id": "d2182986",
   "metadata": {
    "tags": []
   },
   "source": [
    "#### 5) What is the relationship between map calls and list comprehensions? Make a comparison and contrast between the two ?\n",
    "**Ans:** The main differences between map calls and list comprehensiosn are:\n",
    "1. List comprehension is more concise and easier to read as compared to map.\n",
    "2. List comprehensions offer more flexibility and can include conditional statements and nested loops, allowing for more complex transformations. Map calls are more focused on applying a single function to each element of an iterable.\n",
    "3. List comprehensions are eager and generate the entire list in memory at once. In contrast, map calls are lazy and produce elements on-the-fly as needed. This can be advantageous when dealing with large datasets or infinite sequences, as it saves memory\n",
    "4. : List comprehensions return a new list containing the transformed elements, while map calls return a map object. To get the results as a list, the map object needs to be converted explicitly using the list() function.\n",
    "5. Map is faster in case of calling an already defined function on a set of values."
   ]
  },
  {
   "cell_type": "code",
   "execution_count": null,
   "id": "509c1d44",
   "metadata": {},
   "outputs": [],
   "source": []
  }
 ],
 "metadata": {
  "kernelspec": {
   "display_name": "Python 3 (ipykernel)",
   "language": "python",
   "name": "python3"
  },
  "language_info": {
   "codemirror_mode": {
    "name": "ipython",
    "version": 3
   },
   "file_extension": ".py",
   "mimetype": "text/x-python",
   "name": "python",
   "nbconvert_exporter": "python",
   "pygments_lexer": "ipython3",
   "version": "3.9.7"
  }
 },
 "nbformat": 4,
 "nbformat_minor": 5
}
