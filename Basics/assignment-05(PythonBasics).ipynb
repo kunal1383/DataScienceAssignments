{
 "cells": [
  {
   "cell_type": "markdown",
   "id": "ba2931b1",
   "metadata": {},
   "source": [
    "### 1. What does an empty dictionary's code look like?\n",
    "**Ans**:An empty dictionary is often represented by two empty curly brackets  \n",
    "`d = {}` or `d = dict()`"
   ]
  },
  {
   "cell_type": "markdown",
   "id": "fc93967d",
   "metadata": {},
   "source": [
    "### 2. What is the value of a dictionary value with the key 'foo' and the value 42?\n",
    "**Ans**: value is 42."
   ]
  },
  {
   "cell_type": "code",
   "execution_count": 1,
   "id": "263030e0",
   "metadata": {},
   "outputs": [
    {
     "name": "stdout",
     "output_type": "stream",
     "text": [
      "42\n"
     ]
    }
   ],
   "source": [
    "dict1 = {'foo': 42}\n",
    "value = dict1['foo']\n",
    "print(value)"
   ]
  },
  {
   "cell_type": "markdown",
   "id": "a636b0a5",
   "metadata": {},
   "source": [
    "### 3. What is the most significant distinction between a dictionary and a list?\n",
    "**Ans**:\n",
    "1. A list is an ordered collection of items where each item is assigned an index based on its position also it allow duplicate values. On the other hand, a dictionary is an unordered collection of key-value pairs.Each key is unique within the dictionary.\n",
    "2. In a list, elements are accessed using integer indices. For example, my_list[0] . In contrast, a dictionary uses keys to access values.For example, my_dict['key']"
   ]
  },
  {
   "cell_type": "markdown",
   "id": "1d6fbf01",
   "metadata": {},
   "source": [
    "### 4. What happens if you try to access spam['foo'] if spam is {'bar': 100}?\n",
    "**Ans**:We will get a keyError `KeyError: 'foo'`"
   ]
  },
  {
   "cell_type": "markdown",
   "id": "46359c0d",
   "metadata": {},
   "source": [
    "### 5. If a dictionary is stored in spam, what is the difference between the expressions 'cat' in spam and 'cat' in spam.keys()?\n",
    "**Ans**:\n",
    "* 'cat' in spam: This expression directly checks if the key 'cat' exists in the dictionary spam.\n",
    "* 'cat' in spam.keys(): This expression will first retrieves all the keys of the dictionary spam using the keys() method and then checks if 'cat' is present in the resulting list of keys."
   ]
  },
  {
   "cell_type": "markdown",
   "id": "c645569b",
   "metadata": {},
   "source": [
    "### 6. If a dictionary is stored in spam, what is the difference between the expressions 'cat' in spam and 'cat' in spam.values()?\n",
    "\n",
    "**Ans**:'cat' in spam this expression directly checks if the key 'cat' exists in the dictionary spam.'cat' in spam.values() this expression checks if 'cat' exists as a value in the dictionary spam."
   ]
  },
  {
   "cell_type": "markdown",
   "id": "fad53948",
   "metadata": {},
   "source": [
    "### 7. What is a shortcut for the following code?\n",
    "* if 'color' not in spam:\n",
    "* spam['color'] = 'black'\n",
    "\n",
    "**Ans**:`spam.setdefault('color','black')`"
   ]
  },
  {
   "cell_type": "markdown",
   "id": "d03d7eaf",
   "metadata": {},
   "source": [
    "### 8. How do you \"pretty print\" dictionary values using which module and function?\n",
    "**Ans**:\n",
    "we can pretty print a dictionary using three functions\n",
    "1. by using pprint() function of pprint module\n",
    "    * **Note:** pprint() function does not prettify nested dictionaries\n",
    "2. by using dumps() method of json module\n",
    "3. by using dumps() method of yaml module"
   ]
  },
  {
   "cell_type": "code",
   "execution_count": 4,
   "id": "62d7725b",
   "metadata": {},
   "outputs": [
    {
     "name": "stdout",
     "output_type": "stream",
     "text": [
      "Printing using print() function\n",
      " {'Name': 'John', 'Age': '27', 'Residence': {'Country': 'USA', 'City': 'New York'}}\n",
      "----------------------------------------------------------------------------------------------------\n",
      "Printing using pprint() funciton\n",
      "{'Age': '27',\n",
      " 'Name': 'John',\n",
      " 'Residence': {'City': 'New York', 'Country': 'USA'}}\n",
      "----------------------------------------------------------------------------------------------------\n",
      "Printing using dumps() method\n",
      " {\n",
      "    \"Name\": \"John\",\n",
      "    \"Age\": \"27\",\n",
      "    \"Residence\": {\n",
      "        \"Country\": \"USA\",\n",
      "        \"City\": \"New York\"\n",
      "    }\n",
      "}\n",
      "----------------------------------------------------------------------------------------------------\n",
      "Printing using dump() method\n",
      " Age: '27'\n",
      "Name: John\n",
      "Residence:\n",
      "  City: New York\n",
      "  Country: USA\n",
      "\n"
     ]
    }
   ],
   "source": [
    "my_dict = {'Name': 'John', 'Age': '27', 'Residence': {'Country':'USA', 'City': 'New York'}}\n",
    "print('Printing using print() function\\n',my_dict)\n",
    "print('--'*50)\n",
    "import pprint\n",
    "print('Printing using pprint() funciton')\n",
    "pprint.pprint(my_dict)\n",
    "print('--'*50)\n",
    "import json\n",
    "dump = json.dumps(my_dict, indent=4)\n",
    "print('Printing using dumps() method\\n', dump)\n",
    "print('--'*50)\n",
    "import yaml\n",
    "dump = yaml.dump(my_dict)\n",
    "print('Printing using dump() method\\n', dump)"
   ]
  },
  {
   "cell_type": "code",
   "execution_count": null,
   "id": "4f1ff0c1",
   "metadata": {},
   "outputs": [],
   "source": []
  },
  {
   "cell_type": "code",
   "execution_count": null,
   "id": "23d4e634",
   "metadata": {},
   "outputs": [],
   "source": []
  },
  {
   "cell_type": "code",
   "execution_count": null,
   "id": "8b1ff88d",
   "metadata": {},
   "outputs": [],
   "source": []
  },
  {
   "cell_type": "code",
   "execution_count": null,
   "id": "9e8aa66b",
   "metadata": {},
   "outputs": [],
   "source": []
  },
  {
   "cell_type": "code",
   "execution_count": null,
   "id": "1c2a3467",
   "metadata": {},
   "outputs": [],
   "source": []
  },
  {
   "cell_type": "code",
   "execution_count": null,
   "id": "e82b1961",
   "metadata": {},
   "outputs": [],
   "source": []
  },
  {
   "cell_type": "code",
   "execution_count": null,
   "id": "e17bc9a5",
   "metadata": {},
   "outputs": [],
   "source": []
  },
  {
   "cell_type": "code",
   "execution_count": null,
   "id": "defe752b",
   "metadata": {},
   "outputs": [],
   "source": []
  }
 ],
 "metadata": {
  "kernelspec": {
   "display_name": "Python 3 (ipykernel)",
   "language": "python",
   "name": "python3"
  },
  "language_info": {
   "codemirror_mode": {
    "name": "ipython",
    "version": 3
   },
   "file_extension": ".py",
   "mimetype": "text/x-python",
   "name": "python",
   "nbconvert_exporter": "python",
   "pygments_lexer": "ipython3",
   "version": "3.9.7"
  }
 },
 "nbformat": 4,
 "nbformat_minor": 5
}
