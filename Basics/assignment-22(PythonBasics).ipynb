{
 "cells": [
  {
   "cell_type": "markdown",
   "id": "a091ea5b",
   "metadata": {},
   "source": [
    "#### 1. What is the result of the code, and explain?\n",
    "`>>> X = 'iNeuron'`  \n",
    "`>>> def func():`  \n",
    "`    print(X)`  \n",
    "`>>> func()`  \n",
    "**Ans:** TThe code will print `iNeuron`. Inside the func() , when print(X) is called, it refers to the global variable X which has the value `iNeuron`."
   ]
  },
  {
   "cell_type": "code",
   "execution_count": 1,
   "id": "ee98b909",
   "metadata": {},
   "outputs": [
    {
     "name": "stdout",
     "output_type": "stream",
     "text": [
      "iNeuron\n"
     ]
    }
   ],
   "source": [
    "X = 'iNeuron'\n",
    "def func():\n",
    "    print(X)\n",
    "func()"
   ]
  },
  {
   "cell_type": "markdown",
   "id": "ef65e0b3",
   "metadata": {},
   "source": [
    "#### 2. What is the result of the code, and explain?\n",
    "`>>> X = 'iNeuron'`  \n",
    "`>>> def func():`  \n",
    "`X = 'NI!'`  \n",
    "`>>> func()`  \n",
    "`>>> print(X)`  \n",
    "**Ans:** The code will print `iNeuron`. Inside the func(), a new local variable X is created and assigned the value `NI!`. However, this local variable X is different from the global variable X. So, when print(X) is called outside the function, it refers to the global variable X which still has the value `iNeuron`."
   ]
  },
  {
   "cell_type": "code",
   "execution_count": 4,
   "id": "8f219394",
   "metadata": {},
   "outputs": [
    {
     "name": "stdout",
     "output_type": "stream",
     "text": [
      "iNeuron\n"
     ]
    }
   ],
   "source": [
    "X = 'iNeuron'\n",
    "def func():\n",
    "    X = 'NI!'\n",
    "    \n",
    "func()\n",
    "print(X)"
   ]
  },
  {
   "cell_type": "markdown",
   "id": "952c9d0e",
   "metadata": {},
   "source": [
    "#### 3. What does this code print, and why?\n",
    "`>>> X = 'iNeuron'`  \n",
    "`>>> def func():`  \n",
    "`X = 'NI'`  \n",
    "`print(X)`  \n",
    "`>>> func()`  \n",
    "`>>> print(X)`   \n",
    "**Ans:** The code will print `NI` and `iNeuron`. Inside the func(), a new local variable X is created and assigned the value `NI`. When print(X) is called inside the function, it refers to the local variable X. Outside the function, when print(X) is called, it refers to the global variable X which has the value `iNeuron`.\n",
    "\n"
   ]
  },
  {
   "cell_type": "code",
   "execution_count": 3,
   "id": "cabebabc",
   "metadata": {},
   "outputs": [
    {
     "name": "stdout",
     "output_type": "stream",
     "text": [
      "NI\n",
      "iNeuron\n"
     ]
    }
   ],
   "source": [
    "X = 'iNeuron'\n",
    "def func():\n",
    "    X = 'NI'\n",
    "    print(X)\n",
    "func()\n",
    "print(X)"
   ]
  },
  {
   "cell_type": "markdown",
   "id": "905d8b7b",
   "metadata": {},
   "source": [
    "#### 4. What output does this code produce? Why?\n",
    "`>>> X = 'iNeuron'`   \n",
    "`>>> def func():`   \n",
    "`global X`   \n",
    "`X = 'NI'`   \n",
    "`>>> func()`   \n",
    "`>>> print(X)`   \n",
    "**Ans:** The code will print `NI`. Inside the func(), the global keyword is used to indicate that the variable X being assigned refers to the global variable X instead of creating a new local variable. So, when func() is called and then print(X) is called, it refers to the  global variable X which now has the value `NI`."
   ]
  },
  {
   "cell_type": "code",
   "execution_count": 5,
   "id": "64e260a6",
   "metadata": {},
   "outputs": [
    {
     "name": "stdout",
     "output_type": "stream",
     "text": [
      "NI\n"
     ]
    }
   ],
   "source": [
    "X = 'iNeuron'\n",
    "def func():\n",
    "    global X\n",
    "    X = 'NI'\n",
    "func()\n",
    "print(X)"
   ]
  },
  {
   "cell_type": "markdown",
   "id": "1c755c9f",
   "metadata": {},
   "source": [
    "#### 5. What about this code—what’s the output, and why?\n",
    "`>>> X = 'iNeuron'`   \n",
    "`>>> def func():`   \n",
    "`X = 'NI'`   \n",
    "`def nested():`   \n",
    "`print(X)`   \n",
    "`nested()`   \n",
    "`>>> func()`   \n",
    "`>>> X`   \n",
    "**Ans:** The code will print `NI` and then `iNeuron`. Inside the func(), a local variable X is created and assigned the value `NI`. When the nested function nested() is called and print(X) is executed inside it, it refers to the variable X in the enclosing func() function scope. Since X is not defined in the scope of nested(), it looks for the nearest enclosing scope where X is defined, which is the func() function scope. Therefore, it prints `NI` and then variable X is called which print `iNeuron`."
   ]
  },
  {
   "cell_type": "code",
   "execution_count": 7,
   "id": "9fd84bb5",
   "metadata": {},
   "outputs": [
    {
     "name": "stdout",
     "output_type": "stream",
     "text": [
      "NI\n"
     ]
    },
    {
     "data": {
      "text/plain": [
       "'iNeuron'"
      ]
     },
     "execution_count": 7,
     "metadata": {},
     "output_type": "execute_result"
    }
   ],
   "source": [
    "X = 'iNeuron'\n",
    "def func():\n",
    "    X = 'NI'\n",
    "    def nested():\n",
    "        print(X)\n",
    "    nested()\n",
    "func()\n",
    "X"
   ]
  },
  {
   "cell_type": "markdown",
   "id": "f8c745c5",
   "metadata": {},
   "source": [
    "#### 6. How about this code: what is its output in Python 3, and explain?\n",
    "`>>> def func():`  \n",
    "`X = 'NI'`  \n",
    "`def nested():`  \n",
    "`nonlocal X`  \n",
    "`X = 'Spam'`  \n",
    "`nested()`  \n",
    "`print(X)`  \n",
    "`>>> func()`  \n",
    "**Ans:** The code will print `Spam`. Inside the func() , a local variable X is created and assigned the value `NI`. The nonlocal keyword is used to indicate that the variable X being assigned refers to the variable in the nearest enclosing scope that is not global. In this case, it refers to the variable X in the func() function scope. When the nested() function is called and print(X) is executed inside it, it refers to the variable X in the func() function scope, which has been modified to `Spam` by the nested() function. Therefore, it prints `Spam`."
   ]
  },
  {
   "cell_type": "code",
   "execution_count": 8,
   "id": "9fab6b46",
   "metadata": {},
   "outputs": [
    {
     "name": "stdout",
     "output_type": "stream",
     "text": [
      "Spam\n"
     ]
    }
   ],
   "source": [
    "def func():\n",
    "    X = 'NI'\n",
    "    def nested():\n",
    "        nonlocal X\n",
    "        X = 'Spam'\n",
    "    nested()\n",
    "    print(X)\n",
    "func()"
   ]
  },
  {
   "cell_type": "code",
   "execution_count": null,
   "id": "d174aa50",
   "metadata": {},
   "outputs": [],
   "source": []
  }
 ],
 "metadata": {
  "kernelspec": {
   "display_name": "Python 3 (ipykernel)",
   "language": "python",
   "name": "python3"
  },
  "language_info": {
   "codemirror_mode": {
    "name": "ipython",
    "version": 3
   },
   "file_extension": ".py",
   "mimetype": "text/x-python",
   "name": "python",
   "nbconvert_exporter": "python",
   "pygments_lexer": "ipython3",
   "version": "3.9.7"
  }
 },
 "nbformat": 4,
 "nbformat_minor": 5
}
