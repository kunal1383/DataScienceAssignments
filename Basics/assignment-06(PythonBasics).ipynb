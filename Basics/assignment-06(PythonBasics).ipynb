{
 "cells": [
  {
   "cell_type": "markdown",
   "id": "5754396e",
   "metadata": {},
   "source": [
    "### 1. What are escape characters, and how do you use them?\n",
    "**Ans**:\n",
    "Escape characters are special characters that are used to represent certain non-printable or special characters within a string. They are denoted using backslash (\\) .eg `\\n` ,`\\t` ,`\\\\`"
   ]
  },
  {
   "cell_type": "markdown",
   "id": "56e7ea1f",
   "metadata": {},
   "source": [
    "### 2. What do the escape characters n and t stand for?\n",
    "**Ans**:`\\n` is a newline, `\\t` is a tab"
   ]
  },
  {
   "cell_type": "markdown",
   "id": "abd33ccf",
   "metadata": {},
   "source": [
    "### 3. What is the way to include backslash characters in a string?\n",
    "**Ans**:To include a backslash character (`\\`) itself in a string, you can use the escape character `\\\\`."
   ]
  },
  {
   "cell_type": "markdown",
   "id": "8cb635cb",
   "metadata": {},
   "source": [
    "\n",
    "### 4. The string \"Howl's Moving Castle\" is a correct value. Why isn't the single quote character in the word Howl's not escaped a problem?\n",
    "**Ans**:In the string \"Howl's Moving Castle\", the single quote character in the word \"Howl's\" is not causing a problem because the string is enclosed in double quotes (\").If we had wrapped the sentence in single qutoes then we need to use escape charater `\\'`.`'Howl\\'s Moving Castle'` **`->`** `'Howl's Moving Castle'`"
   ]
  },
  {
   "cell_type": "markdown",
   "id": "322ca3c9",
   "metadata": {},
   "source": [
    "### 5. How do you write a string of newlines if you don't want to use the n character?\n",
    "**Ans**:By using multiline string literals. You can use triple quotes (\"\"\" or ''') to create multiline string literals."
   ]
  },
  {
   "cell_type": "code",
   "execution_count": 2,
   "id": "c1d8a171",
   "metadata": {},
   "outputs": [
    {
     "name": "stdout",
     "output_type": "stream",
     "text": [
      "This is first line.\n",
      "This is second line.\n"
     ]
    }
   ],
   "source": [
    "line = \"\"\"This is first line.\n",
    "This is second line.\"\"\"\n",
    "print(line)"
   ]
  },
  {
   "cell_type": "markdown",
   "id": "0a5dc586",
   "metadata": {},
   "source": [
    "### 6. What are the values of the given expressions?\n",
    "* 'Hello, world!'[1]\n",
    "* 'Hello, world!'[0:5]\n",
    "* 'Hello, world!'[:5]\n",
    "* 'Hello, world!'[3:]\n",
    "\n",
    "\n",
    "**Ans**:The values for the given expressions are:  \n",
    "* 'Hello, world!'[1] **`->`**  `'e'`  \n",
    "* 'Hello, world!'[0:5] **`->`**  `'Hello'`  \n",
    "* 'Hello, world!'[:5] **`->`**  `'Hello'`  \n",
    "* 'Hello, world!'[3:] **`->`**  `'lo, world!'`"
   ]
  },
  {
   "cell_type": "markdown",
   "id": "3d1f3f3a",
   "metadata": {},
   "source": [
    "### 7. What are the values of the following expressions?\n",
    "* 'Hello'.upper()\n",
    "* 'Hello'.upper().isupper()\n",
    "* 'Hello'.upper().lower()\n",
    "\n",
    "**Ans**:\n",
    "* 'Hello'.upper(): The upper() method converts all characters in the string to uppercase. so output will be \"HELLO\".\n",
    "* 'Hello'.upper().isupper(): Here we chain two methods .First upper() method converts all characters in the string to uppercase \"HELLO\".Then isupper() method returns True if all characters in the string are uppercase.So output is 'TRUE'\n",
    "* 'Hello'.upper().lower(): It first convert  all characters in the string to uppercase, then lower() method coverts  all characters in the string to lowercase. so output is 'hello'."
   ]
  },
  {
   "cell_type": "markdown",
   "id": "8f8dba34",
   "metadata": {},
   "source": [
    "### 8. What are the values of the following expressions?\n",
    "* 'Remember, remember, the fifth of July.'.split()\n",
    "* '-'.join('There can only one.'.split())\n",
    "\n",
    "**Ans**:The values for the given expressions are:  \n",
    "'Remember, remember, the fifith of July.'.split()  **`->`** `['Remember,', 'remember,', 'the', 'fifith', 'of', 'July.']`  \n",
    "'-'.join('There can only one'.split()) **`->`** `'There-can-only-one'` "
   ]
  },
  {
   "cell_type": "markdown",
   "id": "00018b6b",
   "metadata": {},
   "source": [
    "### 9. What are the methods for right-justifying, left-justifying, and centering a string?\n",
    "**Ans**:The `rjust()`,`ljust()`,`center()` string methods, respectively"
   ]
  },
  {
   "cell_type": "markdown",
   "id": "9aba35bf",
   "metadata": {},
   "source": [
    "### 10. What is the best way to remove whitespace characters from the start or end?\n",
    "**Ans**:The best way to remove whitespace characters from the start or end of a string in Python is by using the `strip()` method. we can also use `lstrip()` and `rstrip()` methods remove whitesapce characters from the left and right ends of a string respectively.\n"
   ]
  },
  {
   "cell_type": "code",
   "execution_count": null,
   "id": "74ece1f7",
   "metadata": {},
   "outputs": [],
   "source": []
  },
  {
   "cell_type": "code",
   "execution_count": null,
   "id": "7717e877",
   "metadata": {},
   "outputs": [],
   "source": []
  },
  {
   "cell_type": "code",
   "execution_count": null,
   "id": "29344bcf",
   "metadata": {},
   "outputs": [],
   "source": []
  },
  {
   "cell_type": "code",
   "execution_count": null,
   "id": "0ee08148",
   "metadata": {},
   "outputs": [],
   "source": []
  },
  {
   "cell_type": "code",
   "execution_count": null,
   "id": "690d7758",
   "metadata": {},
   "outputs": [],
   "source": []
  },
  {
   "cell_type": "code",
   "execution_count": null,
   "id": "e6ad57b8",
   "metadata": {},
   "outputs": [],
   "source": []
  },
  {
   "cell_type": "code",
   "execution_count": null,
   "id": "4b627ce3",
   "metadata": {},
   "outputs": [],
   "source": []
  },
  {
   "cell_type": "code",
   "execution_count": null,
   "id": "58a40ff8",
   "metadata": {},
   "outputs": [],
   "source": []
  },
  {
   "cell_type": "code",
   "execution_count": null,
   "id": "dfbe4dfc",
   "metadata": {},
   "outputs": [],
   "source": []
  },
  {
   "cell_type": "code",
   "execution_count": null,
   "id": "ebff5e7d",
   "metadata": {},
   "outputs": [],
   "source": []
  },
  {
   "cell_type": "code",
   "execution_count": null,
   "id": "e0677c65",
   "metadata": {},
   "outputs": [],
   "source": []
  },
  {
   "cell_type": "code",
   "execution_count": null,
   "id": "8efa260b",
   "metadata": {},
   "outputs": [],
   "source": []
  },
  {
   "cell_type": "code",
   "execution_count": null,
   "id": "34fc11d7",
   "metadata": {},
   "outputs": [],
   "source": []
  },
  {
   "cell_type": "code",
   "execution_count": null,
   "id": "fca6f5a7",
   "metadata": {},
   "outputs": [],
   "source": []
  },
  {
   "cell_type": "code",
   "execution_count": null,
   "id": "adba0069",
   "metadata": {},
   "outputs": [],
   "source": []
  },
  {
   "cell_type": "code",
   "execution_count": null,
   "id": "6a4043e2",
   "metadata": {},
   "outputs": [],
   "source": []
  }
 ],
 "metadata": {
  "kernelspec": {
   "display_name": "Python 3 (ipykernel)",
   "language": "python",
   "name": "python3"
  },
  "language_info": {
   "codemirror_mode": {
    "name": "ipython",
    "version": 3
   },
   "file_extension": ".py",
   "mimetype": "text/x-python",
   "name": "python",
   "nbconvert_exporter": "python",
   "pygments_lexer": "ipython3",
   "version": "3.9.7"
  }
 },
 "nbformat": 4,
 "nbformat_minor": 5
}
