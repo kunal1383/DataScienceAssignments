{
 "cells": [
  {
   "cell_type": "markdown",
   "id": "20a75f46",
   "metadata": {},
   "source": [
    "### 1.What are the two values of the Boolean data type? How do you write them?\n",
    "\n",
    "Ans:The two values of boolean data type are \"True\" and \"Flase\". Both True and False should have the first letter in   uppercase and rest in lowercase"
   ]
  },
  {
   "cell_type": "markdown",
   "id": "38c2d7a8",
   "metadata": {},
   "source": [
    "### 2.What are the three different types of Boolean operators?\n",
    "\n",
    "Ans:The three different tpyes of Boolean operators are \"and\" ,\"or\" and \"not\"."
   ]
  },
  {
   "cell_type": "markdown",
   "id": "ae840203",
   "metadata": {},
   "source": [
    "### 3.Make a list of each Boolean operator's truth tables (i.e. every possible combination of Boolean values for the operator and what it evaluate ).\n",
    "\n",
    "Ans :\n",
    "   **AND operator:**<br>\n",
    "    1.True and True is True   \n",
    "    2.True and False is False  \n",
    "    3.False and True is False  \n",
    "    4.False and False is False <br>\n",
    "    **OR operator:**<br>\n",
    "    1.True or True is True   \n",
    "    2.True or False is True  \n",
    "    3.False or True is True  \n",
    "    4.False or False is False<br>\n",
    "    **NOT operator:**<br>\n",
    "    1.not(True) is Flase<br>\n",
    "    2.not(False) is True"
   ]
  },
  {
   "cell_type": "markdown",
   "id": "1ce80826",
   "metadata": {},
   "source": [
    "#### 4. What are the values of the following expressions ?\n",
    "* (5 &gt; 4) and (3 == 5)  \n",
    "* not (5 &gt; 4)  \n",
    "* (5 &gt; 4) or (3 == 5)  \n",
    "* not ((5 &gt; 4) or (3 == 5))  \n",
    "* (True and True) and (True == False)  \n",
    "* (not False) or (not True)  \n",
    "\n",
    "Ans :\n",
    "    (5 > 4) and (3 == 5) : False  <br>\n",
    "    not (5 > 4)  : Fasle          <br>\n",
    "    (5 > 4) or (3 == 5) :True    <br>\n",
    "    not ((5 > 4) or (3 == 5)) :Fasle   <br>\n",
    "    (True and True) and (True == False) :Fasle  <br>\n",
    "    (not False) or (not True) : True  <br>\n"
   ]
  },
  {
   "cell_type": "code",
   "execution_count": 6,
   "id": "5f8c9476",
   "metadata": {},
   "outputs": [
    {
     "name": "stdout",
     "output_type": "stream",
     "text": [
      "False\n",
      "False\n",
      "True\n",
      "False\n",
      "False\n",
      "True\n"
     ]
    }
   ],
   "source": [
    "print((5 > 4) and (3 == 5))\n",
    "print(not (5 > 4))\n",
    "print((5 > 4) or (3 == 5))\n",
    "print(not ((5 > 4) or (3 == 5)))\n",
    "print((True and True) and (True == False))\n",
    "print((not False) or (not True))"
   ]
  },
  {
   "cell_type": "markdown",
   "id": "aef73533",
   "metadata": {},
   "source": [
    "### 5. What are the six comparison operators?\n",
    "Ans : \n",
    "   The following are the six comparison operators: <br>\n",
    "      1. `==` :equal to  <br>\n",
    "      2. `!=` : not equal to <br>\n",
    "      3. `>`  : greater than <br>\n",
    "      4. `<`  : less than <br>\n",
    "      5. `>=` : greater than or equal to <br>\n",
    "      6. `<=` : less than or equal to<br>"
   ]
  },
  {
   "cell_type": "markdown",
   "id": "573c5f7e",
   "metadata": {},
   "source": [
    "### 6. How do you tell the difference between the equal to and assignment operators?Describe a condition and when you would use one.\n",
    "\n",
    "\n",
    "Ans : Equal to operator has two equal signs `==` where as assignment operator is a single equal sign `=`\n",
    "      The assigment operator `=` is used to assign values to variable `x = 10` whereas equal to `==` operator is used to         compare to two values and return a Boolean value indicating whether they are equal or not eg `x == 10`. \n"
   ]
  },
  {
   "cell_type": "code",
   "execution_count": 7,
   "id": "9ec91302",
   "metadata": {},
   "outputs": [
    {
     "name": "stdout",
     "output_type": "stream",
     "text": [
      "x is equal to 10\n"
     ]
    }
   ],
   "source": [
    "x= 10 \n",
    "if x == 10 :\n",
    "    print(\"x is equal to 10\")\n",
    "else :\n",
    "    print(\"x is not equal to 10\")"
   ]
  },
  {
   "cell_type": "markdown",
   "id": "2d435e16",
   "metadata": {},
   "source": [
    "### 7. Identify the three blocks in this code:\n",
    "spam = 0  \n",
    "if spam == 10:  \n",
    "print('eggs')  \n",
    "if spam > 5:  \n",
    "print('bacon')  \n",
    "else:  \n",
    "print('ham')  \n",
    "print('spam')  \n",
    "print('spam')\n",
    "\n",
    "Ans :\n",
    "     In Python, a block of code is a set of statements that are indented under the same parent statement, such as an if          statement, while loop, for loop, function, or class.\n",
    "     \n",
    "     --first block of code--\n",
    "         spam = 0  \n",
    "     \n",
    "     --second block of code---\n",
    "         if spam == 10:  \n",
    "            print('eggs')  \n",
    "         if spam > 5:  \n",
    "            print('bacon')  \n",
    "         else:  \n",
    "            print('ham') \n",
    "     \n",
    "     ---third block of code--\n",
    "         print('spam')  \n",
    "         print('spam')\n",
    "     \n"
   ]
  },
  {
   "cell_type": "markdown",
   "id": "491bd968",
   "metadata": {},
   "source": [
    "### 8. Write code that prints Hello if 1 is stored in spam, prints Howdy if 2 is stored in spam, and prints Greetings! if anything else is stored in spam.\n"
   ]
  },
  {
   "cell_type": "code",
   "execution_count": 8,
   "id": "92fde136",
   "metadata": {},
   "outputs": [
    {
     "name": "stdout",
     "output_type": "stream",
     "text": [
      "Hello\n",
      "Howdy\n",
      "Greetings\n"
     ]
    }
   ],
   "source": [
    "#Answer to  Question 8 \n",
    "def spamCode(spam):\n",
    "    try :\n",
    "        if spam == 1:\n",
    "            print(\"Hello\")\n",
    "        elif spam == 2:\n",
    "            print(\"Howdy\")\n",
    "        else:\n",
    "            print(\"Greetings\")\n",
    "    except e:\n",
    "        print(e)\n",
    "spamCode(1)\n",
    "spamCode(2)\n",
    "spamCode(\"Hi\")"
   ]
  },
  {
   "cell_type": "markdown",
   "id": "cd17b5b3",
   "metadata": {},
   "source": [
    "### 9.If your programme is stuck in an endless loop, what keys you’ll press?\n",
    "Ans : Press `Ctrl + c` to stop a program ."
   ]
  },
  {
   "cell_type": "markdown",
   "id": "f7b03be2",
   "metadata": {},
   "source": [
    "### 10. How can you tell the difference between break and continue?\n",
    "Ans : \"break\" and \"continue\" are both control flow statements but work differently form one another.\n",
    "      \"break\" is used to terminate the loop whereas \"continue\" is used to skip over the current iteration of a loop and            move on to the next iteration."
   ]
  },
  {
   "cell_type": "markdown",
   "id": "083ec81f",
   "metadata": {},
   "source": [
    "### 11. In a for loop, what is the difference between range(10), range(0, 10), and range(0, 10, 1)?\n",
    "\n",
    "Ans :\n",
    "     range(10): This specifies a range which starts with 0 and goes upto 10 (not including 10 )<br>\n",
    "    range(0,10) : Output of range(0,10) is similar to above but here we are telling it where to start                                         specifically.range(start,end)<br>\n",
    "    range(0,10,1) : This also has same output but here we are also including the step size. step size is the amount by                         which the next value is incremented or decremented<br>"
   ]
  },
  {
   "cell_type": "markdown",
   "id": "b75d357f",
   "metadata": {},
   "source": [
    "### 12. Write a short program that prints the numbers 1 to 10 using a for loop. Then write an equivalent program that prints the numbers 1 to 10 using a while loop.\n"
   ]
  },
  {
   "cell_type": "code",
   "execution_count": 9,
   "id": "17090681",
   "metadata": {},
   "outputs": [
    {
     "name": "stdout",
     "output_type": "stream",
     "text": [
      "---------- For Loop ----------\n",
      "1 2 3 4 5 6 7 8 9 10 \n",
      "\n",
      "---------- while Loop ----------\n",
      "1 2 3 4 5 6 7 8 9 10 "
     ]
    }
   ],
   "source": [
    "# Ans to question 12\n",
    "def printNumber():\n",
    "    print('-'*10,'For Loop','-'*10)\n",
    "    for i in range(1,11):\n",
    "        print(i ,end= \" \")\n",
    "    print(\"\\n\")\n",
    "    print('-'*10,'while Loop','-'*10)\n",
    "    i = 1\n",
    "    while(i <= 10):\n",
    "        print(i ,end= \" \")\n",
    "        i += 1\n",
    "        \n",
    "printNumber()        "
   ]
  },
  {
   "cell_type": "markdown",
   "id": "de491223",
   "metadata": {},
   "source": [
    "### 13. If you had a function named bacon() inside a module named spam, how would you call it after importing spam?\n",
    "Ans : we can call it as follows \"spam.bacon()\"."
   ]
  },
  {
   "cell_type": "code",
   "execution_count": null,
   "id": "356afe7c",
   "metadata": {},
   "outputs": [],
   "source": []
  },
  {
   "cell_type": "code",
   "execution_count": null,
   "id": "b8f00ed9",
   "metadata": {},
   "outputs": [],
   "source": []
  },
  {
   "cell_type": "code",
   "execution_count": null,
   "id": "5fe002a5",
   "metadata": {},
   "outputs": [],
   "source": []
  },
  {
   "cell_type": "code",
   "execution_count": null,
   "id": "ad36b582",
   "metadata": {},
   "outputs": [],
   "source": []
  },
  {
   "cell_type": "code",
   "execution_count": null,
   "id": "a40fff9e",
   "metadata": {},
   "outputs": [],
   "source": []
  },
  {
   "cell_type": "code",
   "execution_count": null,
   "id": "3e9dbac2",
   "metadata": {},
   "outputs": [],
   "source": []
  },
  {
   "cell_type": "code",
   "execution_count": null,
   "id": "e24108f2",
   "metadata": {},
   "outputs": [],
   "source": []
  },
  {
   "cell_type": "code",
   "execution_count": null,
   "id": "5315a5af",
   "metadata": {},
   "outputs": [],
   "source": []
  },
  {
   "cell_type": "code",
   "execution_count": null,
   "id": "aa94228f",
   "metadata": {},
   "outputs": [],
   "source": []
  },
  {
   "cell_type": "code",
   "execution_count": null,
   "id": "aab71644",
   "metadata": {},
   "outputs": [],
   "source": []
  },
  {
   "cell_type": "code",
   "execution_count": null,
   "id": "200ddb8d",
   "metadata": {},
   "outputs": [],
   "source": []
  },
  {
   "cell_type": "code",
   "execution_count": null,
   "id": "54059a12",
   "metadata": {},
   "outputs": [],
   "source": []
  },
  {
   "cell_type": "code",
   "execution_count": null,
   "id": "38f061d2",
   "metadata": {},
   "outputs": [],
   "source": []
  },
  {
   "cell_type": "code",
   "execution_count": null,
   "id": "704894ac",
   "metadata": {},
   "outputs": [],
   "source": []
  },
  {
   "cell_type": "code",
   "execution_count": null,
   "id": "0b970fec",
   "metadata": {},
   "outputs": [],
   "source": []
  },
  {
   "cell_type": "code",
   "execution_count": null,
   "id": "1dfa4e8e",
   "metadata": {},
   "outputs": [],
   "source": []
  },
  {
   "cell_type": "code",
   "execution_count": null,
   "id": "c48948e6",
   "metadata": {},
   "outputs": [],
   "source": []
  },
  {
   "cell_type": "code",
   "execution_count": null,
   "id": "47d0cdf2",
   "metadata": {},
   "outputs": [],
   "source": []
  },
  {
   "cell_type": "code",
   "execution_count": null,
   "id": "a61a0be0",
   "metadata": {},
   "outputs": [],
   "source": []
  },
  {
   "cell_type": "code",
   "execution_count": null,
   "id": "2215093e",
   "metadata": {},
   "outputs": [],
   "source": []
  },
  {
   "cell_type": "code",
   "execution_count": null,
   "id": "7de65527",
   "metadata": {},
   "outputs": [],
   "source": []
  },
  {
   "cell_type": "code",
   "execution_count": null,
   "id": "51e58b7d",
   "metadata": {},
   "outputs": [],
   "source": []
  },
  {
   "cell_type": "code",
   "execution_count": null,
   "id": "bfe02478",
   "metadata": {},
   "outputs": [],
   "source": []
  },
  {
   "cell_type": "code",
   "execution_count": null,
   "id": "97ab2b96",
   "metadata": {},
   "outputs": [],
   "source": []
  },
  {
   "cell_type": "code",
   "execution_count": null,
   "id": "dd329d20",
   "metadata": {},
   "outputs": [],
   "source": []
  },
  {
   "cell_type": "code",
   "execution_count": null,
   "id": "0ddb1b6c",
   "metadata": {},
   "outputs": [],
   "source": []
  },
  {
   "cell_type": "code",
   "execution_count": null,
   "id": "f263e971",
   "metadata": {},
   "outputs": [],
   "source": []
  },
  {
   "cell_type": "code",
   "execution_count": null,
   "id": "dcdd1ea1",
   "metadata": {},
   "outputs": [],
   "source": []
  },
  {
   "cell_type": "code",
   "execution_count": null,
   "id": "b4faadc8",
   "metadata": {},
   "outputs": [],
   "source": []
  },
  {
   "cell_type": "code",
   "execution_count": null,
   "id": "2e10167b",
   "metadata": {},
   "outputs": [],
   "source": []
  },
  {
   "cell_type": "code",
   "execution_count": null,
   "id": "4b14e3af",
   "metadata": {},
   "outputs": [],
   "source": []
  },
  {
   "cell_type": "code",
   "execution_count": null,
   "id": "783b007d",
   "metadata": {},
   "outputs": [],
   "source": []
  },
  {
   "cell_type": "code",
   "execution_count": null,
   "id": "88bae6de",
   "metadata": {},
   "outputs": [],
   "source": []
  }
 ],
 "metadata": {
  "kernelspec": {
   "display_name": "Python 3 (ipykernel)",
   "language": "python",
   "name": "python3"
  },
  "language_info": {
   "codemirror_mode": {
    "name": "ipython",
    "version": 3
   },
   "file_extension": ".py",
   "mimetype": "text/x-python",
   "name": "python",
   "nbconvert_exporter": "python",
   "pygments_lexer": "ipython3",
   "version": "3.9.7"
  }
 },
 "nbformat": 4,
 "nbformat_minor": 5
}
