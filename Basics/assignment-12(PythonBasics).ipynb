{
 "cells": [
  {
   "cell_type": "markdown",
   "id": "354c063f",
   "metadata": {},
   "source": [
    "#### 1. In what modes should the PdfFileReader() and PdfFileWriter() File objects will be opened?\n",
    "**Ans:** `The PdfFileReader()` and `PdfFileWriter() `File objects should be opened in `\"rb\"` (read binary) and `\"wb\"` (write binary) modes, respectively."
   ]
  },
  {
   "cell_type": "markdown",
   "id": "c1bd13eb",
   "metadata": {},
   "source": [
    "#### 2. From a PdfFileReader object, how do you get a Page object for page 5?\n",
    "**Ans:** **`PdfFileReader`** class provides a method called **`getPage(page_no)`** to get a page object."
   ]
  },
  {
   "cell_type": "markdown",
   "id": "ddc7d5e9",
   "metadata": {},
   "source": [
    "#### 3. What PdfFileReader variable stores the number of pages in the PDF document?\n",
    "**Ans:** The `PdfFileReader` variable that stores the number of pages in the PDF document is `numPages`"
   ]
  },
  {
   "cell_type": "markdown",
   "id": "b750ecda",
   "metadata": {},
   "source": [
    "#### 4. If a PdfFileReader object’s PDF is encrypted with the password swordfish, what must you do before you can obtain Page objects from it?\n",
    "**Ans:** If a **`PdfFileReader`** object’s PDF is encrypted with the password **`swordfish`** and you're not aware of it. first read the Pdf using the PdfFileReader Class. PdfFileReader class provides a attribute called **`isEncrypted`** to check whether a pdf is encrypted or not. the method returns true if a pdf is encrypted and vice versa.  \n",
    "If a PdfFileReader object's PDF is encrypted with the password \"swordfish\", you need to decrypt it by calling the **`decrypt()`** method on the PdfFileReader object and passing the password as an argument. For example: **`pdf_reader.decrypt(\"swordfish\").`**"
   ]
  },
  {
   "cell_type": "markdown",
   "id": "eb2989bf",
   "metadata": {},
   "source": [
    "#### 5. What methods do you use to rotate a page?\n",
    "**Ans:** PyPDF2 Package provides 2 methods to rotate a page:\n",
    "1. **`rotateClockWise()`** -> For Clockwise rotation\n",
    "2. **`rotateCounterClockWise()`** -> For Counter Clockwise rotation  \n",
    "\n",
    "The PyPDF2 package only allows you to rotate a page in increments of 90 degrees (90, 180 ,270 ). You will receive an AssertionError otherwise."
   ]
  },
  {
   "cell_type": "markdown",
   "id": "2b46fab1",
   "metadata": {},
   "source": [
    "#### 6. What is the difference between a Run object and a Paragraph object?\n",
    "**Ans:** A `Run` object represents a contiguous run of text with the same formatting in a `Paragraph`. It is a subset of a `Paragraph object `and can be used to apply specific formatting to that run of text. A `Paragraph object`, on the other hand, represents a single paragraph of text in a document."
   ]
  },
  {
   "cell_type": "markdown",
   "id": "4880f471",
   "metadata": {},
   "source": [
    "#### 7. How do you obtain a list of Paragraph objects for a Document object that’s stored in a variable named doc?\n",
    "**Ans** : To obtain a list of `Paragraph objects` for a Document object stored in a variable named `doc`, you can access the paragraphs attribute of the Document object. It will return a list of Paragraph objects representing each paragraph in the document."
   ]
  },
  {
   "cell_type": "code",
   "execution_count": null,
   "id": "51f2fe7f",
   "metadata": {},
   "outputs": [],
   "source": [
    "# Example Program\n",
    "from docx import Document\n",
    "doc = Document(\"sample_file.docx\") # Path of the Docx file\n",
    "print(doc.paragraphs) # Prints the list of Paragraph objects for a Document\n",
    "for paragraph in doc.paragraphs:\n",
    "    print(paragraph.text) # Prints the text in the paragraph"
   ]
  },
  {
   "cell_type": "markdown",
   "id": "4e696c59",
   "metadata": {},
   "source": [
    "#### 8. What type of object has bold, underline, italic, strike, and outline variables?\n",
    "**Ans:** **`Run`**  object has bold, underline, italic, strike, and outline variables. The text in a Word document is more than just a string. It has font, size, color, and other styling information associated with it.\n"
   ]
  },
  {
   "cell_type": "markdown",
   "id": "0ff87713",
   "metadata": {},
   "source": [
    "#### 9. What is the difference between False, True, and None for the bold variable?\n",
    "**Ans**:The bold variable can take three different values: `False, True, and None`. `False` means the text is` not bold`, `True` means the text is `bold`, and` None` means the bold setting is inherited from the `style hierarchy`."
   ]
  },
  {
   "cell_type": "markdown",
   "id": "7a280546",
   "metadata": {},
   "source": [
    "#### 10. How do you create a Document object for a new Word document?\n",
    "**Ans**:To create a Document object for a new Word document, you can use the `Document()` constructor without any arguments."
   ]
  },
  {
   "cell_type": "code",
   "execution_count": null,
   "id": "9a1d1970",
   "metadata": {},
   "outputs": [],
   "source": [
    "# Example Program\n",
    "from docx import Document\n",
    "document = Document()\n",
    "document.add_paragraph(\"iNeuron Full Stack DataScience Course\")\n",
    "document.save('mydocument.docx')"
   ]
  },
  {
   "cell_type": "markdown",
   "id": "0b9f5441",
   "metadata": {},
   "source": [
    "#### 11. How do you add a paragraph with the text 'Hello, there!' to a Document object stored in a variable named doc?\n",
    "**Ans**:To add a paragraph with the text `'Hello, there!'` to a Document object stored in a variable named doc, you can use the `add_paragraph()` method on the Document object. "
   ]
  },
  {
   "cell_type": "code",
   "execution_count": null,
   "id": "031fd95f",
   "metadata": {},
   "outputs": [],
   "source": [
    "# Example Program\n",
    "from docx import Document\n",
    "doc = Document()\n",
    "doc.add_paragraph('Hello, there!')\n",
    "doc.save('hello.docx')"
   ]
  },
  {
   "cell_type": "markdown",
   "id": "cfed7bb9",
   "metadata": {},
   "source": [
    "#### 12. What integers represent the levels of headings available in Word documents?\n",
    "**Ans:** In Word documents, the integers `1 to 9` represent the levels of headings available.` Heading 1` is represented by the `integer 1`, `Heading 2 by 2`, and so on up to `Heading 9`. These levels can be used to apply different formatting styles to the headings in a document."
   ]
  },
  {
   "cell_type": "code",
   "execution_count": null,
   "id": "c5e6ec8d",
   "metadata": {},
   "outputs": [],
   "source": []
  }
 ],
 "metadata": {
  "kernelspec": {
   "display_name": "Python 3 (ipykernel)",
   "language": "python",
   "name": "python3"
  },
  "language_info": {
   "codemirror_mode": {
    "name": "ipython",
    "version": 3
   },
   "file_extension": ".py",
   "mimetype": "text/x-python",
   "name": "python",
   "nbconvert_exporter": "python",
   "pygments_lexer": "ipython3",
   "version": "3.9.7"
  }
 },
 "nbformat": 4,
 "nbformat_minor": 5
}
