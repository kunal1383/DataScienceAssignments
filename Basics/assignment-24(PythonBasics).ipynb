{
 "cells": [
  {
   "cell_type": "markdown",
   "id": "3267a0e0",
   "metadata": {},
   "source": [
    "#### 1. What is the relationship between def statements and lambda expressions ?\n",
    "**Ans:** The relationship between def statements and lambda expressions is that they both define functions in Python, but they differ in their syntax and usage.\n",
    "`def statements` are used to define `named function`s with a block of code and a return statement. They allow for the creation of reusable and modular code by defining functions that can be called by their name.\n",
    "\n",
    "`Lambda expressions`, also known as `anonymous functions,` are defined using the `lambda` keyword. They are used to create small and concise functions without a name. Lambda expressions are typically used in situations where a function is needed temporarily or as an argument to a higher-order function."
   ]
  },
  {
   "cell_type": "markdown",
   "id": "e23f6be0",
   "metadata": {},
   "source": [
    "#### 2. What is the benefit of lambda?\n",
    "**Ans:** The benefit of lambda expressions is their ability to create simple and compact functions without the need for a full def statement. Some advantages of using lambda expressions include:\n",
    "\n",
    "1. Concise Syntax: Lambda expressions allow you to define functions in a single line of code, making the code more compact and readable.\n",
    "2. Anonymous Functions: Lambda expressions don't require a function name, which can be useful when creating functions that are only needed for a specific purpose or used as arguments to other functions.\n",
    "3. Function Composition: Lambda expressions can be combined with other functions such as map, filter, and reduce to create powerful and expressive code."
   ]
  },
  {
   "cell_type": "markdown",
   "id": "c0abb1a0",
   "metadata": {},
   "source": [
    "#### 3. Compare and contrast map, filter, and reduce.\n",
    "**Ans:** Map, filter, and reduce are built-in functions in Python for performing operations on iterables:\n",
    "\n",
    "1. map: The map function applies a given function to each element of an iterable and returns an iterator with the results. It is used to transform each element of a sequence based on a specified function.\n",
    "\n",
    "2. filter: The filter function creates an iterator from elements of an iterable that satisfy a specified condition. It is used to selectively filter out elements from a sequence based on a given predicate function.\n",
    "\n",
    "3. reduce: It is used to apply a specified function to the elements of an iterable, reducing them to a single value. "
   ]
  },
  {
   "cell_type": "code",
   "execution_count": 1,
   "id": "a96df72c",
   "metadata": {},
   "outputs": [
    {
     "name": "stdout",
     "output_type": "stream",
     "text": [
      "Map -> [2, 4, 6, 8]\n",
      "Filter -> [1, 3]\n",
      "Reduce -> 21\n"
     ]
    }
   ],
   "source": [
    "from functools import reduce\n",
    "# map function\n",
    "print('Map ->',list(map(lambda x:x+x, [1,2,3,4])))\n",
    "# fitler function\n",
    "print('Filter ->',list(filter(lambda x:x%2 !=0, [1,2,3,4])))\n",
    "# reduce function\n",
    "print('Reduce ->',reduce(lambda x,y:x+y, [1,2,3,4,5,6]))"
   ]
  },
  {
   "cell_type": "markdown",
   "id": "ed66668e",
   "metadata": {},
   "source": [
    "#### 4. What are function annotations, and how are they used?\n",
    "**Ans:** Function annotations in Python are a way to associate metadata or type hints with function arguments and return values. They are defined using the : syntax after the parameter or return type. \n",
    "Example in below code, the greet function takes two arguments: name of type `str `and age of type `int`. The function annotation ->` str` indicates that the function returns a string. "
   ]
  },
  {
   "cell_type": "code",
   "execution_count": 2,
   "id": "69b839ee",
   "metadata": {},
   "outputs": [
    {
     "name": "stdout",
     "output_type": "stream",
     "text": [
      "Hello, Alice! You are 25 years old.\n"
     ]
    }
   ],
   "source": [
    "def greet(name: str, age: int) -> str:\n",
    "    return f\"Hello, {name}! You are {age} years old.\"\n",
    "\n",
    "result = greet(\"Alice\", 25)\n",
    "print(result)"
   ]
  },
  {
   "cell_type": "markdown",
   "id": "e91c02f9",
   "metadata": {},
   "source": [
    "#### 5. What are recursive functions, and how are they used?\n",
    "**Ans:** Recursive functions are functions that call themselves within their own body. They are used to solve problems that can be divided into smaller subproblems of the same kind. Recursive functions typically have a base case that specifies when the recursion should stop and a recursive case that calls the function again with a modified input.\n",
    "\n",
    "Recursive functions are useful for solving problems that have a recursive structure, such as traversing tree-like data structures, solving mathematical problems with recursive formulas, or implementing recursive algorithms like factorial or Fibonacci sequence."
   ]
  },
  {
   "cell_type": "markdown",
   "id": "0616de68",
   "metadata": {},
   "source": [
    "#### 6. What are some general design guidelines for coding functions?\n",
    "**Ans:** Some of the general design guidelines for coding functions are:\n",
    "1. Always use a docstring to explain the functionality of the function\n",
    "2. avoid using or limited use of global variables\n",
    "3. Proper Identation to increase the code readability\n",
    "4. try to follow a naming convention for function names (pascalCase or camelCase) and stick with the same convention throughout the application.\n",
    "5. Avoid using digits while choosing a variable name\n",
    "6. try to use a name for the function which conveys the purpose of the function\n",
    "7. Local variables should be named using camelCase format `(ex: localVariable)` whereas Global variables names should be using PascalCase `(ex:GlobalVariable)`. \n",
    "8. Constant should be represented in allcaps `(ex:CONSTANT)`."
   ]
  },
  {
   "cell_type": "markdown",
   "id": "50555ec6",
   "metadata": {},
   "source": [
    "#### 7. Name three or more ways that functions can communicate results to a caller.\n",
    "**Ans:** Some of the ways in which a function can communicate with the calling function is:\n",
    "1. Return Statement: Functions can use the return statement to send a value back to the caller. The returned value can be assigned to a variable or used directly in expressions. \n",
    "\n",
    "2. Exceptions: Functions can raise exceptions to indicate errors or exceptional conditions to the caller. The caller can handle the exceptions using try and except blocks.\n",
    "\n",
    "3. Generators and Yield: Functions can use the yield statement to create generator functions. Generator functions yield a sequence of values, one at a time, instead of returning a single value and terminating like regular functions."
   ]
  },
  {
   "cell_type": "code",
   "execution_count": null,
   "id": "5fe57d78",
   "metadata": {},
   "outputs": [],
   "source": []
  }
 ],
 "metadata": {
  "kernelspec": {
   "display_name": "Python 3 (ipykernel)",
   "language": "python",
   "name": "python3"
  },
  "language_info": {
   "codemirror_mode": {
    "name": "ipython",
    "version": 3
   },
   "file_extension": ".py",
   "mimetype": "text/x-python",
   "name": "python",
   "nbconvert_exporter": "python",
   "pygments_lexer": "ipython3",
   "version": "3.9.7"
  }
 },
 "nbformat": 4,
 "nbformat_minor": 5
}
