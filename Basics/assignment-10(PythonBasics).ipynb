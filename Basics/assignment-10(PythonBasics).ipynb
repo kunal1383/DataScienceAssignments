{
 "cells": [
  {
   "cell_type": "markdown",
   "id": "c00ae223",
   "metadata": {},
   "source": [
    "#### 1. How do you distinguish between shutil.copy() and shutil.copytree()?\n",
    "**Ans:**\n",
    "* `shutil.copy(src, dst)`  function is used to copy a single file from the source (src) to the destination (dst) location. It creates a new file at the destination with the same content as the source file. If the destination file already exists, it will be overwritten.\n",
    "\n",
    "* `shutil.copytree()`function is used to recursively copy an entire directory tree from the source (src) to the destination (dst) location. It creates a new directory at the destination and copies all files and subdirectories from the source directory to the destination directory. If the destination directory already exists, it will raise an error.\n"
   ]
  },
  {
   "cell_type": "markdown",
   "id": "0a932861",
   "metadata": {},
   "source": [
    "#### 2. What function is used to rename files??\n",
    "**Ans:** `os.rename()` function is used to rename files or directories using a python program, this function takes two arguments `src` and `dest`, `src` represents the name file/directory which we want to rename, whereas `dest` represents the new name of the file/directory."
   ]
  },
  {
   "cell_type": "markdown",
   "id": "34ce7a3d",
   "metadata": {},
   "source": [
    "#### 3. What is the difference between the delete functions in the send2trash and shutil modules?\n",
    "**Ans:** \n",
    "* The send2trash module is used to send files or directories to the system trash or recycle bin instead of permanently deleting them. It provides a safer alternative to the os.remove() function, as it allows for the possibility of recovering the deleted files if needed. The `send2trash.send2trash()` function takes a file or directory path as an argument and moves it to the trash or recycle bin.\n",
    "\n",
    "* On the other hand, the shutil module provides `shutil.rmtree()` function which is used to remove an entire directory tree, including all its files and subdirectories. This function permanently deletes the specified directory and its contents "
   ]
  },
  {
   "cell_type": "markdown",
   "id": "bf6ed792",
   "metadata": {},
   "source": [
    "#### 4.ZipFile objects have a close() method just like File objects’ close() method. What ZipFile method is equivalent to File objects’ open() method?\n",
    "**Ans:** The equivalent method in the ZipFile class to File objects' open() method is the ZipFile() constructor. `zipfile.ZipFile('filename', mode = 'r')`"
   ]
  },
  {
   "cell_type": "markdown",
   "id": "c625fcea",
   "metadata": {},
   "source": [
    "#### 5. Create a programme that searches a folder tree for files with a certain file extension (such as .pdf or .jpg). Copy these files from whatever location they are in to a new folder"
   ]
  },
  {
   "cell_type": "code",
   "execution_count": 1,
   "id": "4710d7d8",
   "metadata": {},
   "outputs": [],
   "source": [
    "import os\n",
    "import shutil\n",
    "\n",
    "def search_and_copy_files(source_folder, destination_folder, file_extensions):\n",
    "    os.makedirs(destination_folder, exist_ok=True)\n",
    "\n",
    "    for foldername, subfolders, filenames in os.walk(source_folder):\n",
    "        \n",
    "        for filename in filenames:\n",
    "            if any(filename.endswith(ext) for ext in file_extensions):\n",
    "                source_path = os.path.join(foldername, filename)\n",
    "                destination_path = os.path.join(destination_folder, filename)\n",
    "                shutil.copy(source_path, destination_path)\n",
    "                print(f\"Copied {filename} to {destination_folder}\")\n",
    "\n",
    "# Example usage\n",
    "source_folder = 'source_folder'\n",
    "destination_folder = 'destination_folder'\n",
    "file_extensions = ['.pdf', '.jpg']\n",
    "\n",
    "search_and_copy_files(source_folder, destination_folder, file_extensions)"
   ]
  },
  {
   "cell_type": "code",
   "execution_count": null,
   "id": "62354014",
   "metadata": {},
   "outputs": [],
   "source": []
  }
 ],
 "metadata": {
  "kernelspec": {
   "display_name": "Python 3 (ipykernel)",
   "language": "python",
   "name": "python3"
  },
  "language_info": {
   "codemirror_mode": {
    "name": "ipython",
    "version": 3
   },
   "file_extension": ".py",
   "mimetype": "text/x-python",
   "name": "python",
   "nbconvert_exporter": "python",
   "pygments_lexer": "ipython3",
   "version": "3.9.7"
  }
 },
 "nbformat": 4,
 "nbformat_minor": 5
}
