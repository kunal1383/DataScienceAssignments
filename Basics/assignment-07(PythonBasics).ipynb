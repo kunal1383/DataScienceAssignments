{
 "cells": [
  {
   "cell_type": "markdown",
   "metadata": {},
   "source": [
    "#### 1. What is the name of the feature responsible for generating Regex objects?\n",
    "**Ans:** **`re module`** is  responsible for  generation of Regex objects."
   ]
  },
  {
   "cell_type": "markdown",
   "metadata": {},
   "source": [
    "#### 2. Why do raw strings often appear in Regex objects?\n",
    "**Ans:** In Python, a raw string is a string literal that is defined using the prefix r or R. Raw strings are used to ignore escape sequences that are normally interpreted by Python.When working with regular expressions, raw strings are commonly used because regular expressions often include many backslashes to escape special characters. Using a raw string allows you to avoid double escaping, making the regex easier to read and understand."
   ]
  },
  {
   "cell_type": "code",
   "execution_count": 7,
   "metadata": {},
   "outputs": [
    {
     "name": "stdout",
     "output_type": "stream",
     "text": [
      "without raw string: foo\\bar\n",
      "with raw string: foo\\bar\n"
     ]
    }
   ],
   "source": [
    "import re\n",
    "\n",
    "#we used a regular string to define the regular expression,and we had to escape the backslash with another backslash.\n",
    "#This makes the regular expression more difficult to read.\n",
    "\n",
    "regex = \"\\\\w+\\\\\\\\\\\\w+\"\n",
    "text = \"foo\\\\bar\"\n",
    "match = re.search(regex, text)\n",
    "print(\"without raw string:\",match.group(0)) \n",
    "\n",
    "#Alternatively, we can use a raw string to define the same regular expression\n",
    "regex1 = r\"\\w+\\\\\\w+\"\n",
    "match = re.search(regex1, text)\n",
    "print(\"with raw string:\",match.group(0)) \n",
    "\n",
    "\n"
   ]
  },
  {
   "cell_type": "markdown",
   "metadata": {},
   "source": [
    "#### 3. What is the return value of the search() method?\n",
    "**Ans:** The return value of `re.search(pattern,string)`method of a Regex object returns a match object if it finds a match in the given string, otherwise it returns None."
   ]
  },
  {
   "cell_type": "code",
   "execution_count": 15,
   "metadata": {},
   "outputs": [
    {
     "name": "stdout",
     "output_type": "stream",
     "text": [
      "Found match : <re.Match object; span=(10, 15), match='brown'>\n"
     ]
    }
   ],
   "source": [
    "import re\n",
    "\n",
    "text = \"The quick brown fox jumps over the lazy dog.\"\n",
    "pattern = \"brown\"\n",
    "\n",
    "match = re.search(pattern, text ,flags= re.IGNORECASE)\n",
    "\n",
    "if match:\n",
    "    print(\"Found match :\", match)\n",
    "else:\n",
    "    print(\"No match found.\")\n"
   ]
  },
  {
   "cell_type": "markdown",
   "metadata": {},
   "source": [
    "#### 4. From a Match item, how do you get the actual strings that match the pattern?\n",
    "**Ans:** we can use the group() method to get the actual string that matches the pattern. The group() method returns the entire matched string, or a specific captured group if the pattern contains groups."
   ]
  },
  {
   "cell_type": "code",
   "execution_count": 16,
   "metadata": {},
   "outputs": [
    {
     "name": "stdout",
     "output_type": "stream",
     "text": [
      "Found match : brown\n"
     ]
    }
   ],
   "source": [
    "import re\n",
    "\n",
    "text = \"The quick brown fox jumps over the lazy dog.\"\n",
    "pattern = \"brown\"\n",
    "\n",
    "match = re.search(pattern, text ,flags= re.IGNORECASE)\n",
    "\n",
    "if match:\n",
    "    print(\"Found match :\", match.group())\n",
    "else:\n",
    "    print(\"No match found.\")"
   ]
  },
  {
   "cell_type": "markdown",
   "metadata": {},
   "source": [
    "#### 5. In the regex which created from the r'(\\d\\d\\d)-(\\d\\d\\d-\\d\\d\\d\\d)', what does group zero cover? Group 2? Group 1?\n",
    "**Ans:** In the regular expression r **(\\d\\d\\d)-(\\d\\d\\d-\\d\\d\\d\\d)**, group zero covers the entire match, group 1 covers the first three digits enclosed in parentheses, and group 2 covers the next seven digits separated by a hyphen."
   ]
  },
  {
   "cell_type": "code",
   "execution_count": 17,
   "metadata": {},
   "outputs": [
    {
     "name": "stdout",
     "output_type": "stream",
     "text": [
      "123-456-7890\n",
      "123\n",
      "456-7890\n"
     ]
    }
   ],
   "source": [
    "import re\n",
    "\n",
    "pattern = r'(\\d\\d\\d)-(\\d\\d\\d-\\d\\d\\d\\d)'\n",
    "string = '123-456-7890'\n",
    "match = re.search(pattern, string)\n",
    "\n",
    "print(match.group(0))  \n",
    "print(match.group(1))  \n",
    "print(match.group(2))  "
   ]
  },
  {
   "cell_type": "markdown",
   "metadata": {},
   "source": [
    "#### 6. In standard expression syntax, parentheses and intervals have distinct meanings. How can you tell a regex that you want it to fit real parentheses and periods?\n",
    "**Ans:** To tell a regex to fit real parentheses and periods, you need to use the escape character \\ before the parentheses and periods.\n",
    " **`\\.`** **`\\(`** and **`\\)`**"
   ]
  },
  {
   "cell_type": "code",
   "execution_count": 18,
   "metadata": {},
   "outputs": [
    {
     "name": "stdout",
     "output_type": "stream",
     "text": [
      "(Hello).\n"
     ]
    }
   ],
   "source": [
    "# Example Program\n",
    "import re\n",
    "regex = r'\\(Hello\\)\\.'\n",
    "text = \"(Hello).\"\n",
    "match = re.search(regex, text)\n",
    "print(match.group(0))"
   ]
  },
  {
   "cell_type": "markdown",
   "metadata": {},
   "source": [
    "#### 7. The findall() method returns a string list or a list of string tuples. What causes it to return one of the two options?\n",
    "**Ans:** The findall() method returns a string list when the regular expression passed to it doesn't have any  groups. \n",
    "On the other hand, if the regular expression contains  groups, then findall() returns a list of tuples."
   ]
  },
  {
   "cell_type": "code",
   "execution_count": 20,
   "metadata": {},
   "outputs": [
    {
     "name": "stdout",
     "output_type": "stream",
     "text": [
      "[('6', 'apples'), ('3', 'oranges')]\n",
      "['6', '3']\n"
     ]
    }
   ],
   "source": [
    "import re\n",
    "text = \"John has 6 apples and 3 oranges\"\n",
    "pattern = r'(\\d+) (\\w+)'\n",
    "\n",
    "matches = re.findall(pattern, text)\n",
    "print(matches)\n",
    "\n",
    "text = \"John has 6 apples and 3 oranges\"\n",
    "pattern = r'(\\d+)'\n",
    "\n",
    "matches = re.findall(pattern, text)\n",
    "print(matches)\n"
   ]
  },
  {
   "cell_type": "markdown",
   "metadata": {},
   "source": [
    "#### 8. In standard expressions, what does the | character mean?\n",
    "**Ans:** In Standard Expressions `|` means `OR` operator."
   ]
  },
  {
   "cell_type": "markdown",
   "metadata": {},
   "source": [
    "#### 9. In regular expressions, what does the `?` character stand for?\n",
    "**Ans:** The `?` character is a metacharacter that denotes an optional character, i.e., it matches zero or one occurrence of the preceding character or group."
   ]
  },
  {
   "cell_type": "code",
   "execution_count": 21,
   "metadata": {},
   "outputs": [
    {
     "name": "stdout",
     "output_type": "stream",
     "text": [
      "Batman\n",
      "Batwoman\n"
     ]
    }
   ],
   "source": [
    "# Example Program\n",
    "import re\n",
    "match_1 = re.search(\"Bat(wo)?man\",\"Batman returns\")\n",
    "print(match_1.group(0))\n",
    "match_2 = re.search(\"Bat(wo)?man\",\"Batwoman returns\")\n",
    "print(match_2.group(0))"
   ]
  },
  {
   "cell_type": "markdown",
   "metadata": {},
   "source": [
    "#### 10.In regular expressions, what is the difference between the + and * characters?\n",
    "**Ans:** In Regular Expressions, `*` Represents Zero ore more occurances of the preceeding group, whereas `+` represents one or more occurances of the preceeding group."
   ]
  },
  {
   "cell_type": "code",
   "execution_count": 26,
   "metadata": {},
   "outputs": [
    {
     "name": "stdout",
     "output_type": "stream",
     "text": [
      "Batman\n",
      "None\n"
     ]
    }
   ],
   "source": [
    "import re\n",
    "match_1 = re.search(\"Bat(wo)*man\",\"Batman returns\")\n",
    "print(match_1.group(0))\n",
    "match_2 = re.search(\"Bat(wo)+man\",\"Batman returns\")\n",
    "print(match_2)"
   ]
  },
  {
   "cell_type": "markdown",
   "metadata": {},
   "source": [
    "#### 11. What is the difference between {4} and {4,5} in regular expression?\n",
    "**Ans:** The difference between `{4}` and `{4,5}` is that `{4}` matches exactly 4 occurrences of the preceding pattern, while `{4,5}` matches between 4 and 5 occurrences of the preceding pattern."
   ]
  },
  {
   "cell_type": "code",
   "execution_count": 30,
   "metadata": {},
   "outputs": [
    {
     "name": "stdout",
     "output_type": "stream",
     "text": [
      "['aaaa', 'aaaa']\n",
      "['aaaa', 'aaaaa']\n"
     ]
    }
   ],
   "source": [
    "import re\n",
    "\n",
    "pattern1 = r'a{4}'\n",
    "text1 = 'aaaabbbbaaaaa'\n",
    "match1 = re.findall(pattern1, text1)\n",
    "print(match1)\n",
    "\n",
    "\n",
    "pattern2 = r'a{4,5}'\n",
    "text2 = 'aaaabbbbaaaaa'\n",
    "match2 = re.findall(pattern2, text2)\n",
    "print(match2)"
   ]
  },
  {
   "cell_type": "markdown",
   "metadata": {},
   "source": [
    "#### 12. What do you mean by the \\d, \\w, and \\s shorthand character classes signify in regular expressions?\n",
    "**Ans:** \\d, \\w and \\s are special sequences in regular expresssions in python:\n",
    "1. **`\\w`** – Matches any alphanumeric character (letters, digits, or underscore). It is equivalent to the character class [a-zA-Z0-9_]\n",
    "2. **`\\d`** – Matches digit character equivalent to [0-9]\n",
    "3. **`\\s`** – Matches whitespace character (space, tab, newline, etc.)"
   ]
  },
  {
   "cell_type": "markdown",
   "metadata": {},
   "source": [
    "#### 13. What do means by \\D, \\W, and \\S shorthand character classes signify in regular expressions?\n",
    "**Ans:** \\D, \\W and \\S are special sequences in regular expresssions in python:\n",
    "1. **`\\W`** –  Matches any non-alphanumeric character (except underscore). It is the negation of \\w and is equivalent to the character class [^a-zA-Z0-9_].\n",
    "2. **`\\D`** – Matches any non-digit character. It is the negation of \\d and is equivalent to the character class [^0-9]\n",
    "3. **`\\S`** –  Matches any non-whitespace character. It is the negation of \\s."
   ]
  },
  {
   "cell_type": "markdown",
   "metadata": {},
   "source": [
    "#### 14. What is the difference between `.*?` and `.*`?\n",
    "**Ans:** **`.*`** is a Greedy mode, which returns the longest string that meets the condition. Whereas **`.*?`** is a non greedy mode which returns the shortest string that meets the condition."
   ]
  },
  {
   "cell_type": "code",
   "execution_count": 31,
   "metadata": {},
   "outputs": [
    {
     "name": "stdout",
     "output_type": "stream",
     "text": [
      "Hello\n",
      "Hello Wo\n"
     ]
    }
   ],
   "source": [
    "import re\n",
    "text = \"Hello World\"\n",
    "non_greedy = r'H.*?o'\n",
    "greedy = r'H.*o'\n",
    "\n",
    "match_non_greedy = re.search(non_greedy, text)\n",
    "match_greedy = re.search(greedy, text)\n",
    "\n",
    "# It will stop at first occurance of 'o'\n",
    "print(match_non_greedy.group())  \n",
    "# It will stop at last occurance of 'o'\n",
    "print(match_greedy.group())  \n"
   ]
  },
  {
   "cell_type": "markdown",
   "metadata": {},
   "source": [
    "#### 15. What is the syntax for matching both numbers and lowercase letters with a character class?\n",
    "**Ans:** The Synatax is Either **`[a-z0-9]`** or **`[0-9a-z]`**"
   ]
  },
  {
   "cell_type": "markdown",
   "metadata": {},
   "source": [
    "#### 16. What is the procedure for making a normal expression in regax case insensitive?\n",
    "**Ans:** We can pass **`re.IGNORECASE`** as a flag to make a noraml expression case insensitive"
   ]
  },
  {
   "cell_type": "markdown",
   "metadata": {},
   "source": [
    "#### 17. What does the . character normally match? What does it match if re.DOTALL is passed as 2nd argument in re.compile()?\n",
    "**Ans:** \n",
    "Dot **`.`** character matches everything in input except newline character **`.`**. By passing **`re.DOTALL`** as a flag to **`re.compile()`**, you can make the dot character match all characters, including the newline character."
   ]
  },
  {
   "cell_type": "markdown",
   "metadata": {},
   "source": [
    "#### 18. If numReg = re.compile(r'\\d+'), what will numRegex.sub('X', '11 drummers, 10 pipers, five rings, 4 hen') return?\n",
    "**Ans:** The Ouput will be **`'X drummers, X pipers, five rings, X hen'`**"
   ]
  },
  {
   "cell_type": "code",
   "execution_count": 33,
   "metadata": {},
   "outputs": [
    {
     "data": {
      "text/plain": [
       "'X drummers, X pipers, five rings, X hen'"
      ]
     },
     "execution_count": 33,
     "metadata": {},
     "output_type": "execute_result"
    }
   ],
   "source": [
    "import re\n",
    "numReg = re.compile(r'\\d+')\n",
    "numReg.sub('X', '11 drummers, 10 pipers, five rings, 4 hen')"
   ]
  },
  {
   "cell_type": "markdown",
   "metadata": {},
   "source": [
    "#### 19. What does passing re.VERBOSE as the 2nd argument to re.compile() allow to do?\n",
    "**Ans:** Passing **`re.VERBOSE`** as the second argument to **`re.compile()`** allows you to create a regular expression pattern with whitespace and comments for better readability."
   ]
  },
  {
   "cell_type": "code",
   "execution_count": 35,
   "metadata": {},
   "outputs": [
    {
     "name": "stdout",
     "output_type": "stream",
     "text": [
      "Phone number found: 123-4567\n"
     ]
    }
   ],
   "source": [
    "import re\n",
    "pattern = re.compile(r'''\n",
    "    \\d{3}  # Match three digits\n",
    "    -      # Match a hyphen\n",
    "    \\d{4}  # Match four digits\n",
    "''', re.VERBOSE)\n",
    "\n",
    "text = 'Phone number: 123-4567'\n",
    "\n",
    "match = pattern.search(text)\n",
    "if match:\n",
    "    print('Phone number found:', match.group())\n"
   ]
  },
  {
   "cell_type": "markdown",
   "metadata": {},
   "source": [
    "#### 20. How would you write a regex that match a number with comma for every three digits? It must match the given following:\n",
    "`'42','1,234', '6,368,745'`but not the following: `'12,34,567'` (which has only two digits between the commas) `'1234'` (which lacks commas)"
   ]
  },
  {
   "cell_type": "code",
   "execution_count": 36,
   "metadata": {},
   "outputs": [
    {
     "name": "stdout",
     "output_type": "stream",
     "text": [
      "Match: 42\n",
      "Match: 1,234\n",
      "Match: 6,368,745\n",
      "No match: 12,34,567\n",
      "No match: 1234\n"
     ]
    }
   ],
   "source": [
    "import re\n",
    "\n",
    "pattern = r'^\\d{1,3}(,\\d{3})*$'\n",
    "numbers = ['42', '1,234', '6,368,745', '12,34,567', '1234']\n",
    "for number in numbers:\n",
    "    if re.match(pattern, number):\n",
    "        print(f'Match: {number}')\n",
    "    else:\n",
    "        print(f'No match: {number}')"
   ]
  },
  {
   "cell_type": "markdown",
   "metadata": {},
   "source": [
    "#### 21. How would you write a regex that matches the full name of someone whose last name is Watanabe? You can assume that the first name that comes before it will always be one word that begins with a capital letter. The regex must match the following:\n",
    "`'Haruto Watanabe'`  \n",
    "`'Alice Watanabe'`  \n",
    "`'RoboCop Watanabe'`  \n",
    "\n",
    "but not the following:\n",
    "\n",
    "`'haruto Watanabe'` (where the first name is not capitalized)  \n",
    "`'Mr. Watanabe'` (where the preceding word has a nonletter character)  \n",
    "`'Watanabe'` (which has no first name)  \n",
    "`'Haruto watanabe'` (where Watanabe is not capitalized)  \n",
    "\n",
    "**Ans:** **`pattern = r'[A-Z]{1}[a-z]*\\sWatanabe'`**"
   ]
  },
  {
   "cell_type": "code",
   "execution_count": 39,
   "metadata": {},
   "outputs": [
    {
     "name": "stdout",
     "output_type": "stream",
     "text": [
      "Matched: Haruto Watanabe\n",
      "Matched: Alice Watanabe\n",
      "Matched: RoboCop Watanabe\n",
      "Not matched: haruto Watanabe\n",
      "Not matched: Mr. Watanabe\n",
      "Not matched: Watanabe\n",
      "Not matched: Haruto watanabe\n"
     ]
    }
   ],
   "source": [
    "import re\n",
    "\n",
    "pattern = re.compile(r'^[A-Z][a-zA-Z]*\\sWatanabe$')\n",
    "\n",
    "names = [\n",
    "    'Haruto Watanabe',\n",
    "    'Alice Watanabe',\n",
    "    'RoboCop Watanabe',\n",
    "    'haruto Watanabe',\n",
    "    'Mr. Watanabe',\n",
    "    'Watanabe',\n",
    "    'Haruto watanabe'\n",
    "]\n",
    "\n",
    "for name in names:\n",
    "    if pattern.match(name):\n",
    "        print(f\"Matched: {name}\")\n",
    "    else:\n",
    "        print(f\"Not matched: {name}\")"
   ]
  },
  {
   "cell_type": "markdown",
   "metadata": {},
   "source": [
    "#### 22. How would you write a regex that matches a sentence where the first word is either Alice, Bob,or Carol; the second word is either eats, pets, or throws; the third word is apples, cats, or baseballs; and the sentence ends with a period? This regex should be case-insensitive. It must match the following:\n",
    "`'Alice eats apples.'`  \n",
    "`'Bob pets cats.'`  \n",
    "`'Carol throws baseballs.'`  \n",
    "`'Alice throws Apples.'`  \n",
    "`'BOB EATS CATS.'`  \n",
    "\n",
    "but not the following:  \n",
    "\n",
    "`'RoboCop eats apples.'`  \n",
    "`'ALICE THROWS FOOTBALLS.'`   \n",
    "`'Carol eats 7 cats.'`  \n",
    "\n",
    "**Ans:** pattern = **`r'(Alice|Bob|Carol)\\s(eats|pets|throws)\\s(apples|cats|baseballs)\\.'`**"
   ]
  },
  {
   "cell_type": "code",
   "execution_count": 40,
   "metadata": {},
   "outputs": [
    {
     "name": "stdout",
     "output_type": "stream",
     "text": [
      "Matched: Alice eats apples.\n",
      "Matched: Bob pets cats.\n",
      "Matched: Carol throws baseballs.\n",
      "Matched: Alice throws Apples.\n",
      "Matched: BOB EATS CATS.\n",
      "Not matched: RoboCop eats apples.\n",
      "Not matched: ALICE THROWS FOOTBALLS.\n",
      "Not matched: Carol eats 7 cats.\n"
     ]
    }
   ],
   "source": [
    "import re\n",
    "pattern = re.compile(r'^(Alice|Bob|Carol)\\s+(eats|pets|throws)\\s+(apples|cats|baseballs)\\.$', re.IGNORECASE)\n",
    "sentences = [\n",
    "    'Alice eats apples.',\n",
    "    'Bob pets cats.',\n",
    "    'Carol throws baseballs.',\n",
    "    'Alice throws Apples.',\n",
    "    'BOB EATS CATS.',\n",
    "    'RoboCop eats apples.',\n",
    "    'ALICE THROWS FOOTBALLS.',\n",
    "    'Carol eats 7 cats.']\n",
    "\n",
    "for sentence in sentences:\n",
    "    if pattern.match(sentence):\n",
    "        print(f\"Matched: {sentence}\")\n",
    "    else:\n",
    "        print(f\"Not matched: {sentence}\")"
   ]
  },
  {
   "cell_type": "code",
   "execution_count": null,
   "metadata": {},
   "outputs": [],
   "source": []
  }
 ],
 "metadata": {
  "kernelspec": {
   "display_name": "Python 3 (ipykernel)",
   "language": "python",
   "name": "python3"
  },
  "language_info": {
   "codemirror_mode": {
    "name": "ipython",
    "version": 3
   },
   "file_extension": ".py",
   "mimetype": "text/x-python",
   "name": "python",
   "nbconvert_exporter": "python",
   "pygments_lexer": "ipython3",
   "version": "3.9.7"
  }
 },
 "nbformat": 4,
 "nbformat_minor": 4
}
