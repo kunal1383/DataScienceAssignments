{
 "cells": [
  {
   "cell_type": "markdown",
   "id": "4fe8b19e",
   "metadata": {},
   "source": [
    "#### 1. Add the current date to the text file today.txt as a string."
   ]
  },
  {
   "cell_type": "code",
   "execution_count": 4,
   "id": "4c5ad5ac",
   "metadata": {},
   "outputs": [
    {
     "name": "stdout",
     "output_type": "stream",
     "text": [
      "2023-06-25\n"
     ]
    }
   ],
   "source": [
    "import datetime\n",
    "\n",
    "current_date = datetime.date.today().isoformat() \n",
    "print(current_date|)\n",
    "with open(\"today.txt\", \"w\") as file:\n",
    "    file.write(current_date)\n"
   ]
  },
  {
   "cell_type": "markdown",
   "id": "6cf23762",
   "metadata": {},
   "source": [
    "#### 2. Read the text file today.txt into the string today_string"
   ]
  },
  {
   "cell_type": "code",
   "execution_count": 5,
   "id": "107143ea",
   "metadata": {},
   "outputs": [
    {
     "name": "stdout",
     "output_type": "stream",
     "text": [
      "2023-06-25\n"
     ]
    }
   ],
   "source": [
    "with open(\"today.txt\", \"r\") as file:\n",
    "    today_string = file.read()\n",
    "\n",
    "print(today_string)"
   ]
  },
  {
   "cell_type": "markdown",
   "id": "165addb6",
   "metadata": {},
   "source": [
    "#### 3. Parse the date from today_string."
   ]
  },
  {
   "cell_type": "code",
   "execution_count": 6,
   "id": "c622da5b",
   "metadata": {},
   "outputs": [
    {
     "name": "stdout",
     "output_type": "stream",
     "text": [
      "2023-06-25\n"
     ]
    }
   ],
   "source": [
    "import datetime\n",
    "\n",
    "parsed_date = datetime.datetime.strptime(today_string, \"%Y-%m-%d\").date()\n",
    "print(parsed_date)\n"
   ]
  },
  {
   "cell_type": "markdown",
   "id": "664d3278",
   "metadata": {},
   "source": [
    "#### 4. List the files in your current directory"
   ]
  },
  {
   "cell_type": "code",
   "execution_count": 7,
   "id": "cbacd0e4",
   "metadata": {},
   "outputs": [
    {
     "name": "stdout",
     "output_type": "stream",
     "text": [
      ".ipynb_checkpoints\n",
      "assignment-01(PythonBasics).ipynb\n",
      "assignment-02(PythonBasics).ipynb\n",
      "assignment-03(PythonBasics).ipynb\n",
      "assignment-04(PythonBasics).ipynb\n",
      "assignment-05(PythonBasics).ipynb\n",
      "assignment-06(PythonBasics).ipynb\n",
      "assignment-07(PythonBasics).ipynb\n",
      "assignment-08(PythonBasics).ipynb\n",
      "assignment-09(PythonBasics).ipynb\n",
      "assignment-10(PythonBasics).ipynb\n",
      "assignment-11(PythonBasics).ipynb\n",
      "assignment-12(PythonBasics).ipynb\n",
      "assignment-13(PythonBasics).ipynb\n",
      "assignment-14(PythonBasics).ipynb\n",
      "assignment-15(PythonBasics).ipynb\n",
      "assignment-16(PythonBasics).ipynb\n",
      "assignment-17(PythonBasics).ipynb\n",
      "assignment-18(pythonBasics).ipynb\n",
      "assignment-19(PythonBasics).ipynb\n",
      "assignment-20(PythonBasics).ipynb\n",
      "assignment-21(PythonBascis).ipynb\n",
      "Assignment_1.docx\n",
      "Assignment_10.docx\n",
      "Assignment_11.docx\n",
      "Assignment_12.docx\n",
      "Assignment_13.docx\n",
      "Assignment_14.docx\n",
      "Assignment_15.docx\n",
      "Assignment_16.docx\n",
      "Assignment_17.docx\n",
      "Assignment_18.docx\n",
      "Assignment_19.docx\n",
      "Assignment_2.docx\n",
      "Assignment_20.docx\n",
      "Assignment_21.docx\n",
      "Assignment_22.docx\n",
      "Assignment_23.docx\n",
      "Assignment_24.docx\n",
      "Assignment_25.docx\n",
      "Assignment_3.docx\n",
      "Assignment_4.docx\n",
      "Assignment_5.docx\n",
      "Assignment_6.docx\n",
      "Assignment_7.docx\n",
      "Assignment_8.docx\n",
      "Assignment_9.docx\n",
      "books.csv\n",
      "books.db\n",
      "cat3.jpg\n",
      "cropped_image.jpg\n",
      "mongoTask.txt\n",
      "oop_task.ipynb\n",
      "oop_task.log\n",
      "program_log.txt\n",
      "test.txt\n",
      "today.txt\n",
      "zoo.py\n",
      "__pycache__\n"
     ]
    }
   ],
   "source": [
    "import os\n",
    "\n",
    "current_directory = os.getcwd()  \n",
    "files = os.listdir(current_directory)  \n",
    "\n",
    "for file in files:\n",
    "    print(file)"
   ]
  },
  {
   "cell_type": "markdown",
   "id": "291a203b",
   "metadata": {},
   "source": [
    "#### 5. Create a list of all of the files in your parent directory (minimum five files should be available)."
   ]
  },
  {
   "cell_type": "code",
   "execution_count": 8,
   "id": "efe9618b",
   "metadata": {},
   "outputs": [
    {
     "data": {
      "text/plain": [
       "['.ipynb_checkpoints',\n",
       " 'assignment-01(PythonBasics).ipynb',\n",
       " 'assignment-02(PythonBasics).ipynb',\n",
       " 'assignment-03(PythonBasics).ipynb',\n",
       " 'assignment-04(PythonBasics).ipynb',\n",
       " 'assignment-05(PythonBasics).ipynb',\n",
       " 'assignment-06(PythonBasics).ipynb',\n",
       " 'assignment-07(PythonBasics).ipynb',\n",
       " 'assignment-08(PythonBasics).ipynb',\n",
       " 'assignment-09(PythonBasics).ipynb',\n",
       " 'assignment-10(PythonBasics).ipynb',\n",
       " 'assignment-11(PythonBasics).ipynb',\n",
       " 'assignment-12(PythonBasics).ipynb',\n",
       " 'assignment-13(PythonBasics).ipynb',\n",
       " 'assignment-14(PythonBasics).ipynb',\n",
       " 'assignment-15(PythonBasics).ipynb',\n",
       " 'assignment-16(PythonBasics).ipynb',\n",
       " 'assignment-17(PythonBasics).ipynb',\n",
       " 'assignment-18(pythonBasics).ipynb',\n",
       " 'assignment-19(PythonBasics).ipynb',\n",
       " 'assignment-20(PythonBasics).ipynb',\n",
       " 'assignment-21(PythonBascis).ipynb',\n",
       " 'Assignment_1.docx',\n",
       " 'Assignment_10.docx',\n",
       " 'Assignment_11.docx',\n",
       " 'Assignment_12.docx',\n",
       " 'Assignment_13.docx',\n",
       " 'Assignment_14.docx',\n",
       " 'Assignment_15.docx',\n",
       " 'Assignment_16.docx',\n",
       " 'Assignment_17.docx',\n",
       " 'Assignment_18.docx',\n",
       " 'Assignment_19.docx',\n",
       " 'Assignment_2.docx',\n",
       " 'Assignment_20.docx',\n",
       " 'Assignment_21.docx',\n",
       " 'Assignment_22.docx',\n",
       " 'Assignment_23.docx',\n",
       " 'Assignment_24.docx',\n",
       " 'Assignment_25.docx',\n",
       " 'Assignment_3.docx',\n",
       " 'Assignment_4.docx',\n",
       " 'Assignment_5.docx',\n",
       " 'Assignment_6.docx',\n",
       " 'Assignment_7.docx',\n",
       " 'Assignment_8.docx',\n",
       " 'Assignment_9.docx',\n",
       " 'books.csv',\n",
       " 'books.db',\n",
       " 'cat3.jpg',\n",
       " 'cropped_image.jpg',\n",
       " 'mongoTask.txt',\n",
       " 'oop_task.ipynb',\n",
       " 'oop_task.log',\n",
       " 'program_log.txt',\n",
       " 'test.txt',\n",
       " 'today.txt',\n",
       " 'zoo.py',\n",
       " '__pycache__']"
      ]
     },
     "execution_count": 8,
     "metadata": {},
     "output_type": "execute_result"
    }
   ],
   "source": [
    "import os \n",
    "os.listdir()"
   ]
  },
  {
   "cell_type": "markdown",
   "id": "203dd9fe",
   "metadata": {},
   "source": [
    "#### 6. Use multiprocessing to create three separate processes. Make each one wait a random number of seconds between one and five, print the current time, and then exit."
   ]
  },
  {
   "cell_type": "code",
   "execution_count": 14,
   "id": "bcb2799b",
   "metadata": {},
   "outputs": [],
   "source": [
    "import multiprocessing\n",
    "import random\n",
    "import time\n",
    "import datetime\n",
    "\n",
    "def process_function():\n",
    "    wait_time = random.randint(1, 5)\n",
    "    time.sleep(wait_time)\n",
    "    current_time = datetime.datetime.now().time()\n",
    "    print(\"Current time:\", current_time)\n",
    "\n",
    "processes = []\n",
    "for _ in range(3):\n",
    "    p = multiprocessing.Process(target=process_function)\n",
    "    p.start()\n",
    "    processes.append(p)\n",
    "\n",
    "for p in processes:\n",
    "    p.join()\n",
    "\n",
    "    "
   ]
  },
  {
   "cell_type": "markdown",
   "id": "b3a8c53b",
   "metadata": {},
   "source": [
    "### output\n",
    "**jupyter notebook didn't print the ans so ran the code on python compiler and pasted the output**\n",
    "\n",
    "Current time: 13:14:57.689552\n",
    "\n",
    "Current time: 13:14:59.688238\n",
    "\n",
    "Current time: 13:15:01.689018"
   ]
  },
  {
   "cell_type": "markdown",
   "id": "71d07e78",
   "metadata": {},
   "source": [
    "#### 7. Create a date object of your day of birth."
   ]
  },
  {
   "cell_type": "code",
   "execution_count": 15,
   "id": "b3e67c1c",
   "metadata": {},
   "outputs": [
    {
     "name": "stdout",
     "output_type": "stream",
     "text": [
      "1999-01-12\n"
     ]
    }
   ],
   "source": [
    "import datetime\n",
    "\n",
    "birth_date = datetime.date(year=1999, month=1, day=12)  \n",
    "print(birth_date)"
   ]
  },
  {
   "cell_type": "markdown",
   "id": "e5775db9",
   "metadata": {},
   "source": [
    "#### 8. What day of the week was your day of birth?"
   ]
  },
  {
   "cell_type": "code",
   "execution_count": 18,
   "id": "65b6ae43",
   "metadata": {},
   "outputs": [
    {
     "name": "stdout",
     "output_type": "stream",
     "text": [
      "Tuesday\n"
     ]
    }
   ],
   "source": [
    "import datetime\n",
    "\n",
    "birth_date = datetime.date(year=1999, month=1, day=12)  \n",
    "day_of_week = birth_date.strftime(\"%A\")\n",
    "print(day_of_week)\n"
   ]
  },
  {
   "cell_type": "markdown",
   "id": "abe779de",
   "metadata": {},
   "source": [
    "#### 9. When will you be (or when were you) 10,000 days old?"
   ]
  },
  {
   "cell_type": "code",
   "execution_count": 19,
   "id": "db7e28a0",
   "metadata": {},
   "outputs": [
    {
     "name": "stdout",
     "output_type": "stream",
     "text": [
      "2026-05-30\n"
     ]
    }
   ],
   "source": [
    "import datetime\n",
    "\n",
    "birth_date = datetime.date(year=1999, month=1, day=12) \n",
    "age_delta = datetime.timedelta(days=10000)\n",
    "future_date = birth_date + age_delta\n",
    "print(future_date)"
   ]
  },
  {
   "cell_type": "code",
   "execution_count": null,
   "id": "346cb1d6",
   "metadata": {},
   "outputs": [],
   "source": []
  }
 ],
 "metadata": {
  "kernelspec": {
   "display_name": "Python 3 (ipykernel)",
   "language": "python",
   "name": "python3"
  },
  "language_info": {
   "codemirror_mode": {
    "name": "ipython",
    "version": 3
   },
   "file_extension": ".py",
   "mimetype": "text/x-python",
   "name": "python",
   "nbconvert_exporter": "python",
   "pygments_lexer": "ipython3",
   "version": "3.9.7"
  }
 },
 "nbformat": 4,
 "nbformat_minor": 5
}
