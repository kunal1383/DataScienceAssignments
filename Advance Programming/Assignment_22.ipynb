{
 "cells": [
  {
   "cell_type": "markdown",
   "id": "81a1c047",
   "metadata": {},
   "source": [
    "#### Q1. What are the benefits of the built-in array package, if any?\n",
    "**Ans:**  The built-in array package in Python provides the array type, which is more memory-efficient than Python's standard list for storing homogeneous data, such as integers or floats. It allows for faster operations and uses less memory, making it beneficial for large datasets with a uniform data type."
   ]
  },
  {
   "cell_type": "markdown",
   "id": "72b97146",
   "metadata": {},
   "source": [
    "#### Q2. What are some of the array package's limitations ?\n",
    "**Ans:**  The number of elements to be stored in an array should be known in advance. An array is a static structure (which means the array is of fixed size). Once declared the size of the array cannot be modified. The memory which is allocated to it cannot be increased or decreased.\n",
    "\n",
    "Insertion and deletion are quite difficult in an array as the elements are stored in consecutive memory locations and the shifting operation is costly.\n",
    "\n",
    "Allocating more memory than the requirement leads to wastage of memory space and less allocation of memory also leads to a problem"
   ]
  },
  {
   "cell_type": "markdown",
   "id": "fd6c2a9b",
   "metadata": {},
   "source": [
    "#### Q3. Describe the main differences between the array and numpy packages ?\n",
    "**Ans:**  The main differences between the array and numpy packages are:\n",
    "\n",
    "1. `Array:` Provides the array type for homogeneous data, which is a basic container for numeric values. It is part of the Python standard library.\n",
    "2.` NumPy:` Offers a powerful array data structure called ndarray, which supports n-dimensional arrays and various mathematical operations. NumPy provides a wide range of functions for numerical computing, including array broadcasting, element-wise operations, linear algebra, and more."
   ]
  },
  {
   "cell_type": "markdown",
   "id": "17049af0",
   "metadata": {},
   "source": [
    "#### Q4. Explain the distinctions between the empty, ones, and zeros functions ?\n",
    "**Ans:** The distinctions between the `empty`, `ones`, and `zero` functions are as follows :  \n",
    "- `Empty function:` An empty function is a function that does not contain any statement within its body. If you try to write a function definition without any statement in python ,it will return an error. To avoid this, we use pass statement. pass is a special statement in Python that does nothing. It only works as a dummy statement.  \n",
    "- `Ones:` This function returns a new array of given shape and data type, where the element’s value is 1.  \n",
    "- `Zeros:` This function returns a new array of given shape and data type, where the element’s value is 0.  "
   ]
  },
  {
   "cell_type": "markdown",
   "id": "59182103",
   "metadata": {},
   "source": [
    "#### Q5. In the fromfunction function, which is used to construct new arrays, what is the role of the callable argument ?\n",
    "**Ans:**  In the `fromfunction` function, the callable argument is a function that is called for each element in the output array. It allows you to construct new arrays by specifying how each element is generated based on its indices."
   ]
  },
  {
   "cell_type": "markdown",
   "id": "82a330ed",
   "metadata": {},
   "source": [
    "#### Q6. What happens when a numpy array is combined with a single-value operand (a scalar, such as an int or a floating-point value) through addition, as in the expression `A + n` ?\n",
    "**Ans:** IWhen a NumPy array is combined with a single-value operand (a scalar) through addition (or other arithmetic operations), the scalar value is broadcasted to match the shape of the array, and the operation is applied element-wise."
   ]
  },
  {
   "cell_type": "markdown",
   "id": "12e37586",
   "metadata": {},
   "source": [
    "#### Q7. Can array-to-scalar operations use combined operation-assign operators (such as += or *=)? What is the outcome ?\n",
    "**Ans:** Yes, array-to-scalar operations can use combined operation-assign operator`s (such as += or *=)`. The outcome is that the operation is applied element-wise, and the original array is modified in-place with the result of the operation."
   ]
  },
  {
   "cell_type": "markdown",
   "id": "f9687fd2",
   "metadata": {},
   "source": [
    "#### Q8. Does a numpy array contain fixed-length strings? What happens if you allocate a longer string to one of these arrays ?\n",
    "**Ans:** : Yes, it is possible that we can include a string of fixed length in numpy array. The dtype of any numpy array containing string values is the maximum length of any string present in the array.Once set, it will only be able to store new string having length not more than the maximum length at the time of the creation. If we try to reassign some another string value having length greater than the maximum length of the existing elements, it simply discards all the values beyond the maximum length accept upto those values which are under the limit."
   ]
  },
  {
   "cell_type": "markdown",
   "id": "d5da8bbe",
   "metadata": {},
   "source": [
    "#### Q9. What happens when you combine two numpy arrays using an operation like addition (+) or multiplication (*)? What are the conditions for combining two numpy arrays ?\n",
    "**Ans:** When two NumPy arrays are combined using an operation like addition or multiplication, the operation is applied element-wise, meaning the corresponding elements of both arrays are operated on to produce a new array of the same shape."
   ]
  },
  {
   "cell_type": "markdown",
   "id": "d350b416",
   "metadata": {},
   "source": [
    "#### Q10. What is the best way to use a Boolean array to mask another array ?\n",
    "**Ans:**. The best way to use a Boolean array to mask another array is by indexing the target array with the Boolean mask. This operation will return a new array containing only the elements from the target array that correspond to True values in the Boolean mask."
   ]
  },
  {
   "cell_type": "markdown",
   "id": "b5401443",
   "metadata": {},
   "source": [
    "#### Q11. What are three different ways to get the standard deviation of a wide collection of data using both standard Python and its packages? Sort the three of them by how quickly they execute ?\n",
    "**Ans:** Three different ways to get the standard deviation of a wide collection of data are:\n",
    "\n",
    "1. Using the standard Python `statistics module`: This is the simplest method but may not be the most efficient for large datasets.\n",
    "2. Using the` NumPy std function:` NumPy provides a fast and efficient method to compute the standard deviation of a NumPy array.\n",
    "3. Using the `Pandas std method`: If the data is in a Pandas DataFrame or Series, the std method can be used to calculate the standard deviation."
   ]
  },
  {
   "cell_type": "markdown",
   "id": "2c49864a",
   "metadata": {},
   "source": [
    "#### 12. What is the dimensionality of a Boolean mask-generated array ?\n",
    "**Ans:** The dimensionality of a Boolean mask-generated array will be the same as the original array."
   ]
  },
  {
   "cell_type": "code",
   "execution_count": null,
   "id": "63acc7eb",
   "metadata": {},
   "outputs": [],
   "source": []
  }
 ],
 "metadata": {
  "kernelspec": {
   "display_name": "Python 3 (ipykernel)",
   "language": "python",
   "name": "python3"
  },
  "language_info": {
   "codemirror_mode": {
    "name": "ipython",
    "version": 3
   },
   "file_extension": ".py",
   "mimetype": "text/x-python",
   "name": "python",
   "nbconvert_exporter": "python",
   "pygments_lexer": "ipython3",
   "version": "3.9.7"
  }
 },
 "nbformat": 4,
 "nbformat_minor": 5
}
