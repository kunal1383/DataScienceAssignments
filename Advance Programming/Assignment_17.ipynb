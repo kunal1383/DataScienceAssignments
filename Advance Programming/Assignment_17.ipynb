{
 "cells": [
  {
   "cell_type": "markdown",
   "id": "fdba87a8",
   "metadata": {},
   "source": [
    "#### Q1. Explain the difference between greedy and non-greedy syntax with visual terms in as few words as possible. What is the bare minimum effort required to transform a greedy pattern into a non-greedy one? What characters or characters can you introduce or change?\n",
    "**Ans:**  Greedy syntax matches as much as possible, while non-greedy (lazy) syntax matches as little as possible. To transform a greedy pattern into a non-greedy one, add a question mark (?) after the quantifier (e.g., *?, +?, ??)."
   ]
  },
  {
   "cell_type": "code",
   "execution_count": 1,
   "id": "04d4bbc1",
   "metadata": {},
   "outputs": [
    {
     "name": "stdout",
     "output_type": "stream",
     "text": [
      "['vvvvvv', '']\n",
      "['', 'v', '', 'v', '', 'v', '', 'v', '', 'v', '', 'v', '']\n"
     ]
    }
   ],
   "source": [
    "import re\n",
    "print(re.findall(\"v*\", \"vvvvvv\")) # Greedy Match Synatx\n",
    "print(re.findall(\"v*?\", \"vvvvvv\")) # Non Greddy Syntax"
   ]
  },
  {
   "cell_type": "markdown",
   "id": "c91d4a1f",
   "metadata": {},
   "source": [
    "#### Q2. When exactly does greedy versus non-greedy make a difference?  What if you're looking for a non-greedy match but the only one available is greedy?\n",
    "**Ans:**  Greedy versus non-greedy makes a difference when there are multiple possible matches in the input string. If you're looking for a non-greedy match but only a greedy one is available, it will match as much as possible."
   ]
  },
  {
   "cell_type": "markdown",
   "id": "ab858979",
   "metadata": {},
   "source": [
    "#### Q3. In a simple match of a string, which looks only for one match and does not do any replacement, is the use of a nontagged group likely to make any practical difference?\n",
    "**Ans:** In a simple match without replacement, using a nontagged group may not have a practical difference, as it behaves the same as a tagged group. The difference lies in accessing the matched content programmatically."
   ]
  },
  {
   "cell_type": "code",
   "execution_count": 2,
   "id": "66390111",
   "metadata": {},
   "outputs": [
    {
     "name": "stdout",
     "output_type": "stream",
     "text": [
      "Phone number found -> 234\n",
      "Phone number found -> 234\n"
     ]
    }
   ],
   "source": [
    "import re\n",
    "phoneNumRegex = re.compile(r'\\d\\d\\d')\n",
    "num = phoneNumRegex.search('My number is 234-567-8901.')\n",
    "print(f'Phone number found -> {num.group()}') # Non Tagged group\n",
    "print(f'Phone number found -> {num.group(0)}') # Tagged Group"
   ]
  },
  {
   "cell_type": "markdown",
   "id": "124d3ed0",
   "metadata": {},
   "source": [
    "#### Q4. Describe a scenario in which using a nontagged category would have a significant impact on the program's outcomes ?\n",
    "**Ans:** Using a nontagged category is beneficial when you want to group a part of the pattern for clarity or quantifiers but don't need to access the matched content programmatically."
   ]
  },
  {
   "cell_type": "markdown",
   "id": "5a76e42a",
   "metadata": {},
   "source": [
    "#### Q5. Unlike a normal regex pattern, a look-ahead condition does not consume the characters it examines. Describe a situation in which this could make a difference in the results of your programme ?\n",
    "**Ans:**  n a situation where you want to validate that a certain pattern exists without including it in the matched result, a look-ahead condition can make a difference in the results of the program."
   ]
  },
  {
   "cell_type": "markdown",
   "id": "5a6e0d8f",
   "metadata": {},
   "source": [
    "#### Q6. In standard expressions, what is the difference between positive look-ahead and negative look-ahead ?\n",
    "**Ans:**  Positive look-ahead asserts that a pattern `must be followed `by another pattern, but it doesn't consume the characters. Negative look-ahead asserts that a pattern must `not be followed` by another pattern, also not consuming the characters."
   ]
  },
  {
   "cell_type": "markdown",
   "id": "954d327f",
   "metadata": {},
   "source": [
    "#### Q7. What is the benefit of referring to groups by name rather than by number in a standard expression?\n",
    "**Ans:**Referring to groups by name in a standard expression makes the code more readable and self-explanatory. It also avoids errors that may arise from changes in the expression's structure."
   ]
  },
  {
   "cell_type": "markdown",
   "id": "6f73ee77",
   "metadata": {},
   "source": [
    "#### Q8. Can you identify repeated items within a target string using named groups, as in \"The cow jumped over the moon\"?\n",
    "**Ans** Yes, you can identify repeated items within a target string using named groups. "
   ]
  },
  {
   "cell_type": "code",
   "execution_count": 3,
   "id": "c68dfa21",
   "metadata": {},
   "outputs": [
    {
     "data": {
      "text/plain": [
       "['The', 'the']"
      ]
     },
     "execution_count": 3,
     "metadata": {},
     "output_type": "execute_result"
    }
   ],
   "source": [
    "import re\n",
    "text = \"The cow jumped over the moon\"\n",
    "regobj=re.compile(r'(?P<w1>The)',re.I)\n",
    "regobj.findall(text)"
   ]
  },
  {
   "cell_type": "markdown",
   "id": "a2f7c46f",
   "metadata": {},
   "source": [
    "#### Q9. When parsing a string, what is at least one thing that the Scanner interface does for you that the re.findall feature does not ?\n",
    "**Ans:** The Scanner interface allows you to tokenize a string, returning each matched token separately, whereas `re.findall` returns all matches as a list."
   ]
  },
  {
   "cell_type": "markdown",
   "id": "0b65593b",
   "metadata": {},
   "source": [
    "#### Q10. Does a scanner object have to be named scanner?\n",
    "**Ans:** No, a scanner object does not have to be named \"scanner.\" It can have any valid variable name as long as it adheres to Python's naming rules."
   ]
  },
  {
   "cell_type": "code",
   "execution_count": null,
   "id": "d6e1a74e",
   "metadata": {},
   "outputs": [],
   "source": []
  }
 ],
 "metadata": {
  "kernelspec": {
   "display_name": "Python 3 (ipykernel)",
   "language": "python",
   "name": "python3"
  },
  "language_info": {
   "codemirror_mode": {
    "name": "ipython",
    "version": 3
   },
   "file_extension": ".py",
   "mimetype": "text/x-python",
   "name": "python",
   "nbconvert_exporter": "python",
   "pygments_lexer": "ipython3",
   "version": "3.9.7"
  }
 },
 "nbformat": 4,
 "nbformat_minor": 5
}
