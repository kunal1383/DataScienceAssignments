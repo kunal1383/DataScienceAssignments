{
 "cells": [
  {
   "cell_type": "markdown",
   "id": "05ee62b2",
   "metadata": {},
   "source": [
    "#### 1. Compare and contrast the float and Decimal classes' benefits and drawbacks ?\n",
    "**Ans:** Float and Decimal classes are both used to represent numbers with decimal points in Python, but they have different benefits and drawbacks:\n",
    "\n",
    "1. Float:\n",
    "\n",
    "* `Benefits:` Floats are built-in data types in Python, which means they are more efficient in terms of memory and computation.\n",
    "* `Drawbacks:` Floats are limited in precision and can lead to rounding errors in certain arithmetic operations. They are not suitable for applications that require high precision, such as financial calculations.\n",
    "\n",
    "2. Decimal:\n",
    "\n",
    "* `Benefits:` Decimals offer arbitrary precision and can represent decimal numbers with exact precision. They are suitable for applications where precision is crucial, such as financial and monetary calculations.\n",
    "* `Drawbacks:` Decimals are implemented as objects and are not as efficient in terms of memory and computation compared to floats. They might introduce some overhead when used extensively in large-scale computations."
   ]
  },
  {
   "cell_type": "markdown",
   "id": "fd433d14",
   "metadata": {},
   "source": [
    "#### 2. Decimal('1.200') and Decimal('1.2') are two objects to consider. In what sense are these the same object? Are these just two ways of representing the exact same value, or do they correspond to different internal states ?\n",
    "**Ans:** Decimal('1.200') and Decimal('1.2') are different objects, even though they represent the same value. Both of these Decimal objects have different internal states because the trailing zeros in '1.200' are preserved as significant digits."
   ]
  },
  {
   "cell_type": "markdown",
   "id": "efc3efad",
   "metadata": {},
   "source": [
    "#### 3. What happens if the equality of Decimal('1.200') and Decimal('1.2') is checked ?\n",
    "**Ans:** If the equality of Decimal('1.200') and Decimal('1.2') is checked using the equality operator (==), the result will be False. This is because, as mentioned earlier, these are different objects with different internal states, even though they represent the same value."
   ]
  },
  {
   "cell_type": "markdown",
   "id": "8f6cda09",
   "metadata": {},
   "source": [
    "#### 4. Why is it preferable to start a Decimal object with a string rather than a floating-point value ?\n",
    "**Ans:** It is preferable to start a Decimal object with a string rather than a floating-point value to avoid potential precision issues caused by the inexact representation of floating-point values. When starting with a string, the Decimal class can represent the exact decimal value without any loss of precision."
   ]
  },
  {
   "cell_type": "markdown",
   "id": "2e42c0a6",
   "metadata": {},
   "source": [
    "#### 5. In an arithmetic phrase, how simple is it to combine Decimal objects with integers ?\n",
    "**Ans:** In an arithmetic phrase, combining Decimal objects with integers is straightforward. Since Decimal objects support operator overloading, you can perform arithmetic operations (addition, subtraction, multiplication, etc.) between Decimal objects and integers directly without any issues."
   ]
  },
  {
   "cell_type": "markdown",
   "id": "6a9cf124",
   "metadata": {},
   "source": [
    "#### 6. Can Decimal objects and floating-point values be combined easily ?\n",
    "**Ans:** Combining Decimal objects and floating-point values can be done, but it might lead to potential precision loss due to the inexact representation of floats. If you combine Decimal objects and floats in arithmetic operations, the result will be a float."
   ]
  },
  {
   "cell_type": "markdown",
   "id": "860d14ca",
   "metadata": {},
   "source": [
    "#### 7. Using the Fraction class but not the Decimal class, give an example of a quantity that can be expressed with absolute precision ?\n",
    "**Ans:** A quantity that can be expressed with absolute precision using the Fraction class is a fraction itself, such as Fraction(3, 5), which represents the fraction 3/5. Fractions are represented exactly as a ratio of two integers, so there is no loss of precision."
   ]
  },
  {
   "cell_type": "markdown",
   "id": "a9933cd4",
   "metadata": {},
   "source": [
    "#### 8. Describe a quantity that can be accurately expressed by the Decimal or Fraction classes but not by a floating-point value.\n",
    "**Ans**A quantity that cannot be accurately expressed by a floating-point value but can be accurately represented by the Decimal or Fraction classes is a repeating decimal, such as Decimal('1.333333333333') or Fraction(1, 3). Floating-point numbers have limited precision and cannot accurately represent repeating decimals, leading to rounding errors."
   ]
  },
  {
   "cell_type": "markdown",
   "id": "6702505a",
   "metadata": {},
   "source": [
    "#### 9.Consider the following two fraction objects: Fraction(1, 2) and Fraction(1, 2). (5, 10). Is the internal state of these two objects the same? Why do you think that is ?\n",
    "**Ans:** The internal state of the two Fraction objects Fraction(1, 2) and Fraction(5, 10) is the same. The Fraction class automatically reduces the fraction to its simplest form, so both of these fractions represent the same value 1/2."
   ]
  },
  {
   "cell_type": "markdown",
   "id": "1039ed6b",
   "metadata": {},
   "source": [
    "#### 10. How do the Fraction class and the integer type (int) relate to each other? Containment or inheritance ?\n",
    "**Ans:** The Fraction class and the integer type (int) are related through containment. The Fraction class is used to represent fractions, and an integer is a specific type of fraction where the denominator is 1. For example, the integer 3 can be represented as Fraction(3, 1)."
   ]
  },
  {
   "cell_type": "code",
   "execution_count": null,
   "id": "36d69683",
   "metadata": {},
   "outputs": [],
   "source": []
  }
 ],
 "metadata": {
  "kernelspec": {
   "display_name": "Python 3 (ipykernel)",
   "language": "python",
   "name": "python3"
  },
  "language_info": {
   "codemirror_mode": {
    "name": "ipython",
    "version": 3
   },
   "file_extension": ".py",
   "mimetype": "text/x-python",
   "name": "python",
   "nbconvert_exporter": "python",
   "pygments_lexer": "ipython3",
   "version": "3.9.7"
  }
 },
 "nbformat": 4,
 "nbformat_minor": 5
}
