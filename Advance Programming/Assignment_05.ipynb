{
 "cells": [
  {
   "cell_type": "markdown",
   "id": "3ae2f846",
   "metadata": {},
   "source": [
    "#### Q1. What is the meaning of multiple inheritance?\n",
    "**Ans:** Inheritence is nothing but reusing the code of Parent class by the child class. Similary when a child class inherits its properties from multiple Parent classes this scenario is called **Multiple Inheritence**"
   ]
  },
  {
   "cell_type": "code",
   "execution_count": 1,
   "id": "e8567eae",
   "metadata": {},
   "outputs": [],
   "source": [
    "class Parent_one:\n",
    "    pass\n",
    "class Parent_two:\n",
    "    pass\n",
    "class child(Parent_one,Parent_two):\n",
    "    pass"
   ]
  },
  {
   "cell_type": "markdown",
   "id": "38440f4c",
   "metadata": {},
   "source": [
    "#### Q2. What is the concept of delegation?\n",
    "**Ans:** Delegation is a design pattern in object-oriented programming where an object passes the responsibility for a specific task to another object. Instead of implementing the task itself, the object delegates the task to another object, which is better suited to perform it. This allows objects to collaborate and work together by leveraging each other's strengths and expertise."
   ]
  },
  {
   "cell_type": "markdown",
   "id": "4600a4d4",
   "metadata": {},
   "source": [
    "#### Q3. What is the concept of composition?\n",
    "**Ans:** Composition is a design principle in object-oriented programming where a class is composed of one or more objects of other classes rather than inheriting from them. The class containing these objects is referred to as the \"container\" class, and the objects it contains are referred to as \"component\" objects. Composition promotes a \"has-a\" relationship, where the container class has a reference to its components and can use their functionalities without the tight coupling involved in inheritance."
   ]
  },
  {
   "cell_type": "code",
   "execution_count": 1,
   "id": "7e779e32",
   "metadata": {},
   "outputs": [
    {
     "name": "stdout",
     "output_type": "stream",
     "text": [
      "Total Salary : 9600\n"
     ]
    }
   ],
   "source": [
    "class Salary:\n",
    "    def __init__(self,pay):\n",
    "        self.pay = pay\n",
    "    def get_total(self):\n",
    "        return self.pay*12\n",
    "    \n",
    "class Employee:\n",
    "    def __init__(self,pay,bonus):\n",
    "        self.pay = pay\n",
    "        self.bonus = bonus\n",
    "        self.obj_salary = Salary(self.pay)\n",
    "    def annual_salary(self):\n",
    "        return f'Total Salary : {str(self.obj_salary.get_total())}'\n",
    "\n",
    "obj_emp = Employee(800,500)\n",
    "print(obj_emp.annual_salary())"
   ]
  },
  {
   "cell_type": "markdown",
   "id": "ce7913c2",
   "metadata": {},
   "source": [
    "#### Q4. What are bound methods and how do we use them?\n",
    "**Ans:** If a function is an attribute of class and it is accessed via the instances, they are called **bound methods**. A bound method is one that has **`self`** as its first argument. Since these are dependent on the instance of classes, these are also known as **instance methods**."
   ]
  },
  {
   "cell_type": "code",
   "execution_count": 4,
   "id": "dc8b18a8",
   "metadata": {},
   "outputs": [
    {
     "name": "stdout",
     "output_type": "stream",
     "text": [
      "Called method_one\n",
      "Called method_two\n",
      "Called method_two\n",
      "Called method_three\n"
     ]
    }
   ],
   "source": [
    "class Test:\n",
    "    def method_one(self): # bound method\n",
    "        print(\"Called method_one\")\n",
    "    @classmethod\n",
    "    def method_two(cls): # unbound method\n",
    "        print(\"Called method_two\")\n",
    "    @staticmethod\n",
    "    def method_three(): # static method\n",
    "        print(\"Called method_three\")\n",
    "\n",
    "test = Test()\n",
    "test.method_one() # accessing through instance object\n",
    "test.method_two() # accessing through instance object\n",
    "Test.method_two() # accessing directly through class\n",
    "Test.method_three() # accessing directly through class"
   ]
  },
  {
   "cell_type": "markdown",
   "id": "04f059af",
   "metadata": {},
   "source": [
    "#### Q5. What is the purpose of pseudoprivate attributes?\n",
    "**Ans:** Pseudoprivate attributes (also known as name mangling) in Python are attributes that start with two underscores `(__)` but do not end with two underscores. These attributes are intended to provide a level of name privacy or name collision avoidance within a class. When you define an attribute with a name like` __attribute`, Python internally changes the attribute name to _ClassName__attribute, where ClassName is the name of the class containing the attribute.\n",
    "\n",
    "The purpose of pseudoprivate attributes is to avoid accidental name clashes between attributes of different classes that might be derived from a common ancestor. It is not intended for strict access control, as Python does not provide true encapsulation. Pseudoprivate attributes can still be accessed from outside the class, but the name mangling reduces the likelihood of unintentional name conflicts with attributes in subclasses."
   ]
  },
  {
   "cell_type": "code",
   "execution_count": null,
   "id": "27e86823",
   "metadata": {},
   "outputs": [],
   "source": []
  }
 ],
 "metadata": {
  "kernelspec": {
   "display_name": "Python 3 (ipykernel)",
   "language": "python",
   "name": "python3"
  },
  "language_info": {
   "codemirror_mode": {
    "name": "ipython",
    "version": 3
   },
   "file_extension": ".py",
   "mimetype": "text/x-python",
   "name": "python",
   "nbconvert_exporter": "python",
   "pygments_lexer": "ipython3",
   "version": "3.9.7"
  }
 },
 "nbformat": 4,
 "nbformat_minor": 5
}
