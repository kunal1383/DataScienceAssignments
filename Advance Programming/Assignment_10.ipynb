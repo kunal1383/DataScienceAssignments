{
 "cells": [
  {
   "cell_type": "markdown",
   "id": "54257650",
   "metadata": {},
   "source": [
    "#### Q1. What is the difference between `__getattr__` and `__getattribute__`?\n",
    "**Ans:**  The main difference between __getattr__ and __getattribute__ in Python is when they are invoked and how they handle attribute access.\n",
    "\n",
    "`__getattr__:` This method is only called when the requested attribute is not found in the usual places, such as the instance's dictionary or its class hierarchy. It is a fallback method that gets invoked after the attribute lookup has already failed. __getattr__ allows you to define custom behavior for accessing non-existing attributes.\n",
    "\n",
    "`__getattribute__:` This method is called for every attribute access, whether the attribute exists or not. It is invoked before checking the instance's dictionary or its class hierarchy, and it can be used to intercept and customize all attribute accesses. Since __getattribute__ is called for every attribute access, including existing attributes, it requires careful handling to avoid infinite recursion."
   ]
  },
  {
   "cell_type": "markdown",
   "id": "51f7319c",
   "metadata": {},
   "source": [
    "#### Q2. What is the difference between properties and descriptors?\n",
    "**Ans:** Properties and descriptors are both used to define computed attributes in Python, but they differ in how they are implemented and their level of control over attribute access:\n",
    "\n",
    "`Properties:` Properties are a simple way to define computed attributes in Python. They are implemented using the property built-in function and are defined as methods within a class, decorated with `@property`. Properties provide a getter method to retrieve the computed value and can also have setter and deleter methods to control the behavior when setting or deleting the attribute.\n",
    "\n",
    "`Descriptors:` Descriptors are a more advanced feature that allows greater control over attribute access. They are implemented by defining special methods like __get__, __set__, and __delete__ in a separate class, known as the descriptor class. The descriptor class is then assigned to a class attribute of the target class. Descriptors allow you to define custom behavior for getting, setting, and deleting attributes and can be reused across different classes."
   ]
  },
  {
   "cell_type": "markdown",
   "id": "3303787c",
   "metadata": {},
   "source": [
    "#### Q3. What are the key differences in functionality between __getattr__ and __getattribute__, as well as properties and descriptors?\n",
    "**Ans:** `__getattr__ vs. __getattribute__:` The key difference between these two methods is the timing of their invocation and the purpose they serve. __getattr__ is called only when an attribute is not found in the usual places, making it a fallback method to provide custom behavior for accessing non-existing attributes. On the other hand, __getattribute__ is called for every attribute access, whether it exists or not, allowing you to intercept and customize all attribute accesses. As a result, __getattribute__ requires more careful handling to avoid infinite recursion.\n",
    "\n",
    "`Properties vs. Descriptors:` Properties provide a convenient way to define computed attributes using methods decorated with @property, but they have limited control over attribute access. Properties are specific to the instance they are defined on. In contrast, descriptors provide more flexibility and reusability. They can be shared among different classes and offer granular control over attribute access through the methods __get__, __set__, and __delete__. Descriptors allow you to define custom logic for attribute access and perform additional actions when getting, setting, or deleting attributes. However, descriptors require more effort to implement compared to properties."
   ]
  },
  {
   "cell_type": "code",
   "execution_count": null,
   "id": "2636b5c0",
   "metadata": {},
   "outputs": [],
   "source": []
  }
 ],
 "metadata": {
  "kernelspec": {
   "display_name": "Python 3 (ipykernel)",
   "language": "python",
   "name": "python3"
  },
  "language_info": {
   "codemirror_mode": {
    "name": "ipython",
    "version": 3
   },
   "file_extension": ".py",
   "mimetype": "text/x-python",
   "name": "python",
   "nbconvert_exporter": "python",
   "pygments_lexer": "ipython3",
   "version": "3.9.7"
  }
 },
 "nbformat": 4,
 "nbformat_minor": 5
}
