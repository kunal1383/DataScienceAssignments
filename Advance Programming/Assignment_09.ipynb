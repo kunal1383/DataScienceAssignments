{
 "cells": [
  {
   "cell_type": "markdown",
   "id": "1b9784d3",
   "metadata": {},
   "source": [
    "#### Q1. In Python 3.X, what are the names and functions of string object types?\n",
    "**Ans:** The following are the names and functions of string object types in Python 3.X\n",
    "- **`<stirng>.isdecimal() ->`** Returns True if all characters in a string are decimal.\n",
    "- **`<string>.isalnum() ->`** Returns True if all characters in the string are AlphaNumeric.\n",
    "- **`<string>.istitle() ->`** Returns True if first character in a string is in Uppercase.\n",
    "- **`<string>.partition(<sub_string>) ->`** Splits string at first occurance of sub string and returns a tuple of 3 elements.\n",
    "- **`<string>.rpartition(<sub_string>) ->`** Splits string at last occurance of sub string and returns a tuple of 3 elements.\n",
    "- **`<string>.isidentifier() ->`** Returns True if give string is a valid identifier name.\n",
    "- **`len(<string>) ->`** Returns the length of the given string.\n",
    "- **`<string>.index(<sub_string>) ->`** Returns the lowest index of substring if substring is found in the string.\n",
    "- **`<string>.rindex(<sub_string>) ->`** Returns the highest index of substring if substring is found in the string.\n",
    "- **`max(<string>) ->`** Returns the highest Alphabetical Character in the string as per ASCII.\n",
    "- **`min(<string>) ->`** Returns the lowest Alphabetical Character in the string as per ASCII.\n",
    "- **`<string>.splitlines() ->`** Returns a list of lines in the string.\n",
    "- **`<string>.capitalize() ->`** Returns the string with first character capitalized.\n",
    "- **`<string>.upper() ->`** Returns the string with all characters in uppercase.\n",
    "- **`<string>.lower() ->`** Returns the string with all characters in lowercase\n",
    "- **`<string>.casefold() ->`** Returns the string in lowercase which can be used for caseless comparisions.\n",
    "- **`<string>.expandtabs(no_of_spaces) ->`** Replaces tabs in a string with specified no of spaces default is 8\n",
    "- **`<string>.find(<sub_string>) ->`** Returns lowest index of substring if substring is found in the string else returns -1.\n",
    "- **`<string>.rfind(<sub_string>) ->`** Returns highest index of substring if substring is found in the string else returns -1.\n",
    "- **`<string>.count(<char>) ->`** Returns the no of occurances of the char in the given string.\n",
    "- **`<string>.split(<sep>) ->`** Returns list of words seperated by given sep else seperated by whitespace.\n",
    "- **`<string>.rsplit(<sep>) ->`** Returns list of words seperated by given sep else seperated by whitespace scanning from end.\n",
    "- **`<string>.lstrip() ->`** Returns a copy of where leading whitespaces are removed.\n",
    "- **`<string>.rstrip() ->`** Returns a copy of where trailed whitespaces are removed.\n",
    "- **`<string>.strip() ->`** Returns a copy of where both leading and trailing whitespaces are removed.\n",
    "- **`<string>.swapcase() ->`** Swaps lowercase characters with uppercase and vice versa.\n",
    "- **`<sep>.join(<list>) ->`** Concatenates a list or tuple of words with intervening occuernces of sep.\n",
    "- **`<string>.translate(<mapping_table>) ->`** translates the characters using table.\n",
    "- **`<string>.maketrans(<dict>) ->`** Creating a mapping translation tbale usable for **`<string>.translate(<mapping_table>)`**\n",
    "- **`<string>.replace(<char_1>,<char_2>) ->`** Replace all occurances of char_1 with char_2 in string.\n",
    "- **`<string>.encode() ->`** Encodes string into any encoding supported by python. Default encoding is **`UTF-8`**.\n",
    "- **`<string>.ljust(<no_of_spaces>) ->`** Left-justify in a field of given width.\n",
    "- **`<string>.rjust(<no_of_spaces>) ->`** Right-justify in a field of given width.\n",
    "- **`<string>.center(<no_of_spaces>) ->`** Center-justify in a field of given width.\n",
    "- **`<stirng>.zfill(<length>) ->`** Zfill adds zeros to the begining of string until the specified length is reached."
   ]
  },
  {
   "cell_type": "code",
   "execution_count": 1,
   "id": "471cc4af",
   "metadata": {},
   "outputs": [
    {
     "name": "stdout",
     "output_type": "stream",
     "text": [
      "True\n",
      "True\n",
      "False\n",
      "('\"I could eat ', 'bananas', ' all day, bananas are my favorite fruit\"')\n",
      "('\"I could eat bananas all day, ', 'bananas', ' are my favorite fruit\"')\n",
      "True\n",
      "17\n",
      "1\n",
      "6\n",
      "t\n",
      "A\n",
      "['Ineuron ', ' Full Stack ', ' Data Science ', ' Course ']\n",
      "Finding nemo\n",
      "DATAPIPELINES\n",
      "mlops\n",
      "doloris jane umbridge\n",
      "Data science    Data Analyst\n",
      "1\n",
      "6\n",
      "2\n",
      "['i', 'euro', '']\n",
      "['i', 'euro', '']\n",
      "EDA \n",
      " EDA\n",
      "EDA\n",
      "eXPLORATORY dATA aNALYSIS\n",
      "Iris_flower_Dataset\n",
      "Hello Pam!\n",
      "Hello Pam!\n",
      "I2euro2\n",
      "b'Natural Language Processing'\n",
      "Nemo      \n",
      "      Nemo\n",
      "   Nemo   \n",
      "00000Hello\n"
     ]
    }
   ],
   "source": [
    "print('1234567890'.isdecimal())\n",
    "print('IneuronFullStackDS'.isalnum())\n",
    "print('Ineuron Full Stack Data science'.istitle())\n",
    "print('\"I could eat bananas all day, bananas are my favorite fruit\"'.partition('bananas'))\n",
    "print('\"I could eat bananas all day, bananas are my favorite fruit\"'.rpartition('bananas'))\n",
    "print('GeeksForFreaks'.isidentifier())\n",
    "print(len('Linear Regression'))\n",
    "print('Ineuron'.index('n'))\n",
    "print('Ineuron'.rindex('n'))\n",
    "print(max('Data_Scientist'))\n",
    "print(min('Data_Analyst'))\n",
    "print('Ineuron \\n Full Stack \\n Data Science \\n Course '.splitlines())\n",
    "print('finding nemo'.capitalize())\n",
    "print('datapipelines'.upper())\n",
    "print('MLOPS'.lower())\n",
    "print('Doloris Jane Umbridge'.casefold())\n",
    "print('Data science\\tData Analyst'.expandtabs(8))\n",
    "print('Ineuron'.find('n'))\n",
    "print('Ineuron'.rfind('n'))\n",
    "print('Transformers'.count('s'))\n",
    "print('ineuron'.split('n'))\n",
    "print('ineuron'.rsplit('n'))\n",
    "print(' EDA '.lstrip())\n",
    "print(' EDA '.rstrip())\n",
    "print(' EDA '.strip())\n",
    "print('Exploratory Data Analysis'.swapcase())\n",
    "print('_'.join(['Iris','flower','Dataset']))\n",
    "\n",
    "mydict = {83:  80}\n",
    "print(\"Hello Sam!\".translate(mydict))\n",
    "\n",
    "txt = \"Hello Sam!\"\n",
    "mytable = txt.maketrans(\"S\", \"P\")\n",
    "print(txt.translate(mytable))\n",
    "\n",
    "print('Ineuron'.replace('n','2'))\n",
    "print('Natural Language Processing'.encode())\n",
    "print('Nemo'.ljust(10))\n",
    "print('Nemo'.rjust(10))\n",
    "print('Nemo'.center(10))\n",
    "print('Hello'.zfill(10))"
   ]
  },
  {
   "cell_type": "markdown",
   "id": "dbf211cb",
   "metadata": {},
   "source": [
    "#### Q2. How do the string forms in Python 3.X vary in terms of operations?\n",
    "**Ans:** In Python3 default format of strings is Unicode Whereas in Pyton2 we need to explicitly mention Unicode value using `u`."
   ]
  },
  {
   "cell_type": "markdown",
   "id": "a1730a0e",
   "metadata": {},
   "source": [
    "#### Q3. In Python 3.X, how do you put non-ASCII Unicode characters in a string?\n",
    "**Ans:**  In Python 3.x, you can include non-ASCII Unicode characters in a string by using their Unicode escape sequences or by directly using the character's Unicode code point. For example:"
   ]
  },
  {
   "cell_type": "code",
   "execution_count": 1,
   "id": "1717faab",
   "metadata": {},
   "outputs": [
    {
     "name": "stdout",
     "output_type": "stream",
     "text": [
      "Hello, Φ\n"
     ]
    }
   ],
   "source": [
    "s = \"Hello, \\u03A6\"  # The Greek letter Phi (Φ)\n",
    "print(s)  # Output: \"Hello, Φ\"\n"
   ]
  },
  {
   "cell_type": "markdown",
   "id": "b8612f7c",
   "metadata": {},
   "source": [
    "#### Q4. In Python 3.X, what are the key differences between text-mode and binary-mode files?\n",
    "**Ans:** `Text-mode files`: In text mode, files are opened for reading or writing Unicode text using the 't' mode specifier or no mode specifier (default). When reading from a text-mode file, Python automatically decodes the bytes into Unicode strings using the specified encoding (default is UTF-8). When writing to a text-mode file, Python encodes the Unicode strings into bytes using the specified encoding before writing to the file.\n",
    "\n",
    "`Binary-mode files`: In binary mode, files are opened for reading or writing binary data using the 'b' mode specifier. Binary mode is used for non-textual data, such as images, audio, or any data that doesn't directly represent human-readable text. When reading from a binary-mode file, data is read as-is into bytes, and when writing, bytes are written directly to the file without any encoding or decoding."
   ]
  },
  {
   "cell_type": "markdown",
   "id": "a64d5125",
   "metadata": {},
   "source": [
    "#### Q5. How can you interpret a Unicode text file containing text encoded in a different encoding than your platform's default?\n",
    "**Ans:**. To interpret a Unicode text file containing text encoded in a different encoding than your platform's default, you can use the open() function with the appropriate encoding parameter\n",
    "\n",
    "`with open(\"textfile.txt\", mode=\"r\", encoding=\"latin-1\") as file:\n",
    "    content = file.read()\n",
    "print(content)\n",
    "`"
   ]
  },
  {
   "cell_type": "markdown",
   "id": "b6635a90",
   "metadata": {},
   "source": [
    "#### Q6. What is the best way to make a Unicode text file in a particular encoding format?\n",
    "**Ans:**  To create a Unicode text file in a particular encoding format, you can use the open() function with the desired encoding parameter while writing to the file. For example:"
   ]
  },
  {
   "cell_type": "code",
   "execution_count": null,
   "id": "79543d99",
   "metadata": {},
   "outputs": [],
   "source": [
    "content = \"Hello, Φ\"\n",
    "with open(\"textfile.txt\", mode=\"w\", encoding=\"utf-8\") as file:\n",
    "    file.write(content)\n"
   ]
  },
  {
   "cell_type": "markdown",
   "id": "43828345",
   "metadata": {},
   "source": [
    "#### Q7. What qualifies ASCII text as a form of Unicode text?\n",
    "**Ans:** ASCII text qualifies as a form of Unicode text because the ASCII character set is a subset of the Unicode character set. All ASCII characters have corresponding Unicode code points in the range 0 to 127, where the Unicode code points for ASCII characters are the same as their ASCII values. Therefore, any ASCII text is already valid Unicode text."
   ]
  },
  {
   "cell_type": "markdown",
   "id": "080bfa7e",
   "metadata": {},
   "source": [
    "#### Q8. How much of an effect does the change in string types in Python 3.X have on your code?\n",
    "**Ans:** The change in string types in Python 3.x from byte-based strings (str) to Unicode-based strings (str) has a significant effect on code that deals with text and character encodings. Code written in Python 2.x using byte-based strings may need to be modified to handle Unicode strings properly in Python 3.x. Additionally, handling file I/O, network communications, and text processing in Python 3.x may require consideration of Unicode encodings to ensure proper compatibility and avoid encoding-related errors. However, the transition to Unicode-based strings brings better support for internationalization, improved text processing capabilities, and a more consistent approach to working with text data across different platforms and locales."
   ]
  }
 ],
 "metadata": {
  "kernelspec": {
   "display_name": "Python 3 (ipykernel)",
   "language": "python",
   "name": "python3"
  },
  "language_info": {
   "codemirror_mode": {
    "name": "ipython",
    "version": 3
   },
   "file_extension": ".py",
   "mimetype": "text/x-python",
   "name": "python",
   "nbconvert_exporter": "python",
   "pygments_lexer": "ipython3",
   "version": "3.9.7"
  }
 },
 "nbformat": 4,
 "nbformat_minor": 5
}
