{
 "cells": [
  {
   "cell_type": "markdown",
   "id": "02d9ed9f",
   "metadata": {},
   "source": [
    "#### 1.\tWhat are the new features added in Python 3.8 version?\n",
    "**Ans:** New features added in Python 3.8 version:\n",
    "\n",
    "* `Assignment Expressions (Walrus Operator)`: Introduced the `:= operator`, allowing you to assign values to variables as part of an expression. For example, you can use it in a loop condition to avoid redundant calculations.\n",
    "* ` Positional-only Parameters:` Added support for specifying positional-only parameters in function definitions using / syntax. This allows you to restrict how certain arguments can be passed to a function.\n",
    "* `f-strings =` Python now supports the = option for f-strings, which helps in debugging by displaying variable names along with their values.\n",
    "* `The math.prod() function:` This function was introduced in the math module to calculate the product of a sequence of numbers.\n",
    "* `The statistics.mode() function: `This function was added to the statistics module to find the most common data point in a dataset.\n",
    "* `The functools.lru_cache() decorator:` It allows you to cache the results of a function and reuse them for the same inputs, optimizing performance.\n",
    "* `The os.uname() function:` It provides information about the current operating system."
   ]
  },
  {
   "cell_type": "code",
   "execution_count": 1,
   "id": "d7b07f47",
   "metadata": {},
   "outputs": [
    {
     "name": "stdout",
     "output_type": "stream",
     "text": [
      "15\n"
     ]
    }
   ],
   "source": [
    "# Example of Walrus Operator\n",
    "if (sum := 10 + 5) > 10: # its always recommended to use paranthesis with walrus operator\n",
    "    print(sum) #return 15 \n",
    "\n"
   ]
  },
  {
   "cell_type": "markdown",
   "id": "9b49a548",
   "metadata": {},
   "source": [
    "#### 2.\tWhat is monkey patching in Python?\n",
    "**Ans:** Monkey patching in Python refers to the practice of dynamically modifying or extending the behavior of a module or class at runtime. It involves modifying the existing code of a module or class, typically to fix a bug, add new functionality, or change the behavior of certain methods or attributes. Monkey patching is often done by replacing or adding new methods, attributes, or functions to an existing module or class without modifying the original source code."
   ]
  },
  {
   "cell_type": "code",
   "execution_count": 6,
   "id": "ee6fa7d3",
   "metadata": {},
   "outputs": [
    {
     "name": "stdout",
     "output_type": "stream",
     "text": [
      "11\n"
     ]
    }
   ],
   "source": [
    "class Calculator:\n",
    "    def add(self, a, b):\n",
    "        return a + b\n",
    "    \n",
    "    \n",
    "# Define a new function that overrides the original 'add' method\n",
    "def new_add(self, a, b):\n",
    "    return a + b * 2\n",
    "\n",
    "# Monkey patch the 'add' method in 'Calculator' class with our new function\n",
    "Calculator.add = new_add\n",
    "\n",
    "# Create an instance of 'Calculator'\n",
    "calculator = Calculator()\n",
    "\n",
    "# Test the monkey patched 'add' method\n",
    "result = calculator.add(3, 4)\n",
    "print(result)  # Output: 11 (3 + 4 * 2)\n",
    "    "
   ]
  },
  {
   "cell_type": "markdown",
   "id": "430104b8",
   "metadata": {},
   "source": [
    "#### 3.\tWhat is the difference between a shallow copy and deep copy?\n",
    "**Ans:** The Differences between a Shallow Copy and deep copy are as follows: \n",
    "\n",
    "`Shallow Copy:` A shallow copy creates a new object and inserts references to the original objects into it. It means that the new object points to the same memory locations as the original object. If the original object contains mutable objects (e.g., lists or dictionaries), the shallow copy will not duplicate them but instead will refer to the same underlying objects. Changes made to these mutable objects will affect both the original and the copied object.\n",
    "\n",
    "`Deep Copy:` A deep copy creates a completely independent copy of the original object and all the objects nested within it. It means that all the nested objects are duplicated, and changes made to the copied object or any of its nested objects will not affect the original object. Deep copy is used when you want to create a separate copy with no shared references to the original object."
   ]
  },
  {
   "cell_type": "markdown",
   "id": "b6b51b48",
   "metadata": {},
   "source": [
    "#### 4.\tWhat is the maximum possible length of an identifier?\n",
    "**Ans:** In Python, the highest possible length of an identifier is 79 characters. Python is a high level programming language. It’s also a complex form and a collector of waste.\n",
    "\n",
    "- Python, particularly when combined with identifiers, is case-sensitive.\n",
    "- When writing or using identifiers in Python, it has a maximum of 79 characters.\n",
    "- Unlikely, Python gives the identifiers unlimited length.\n",
    "- However, the layout of PEP-8 prevents the user from breaking the rules and includes a 79-character limit."
   ]
  },
  {
   "cell_type": "markdown",
   "id": "726679fd",
   "metadata": {},
   "source": [
    "#### 5.\tWhat is generator comprehension?\n",
    "**Ans:** Generator comprehension is a concise way to create generator objects in Python. It has a similar syntax to list comprehension, but it uses parentheses () instead of square brackets []. Generator comprehensions allow you to generate elements on-the-fly without creating an entire list in memory. They are memory-efficient and suitable for large datasets."
   ]
  },
  {
   "cell_type": "code",
   "execution_count": 17,
   "id": "bf6781e1",
   "metadata": {},
   "outputs": [
    {
     "name": "stdout",
     "output_type": "stream",
     "text": [
      "[0, 1, 4, 9, 16, 25, 36, 49, 64, 81]\n",
      "<generator object <genexpr> at 0x0000020BCECEAE40>\n"
     ]
    }
   ],
   "source": [
    "# List comprehension\n",
    "squares_list = [x ** 2 for x in range(10)]\n",
    "print(squares_list)\n",
    "\n",
    "# Generator comprehension\n",
    "squares_generator = (x ** 2 for x in range(10))\n",
    "print(squares_generator)\n"
   ]
  },
  {
   "cell_type": "code",
   "execution_count": null,
   "id": "55d1a946",
   "metadata": {},
   "outputs": [],
   "source": []
  }
 ],
 "metadata": {
  "kernelspec": {
   "display_name": "Python 3 (ipykernel)",
   "language": "python",
   "name": "python3"
  },
  "language_info": {
   "codemirror_mode": {
    "name": "ipython",
    "version": 3
   },
   "file_extension": ".py",
   "mimetype": "text/x-python",
   "name": "python",
   "nbconvert_exporter": "python",
   "pygments_lexer": "ipython3",
   "version": "3.9.7"
  }
 },
 "nbformat": 4,
 "nbformat_minor": 5
}
