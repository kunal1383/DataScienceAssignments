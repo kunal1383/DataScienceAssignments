{
 "cells": [
  {
   "cell_type": "markdown",
   "id": "1f60b1e6",
   "metadata": {},
   "source": [
    "#### Q1. If you have any, what are your choices for increasing the comparison between different figures on the same graph?\n",
    "**Ans:** To increase the comparison between different figures on the same graph, you can adjust the axis scales, use different colors or patterns for each data series, add data labels or annotations, and use legends to identify each figure. Additionally, you can plot multiple figures side by side or in subplots to facilitate comparison."
   ]
  },
  {
   "cell_type": "markdown",
   "id": "db28f249",
   "metadata": {},
   "source": [
    "#### Q2. Can you explain the benefit of compound interest over a higher rate of interest that does not compound after reading this chapter?\n",
    "**Ans:** The benefit of compound interest over a higher rate of interest that does not compound is that compound interest allows your investment or savings to grow exponentially over time. With compound interest, the interest earned is added to the principal, and subsequent interest is calculated based on the new total. This compounding effect leads to a faster rate of growth compared to simple interest, where interest is only calculated on the initial principal."
   ]
  },
  {
   "cell_type": "markdown",
   "id": "41155b92",
   "metadata": {},
   "source": [
    "#### Q3. What is a histogram, exactly? Name a numpy method for creating such a graph ?\n",
    "**Ans:** A histogram is a graphical representation of the distribution of a dataset. It divides the data into bins or intervals and shows the frequency or count of data points falling within each bin. In NumPy, you can create a histogram using the `numpy.histogram() `method."
   ]
  },
  {
   "cell_type": "markdown",
   "id": "c290f68f",
   "metadata": {},
   "source": [
    "#### Q4. If necessary, how do you change the aspect ratios between the X and Y axes ?\n",
    "**Ans:** To change the aspect ratios between the X and Y axes, you can use the plt.axes().set_aspect() function in Matplotlib. You can specify the aspect ratio as a numerical value, or you can use the string \"equal\" to set the aspect ratio to be equal."
   ]
  },
  {
   "cell_type": "markdown",
   "id": "08349ded",
   "metadata": {},
   "source": [
    "#### Q5. Compare and contrast the three types of array multiplication between two numpy arrays: dot product, outer product, and regular multiplication of two numpy arrays ?\n",
    "**Ans:** \n",
    "* `Dot product:` The dot product of two numpy arrays returns a scalar value, which is the sum of the element-wise product of the two arrays. It is used for vector multiplication and matrix multiplication.\n",
    "\n",
    "* `Outer product:` The outer product of two numpy arrays returns a new array with the shape (M, N), where M and N are the sizes of the input arrays. It is used to compute all possible combinations of the elements of the two arrays.\n",
    "* `Regular multiplication:` Regular multiplication of two numpy arrays performs element-wise multiplication, meaning each element of one array is multiplied with the corresponding element of the other array"
   ]
  },
  {
   "cell_type": "markdown",
   "id": "633bb299",
   "metadata": {},
   "source": [
    "#### Q6. Before you buy a home, which numpy function will you use to measure your monthly mortgage payment ?\n",
    "**Ans:** `np.pmt(rate, nper, pv)` function we will be using in order to calculate monthly mortgage payment before you purchase a house.\n",
    "- `rate` = The periodic interest rate\n",
    "- `nper` = The number of payment periods\n",
    "- `pv` = The total value of the mortgage loan"
   ]
  },
  {
   "cell_type": "markdown",
   "id": "17cffb18",
   "metadata": {},
   "source": [
    "#### Q7. Can string data be stored in numpy arrays? If so, list at least one restriction that applies to this data ?\n",
    "**Ans:**  Yes, string data can be stored in numpy arrays, but the restriction is that all elements in a numpy array must have the same length. If a string array has elements of varying lengths, they will be truncated or padded to the length of the longest string. This behavior can lead to unexpected results if not handled properly."
   ]
  },
  {
   "cell_type": "code",
   "execution_count": null,
   "id": "e2584a3c",
   "metadata": {},
   "outputs": [],
   "source": []
  }
 ],
 "metadata": {
  "kernelspec": {
   "display_name": "Python 3 (ipykernel)",
   "language": "python",
   "name": "python3"
  },
  "language_info": {
   "codemirror_mode": {
    "name": "ipython",
    "version": 3
   },
   "file_extension": ".py",
   "mimetype": "text/x-python",
   "name": "python",
   "nbconvert_exporter": "python",
   "pygments_lexer": "ipython3",
   "version": "3.9.7"
  }
 },
 "nbformat": 4,
 "nbformat_minor": 5
}
