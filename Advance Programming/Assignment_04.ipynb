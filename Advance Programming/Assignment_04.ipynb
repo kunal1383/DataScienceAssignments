{
 "cells": [
  {
   "cell_type": "markdown",
   "id": "4c06fa86",
   "metadata": {},
   "source": [
    "#### Q1. Which two operator overloading methods can you use in your classes to support iteration?\n",
    "**Ans:**    `__iter__(self)`: This method is used to define an iterator for the class. It should return an iterator object that implements the __next__() method. The __next__() method defines the behavior of the iterator to retrieve the next item in the sequence.\n",
    "\n",
    "* `__next__(self)`: This method is used to define the behavior of the iterator when retrieving the next item. It should return the next item in the sequence and raise the `StopIteration` exception when there are no more items to be retrieved."
   ]
  },
  {
   "cell_type": "code",
   "execution_count": 1,
   "id": "90a386ed",
   "metadata": {},
   "outputs": [
    {
     "name": "stdout",
     "output_type": "stream",
     "text": [
      "5 6 7 8 9 10 11 12 13 14 15 "
     ]
    }
   ],
   "source": [
    "class Counter:\n",
    "    def __init__(self,low,high):\n",
    "        self.current = low\n",
    "        self.high = high\n",
    "    def __iter__(self):\n",
    "        return self\n",
    "    def __next__(self):\n",
    "        if self.current > self.high:\n",
    "            raise StopIteration\n",
    "        else:\n",
    "            self.current += 1\n",
    "            return self.current - 1\n",
    "for ele in Counter(5,15):\n",
    "    print(ele, end=\" \")"
   ]
  },
  {
   "cell_type": "markdown",
   "id": "0b3e5985",
   "metadata": {},
   "source": [
    "#### Q2. In what contexts do the two operator overloading methods manage printing?\n",
    "**Ans:** **`__str__`** and **`__repr__`** are two operator overloading methods that manage printing.\n",
    "- In Short, the difference between both these operators is the goal of **`__repr__`** is to be unambiguous and **`__str__`** is to be readable.\n",
    "- Whenever we are printing any object reference internally **`__str__`** method will be called by default.\n",
    "- The main purpose of **`__str__`** is for readability. it prints the informal string representation of an object, one that is useful for printing the object. it may not be possible to convert result string to original object.\n",
    "- **`__repr__`** is used to print official string representation of an object, so it includes all information and development."
   ]
  },
  {
   "cell_type": "code",
   "execution_count": 2,
   "id": "8b12d86a",
   "metadata": {},
   "outputs": [
    {
     "name": "stdout",
     "output_type": "stream",
     "text": [
      "<__main__.Student object at 0x000001FDD5B05518>\n",
      "Student Name: Mano and Roll No: 1\n",
      "2021-11-20 18:13:47.885746\n",
      "Unable to convert back to original object\n",
      "datetime.datetime(2021, 11, 20, 18, 13, 47, 885746)\n",
      "2021-11-20 18:13:47.885746\n"
     ]
    }
   ],
   "source": [
    "class Student:\n",
    "    def __init__(self,name,roll_no):\n",
    "        self.name = name\n",
    "        self.roll_no = roll_no\n",
    "        \n",
    "s1 = Student(\"Mano\",1)\n",
    "print(str(s1))\n",
    "\n",
    "class Student:\n",
    "    def __init__(self,name,roll_no):\n",
    "        self.name = name\n",
    "        self.roll_no = roll_no\n",
    "    def __str__(self):\n",
    "        return f'Student Name: {self.name} and Roll No: {self.roll_no}'\n",
    "    \n",
    "s1 = Student(\"Mano\",1)\n",
    "print(str(s1))\n",
    "\n",
    "import datetime\n",
    "today = datetime.datetime.now()\n",
    "\n",
    "s = str(today) # converting datetime object to presentable str\n",
    "print(s)\n",
    "try: d = eval(s) # converting str back to datetime object\n",
    "except: print(\"Unable to convert back to original object\")\n",
    "    \n",
    "u = repr(today) # converting datetime object to str\n",
    "print(u)\n",
    "e = eval(u) # converting str back to datetime object\n",
    "print(e)"
   ]
  },
  {
   "cell_type": "markdown",
   "id": "776e9c16",
   "metadata": {},
   "source": [
    "#### Q3. In a class, how do you intercept slice operations?\n",
    "**Ans:** To intercept slice operations in a class, you can define the __getitem__() method. This method allows you to customize the behavior when the object is accessed using square brackets with slice notation. The method receives the slice object as an argument and can return the desired elements based on the slice."
   ]
  },
  {
   "cell_type": "code",
   "execution_count": 1,
   "id": "676bf066",
   "metadata": {},
   "outputs": [
    {
     "name": "stdout",
     "output_type": "stream",
     "text": [
      "[2, 3, 4]\n"
     ]
    }
   ],
   "source": [
    "class MyClass:\n",
    "    def __init__(self, data):\n",
    "        self.data = data\n",
    "\n",
    "    def __getitem__(self, key):\n",
    "        return self.data[key]\n",
    "\n",
    "obj = MyClass([1, 2, 3, 4, 5])\n",
    "print(obj[1:4]) \n"
   ]
  },
  {
   "cell_type": "markdown",
   "id": "1960c808",
   "metadata": {},
   "source": [
    "#### Q4. In a class, how do you capture in-place addition?\n",
    "**Ans:** To capture in-place addition in a class, we can define the` __iadd__()` method. This method is called when the `+= `operator is used with instances of the class. It allows you to customize the behavior of in-place addition for objects of your class."
   ]
  },
  {
   "cell_type": "code",
   "execution_count": 2,
   "id": "89e37d51",
   "metadata": {},
   "outputs": [
    {
     "name": "stdout",
     "output_type": "stream",
     "text": [
      "300\n"
     ]
    }
   ],
   "source": [
    "class Book:\n",
    "    def __init__(self,pages):\n",
    "        self.pages = pages\n",
    "    def __iadd__(self,other):\n",
    "        self.pages += other.pages\n",
    "        return self.pages\n",
    "        \n",
    "b1 = Book(100)\n",
    "b2 = Book(200)\n",
    "b1+=b2\n",
    "print(b1)"
   ]
  },
  {
   "cell_type": "markdown",
   "id": "341416c2",
   "metadata": {},
   "source": [
    "#### Q5. When is it appropriate to use operator overloading?\n",
    "**Ans:** Operator overloading is appropriate when we want to give special meaning or behavior to standard Python operators (+, -, *, etc.) for objects of our custom class. It allows us to define how instances of our class interact with built-in operators, making our class more intuitive and user-friendly.\n",
    "\n",
    "Some common use cases for operator overloading include:\n",
    "\n",
    "* Mathematical operations: Implementing custom arithmetic operations for objects of our class.\n",
    "* Container types: Making our class behave like a sequence (e.g., list) or a mapping (e.g., dictionary).\n",
    "* Comparison: Customizing the behavior of comparison operators (>, <, ==, etc.) for our objects.\n",
    "* Iteration: Supporting iteration using the for loop and other iteration constructs.\n",
    "* String representation: Defining how instances of your class should be represented as strings."
   ]
  },
  {
   "cell_type": "code",
   "execution_count": 4,
   "id": "14b44902",
   "metadata": {},
   "outputs": [
    {
     "name": "stdout",
     "output_type": "stream",
     "text": [
      "Total Number of Pages -> 300\n"
     ]
    }
   ],
   "source": [
    "class Book:\n",
    "    def __init__(self,pages):\n",
    "        self.pages = pages\n",
    "    def __add__(self,other):\n",
    "        return self.pages+other.pages\n",
    "b1 = Book(100)\n",
    "b2 = Book(200)\n",
    "print(f'Total Number of Pages -> {b1+b2}')"
   ]
  }
 ],
 "metadata": {
  "kernelspec": {
   "display_name": "Python 3 (ipykernel)",
   "language": "python",
   "name": "python3"
  },
  "language_info": {
   "codemirror_mode": {
    "name": "ipython",
    "version": 3
   },
   "file_extension": ".py",
   "mimetype": "text/x-python",
   "name": "python",
   "nbconvert_exporter": "python",
   "pygments_lexer": "ipython3",
   "version": "3.9.7"
  }
 },
 "nbformat": 4,
 "nbformat_minor": 5
}
