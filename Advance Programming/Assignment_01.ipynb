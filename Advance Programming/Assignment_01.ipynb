{
 "cells": [
  {
   "cell_type": "markdown",
   "id": "f539b01e",
   "metadata": {},
   "source": [
    "# Assignment 01 Solutions"
   ]
  },
  {
   "cell_type": "markdown",
   "id": "942401c5",
   "metadata": {},
   "source": [
    "#### Q1. What is the purpose of Python's OOP?\n",
    "**Ans:** Object-oriented programming is a programming paradigm that provides a means of structuring programs so that properties and behaviors are bundled into individual objects\n",
    "- In Python, object-oriented Programming (OOPs) uses objects and classes in programming. \n",
    "- It aims to implement real-world entities like inheritance, polymorphisms, encapsulation, etc. in the programming.\n",
    "- The main concept of OOPs is to bind the data and the functions that work on that together as a single unit so that no other part of the code can access this data. \n",
    "- It comes up with the following advantages:\n",
    "- It helps to divide our over all program into different small segments and thus making it solving easy with the use of objects\n",
    "- Helps in easy maintenance and modification of existing program\n",
    "- Multiple instances of an object can be made."
   ]
  },
  {
   "cell_type": "markdown",
   "id": "7cfcf3e9",
   "metadata": {},
   "source": [
    "#### Q2. Where does an inheritance search look for an attribute?\n",
    "**Ans:** Python searches for an attribute in an upward tree of attributes. Inheritance search for an attribute starts with the instance itself, and if the attribute is not found, Python looks in the class definition, and then in its superclasses (base classes) in the order specified by the Method Resolution Order (MRO)."
   ]
  },
  {
   "cell_type": "markdown",
   "id": "096d7b0b",
   "metadata": {},
   "source": [
    "#### Q3. How do you distinguish between a class object and an instance object?\n",
    "**Ans:**  \n",
    "* Class Object: A class object is the actual class itself, which is created when the class is defined. It represents the blueprint for creating instances of that class and holds the class-level attributes and methods.\n",
    "\n",
    "* Instance Object: An instance object is a specific object created from a class. It represents an individual occurrence of the class and holds its own unique data and attributes. Each instance is independent of other instances of the same class."
   ]
  },
  {
   "cell_type": "markdown",
   "id": "fd8cc6bc",
   "metadata": {},
   "source": [
    "#### Q4. What makes the first argument in a class’s method function special?\n",
    "**Ans:** The first argument in a class's method function is conventionally named `self`. It refers to the instance object that the method is called on. When a method is called on an instance `(e.g., instance.method())`, Python automatically passes the instance itself as the first argument `(self)` so that the method can access and manipulate the instance's data."
   ]
  },
  {
   "cell_type": "markdown",
   "id": "94de0426",
   "metadata": {},
   "source": [
    "#### Q5. What is the purpose of the __init__ method?\n",
    "**Ans:** The `__init__` method is a special method in Python classes, also known as the `constructor`. It is called automatically when a new instance of the class is created. The purpose of the` __init__ `method is to initialize the instance's attributes and set their initial values."
   ]
  },
  {
   "cell_type": "markdown",
   "id": "3e47943f",
   "metadata": {},
   "source": [
    "#### Q6. What is the process for creating a class instance?\n",
    "**Ans:**  To create a class instance, you first define a class with the `class` keyword. Then, you can create an instance of that class by calling the class as if it were a function, passing any necessary arguments to the __init__ method (if it's defined in the class). The process looks like this:\n",
    "\n",
    "#### Class definition\n",
    "`class MyClass:\n",
    "    def __init__(self, arg1, arg2):\n",
    "        # Initialize instance attributes\n",
    "        self.attr1 = arg1\n",
    "        self.attr2 = arg2`\n",
    "\n",
    "`#### Creating an instance of MyClass\n",
    "instance = MyClass(value1, value2)\n",
    "`"
   ]
  },
  {
   "cell_type": "markdown",
   "id": "8ddf33a9",
   "metadata": {},
   "source": [
    "#### Q7. What is the process for creating a class?\n",
    "**Ans:** The process for creating a class involves defining the class using the `class` keyword and providing the class name, followed by the class body. The class body contains attributes, methods, and other class-related definitions. Once the class is defined, it can be instantiated to create objects (instances) of that class.\n",
    "\n",
    "#### Class definition\n",
    "`class MyClass:\n",
    "    class_var = 10  # Class-level attribute\n",
    "\n",
    "    def __init__(self, arg1):\n",
    "        # Instance attribute\n",
    "        self.attr1 = arg1\n",
    "\n",
    "    def some_method(self):\n",
    "        # Method\n",
    "        pass  \n",
    "`\n",
    "#### Creating an instance of MyClass\n",
    "`\n",
    "instance = MyClass(value1)`"
   ]
  },
  {
   "cell_type": "markdown",
   "id": "b58c55d6",
   "metadata": {},
   "source": [
    "#### Q8. How would you define the superclasses of a class?\n",
    "**Ans** The superclasses of a class are also known as base classes or parent classes. These are the classes from which the current class inherits attributes and methods. In Python, you can specify the superclasses of a class by listing them inside parentheses after the class name in the class definition. \n",
    "\n",
    "`class BaseClass1:\n",
    "\n",
    "    pass\n",
    "\n",
    "class BaseClass2:\n",
    "\n",
    "    pass\n",
    "\n",
    "class SubClass(BaseClass1, BaseClass2):\n",
    "\n",
    "    pass\n",
    "`"
   ]
  },
  {
   "cell_type": "code",
   "execution_count": null,
   "id": "47fb3534",
   "metadata": {},
   "outputs": [],
   "source": []
  }
 ],
 "metadata": {
  "kernelspec": {
   "display_name": "Python 3 (ipykernel)",
   "language": "python",
   "name": "python3"
  },
  "language_info": {
   "codemirror_mode": {
    "name": "ipython",
    "version": 3
   },
   "file_extension": ".py",
   "mimetype": "text/x-python",
   "name": "python",
   "nbconvert_exporter": "python",
   "pygments_lexer": "ipython3",
   "version": "3.9.7"
  }
 },
 "nbformat": 4,
 "nbformat_minor": 5
}
