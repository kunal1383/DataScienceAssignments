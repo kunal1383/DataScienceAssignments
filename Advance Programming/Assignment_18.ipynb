{
 "cells": [
  {
   "cell_type": "markdown",
   "id": "fcd9b173",
   "metadata": {},
   "source": [
    "#### Q1. Describe the differences between text and binary files in a single paragraph.\n",
    "**Ans:**  `Text files `store data as plain text in a `human-readable` format, where characters represent data. In contrast, `binary files` store data in a `non-human-readable` format using binary values, representing data directly in its raw form. Text files use character encodings like ASCII or UTF-8 to represent text, while binary files can contain any data, including images, audio, or compiled code."
   ]
  },
  {
   "cell_type": "markdown",
   "id": "3e363a3b",
   "metadata": {},
   "source": [
    "#### Q2. What are some scenarios where using text files will be the better option? When would you like to use binary files instead of text files?\n",
    "**Ans:** Using text files is a better option when working with data that can be easily represented as text, such as configuration files, log files, or simple data sets. Text files are more portable and human-readable. On the other hand, binary files are preferred when dealing with complex data structures or when performance and storage efficiency are critical, such as working with images, videos, or large datasets."
   ]
  },
  {
   "cell_type": "markdown",
   "id": "79fabe8b",
   "metadata": {},
   "source": [
    "#### Q3. What are some of the issues with using binary operations to read and write a Python integer directly to disc?\n",
    "**Ans:** One of the issues with using binary operations to read and write Python integers directly to disk is endianness. Different platforms may have different byte orders for storing integers. Another issue is that binary files are not human-readable, making debugging and manual inspection challenging.\n"
   ]
  },
  {
   "cell_type": "markdown",
   "id": "96674fa6",
   "metadata": {},
   "source": [
    "#### Q4. Describe a benefit of using the with keyword instead of explicitly opening a file ?\n",
    "**Ans:** Using the `with` keyword to open files has the benefit of automatically handling file closing. When the block under the with statement completes, the file is closed automatically, ensuring proper cleanup and resource management, even if an exception occurs."
   ]
  },
  {
   "cell_type": "markdown",
   "id": "7ec11be2",
   "metadata": {},
   "source": [
    "#### Q5. Does Python have the trailing newline while reading a line of text? Does Python append a newline when you write a line of text?\n",
    "**Ans:** When reading a line of text in Python, the trailing newline character is preserved, and it is part of the returned string. When writing a line of text to a file using the write() method, Python does not automatically append a newline character. You need to add the newline explicitly if desired."
   ]
  },
  {
   "cell_type": "markdown",
   "id": "8d433ac7",
   "metadata": {},
   "source": [
    "#### Q6. What file operations enable for random-access operation?\n",
    "**Ans:** Random-access operations are enabled using the `seek()` method in binary files. The `seek()` method allows you to move the file's read/write pointer to a specific position, enabling reading or writing at arbitrary locations within the file"
   ]
  },
  {
   "cell_type": "markdown",
   "id": "6e521586",
   "metadata": {},
   "source": [
    "#### Q7. When do you think you'll use the struct package the most?\n",
    "**Ans:** The **`struct`** package is mostly used while converting a common python types into **`C`** language types."
   ]
  },
  {
   "cell_type": "markdown",
   "id": "9609ec3f",
   "metadata": {},
   "source": [
    "#### Q8. When is pickling the best option?\n",
    "**Ans:**  Pickling is the best option when you need to serialize and deserialize Python objects to and from a binary format. It allows you to store complex data structures, including custom objects, preserving their internal structure."
   ]
  },
  {
   "cell_type": "markdown",
   "id": "98b90ed9",
   "metadata": {},
   "source": [
    "#### Q9. When will it be best to use the shelve package?\n",
    "**Ans:** **`Shelve`** package is used to pickle data but  treats the entire file as dictionary."
   ]
  },
  {
   "cell_type": "markdown",
   "id": "a4ad2a21",
   "metadata": {},
   "source": [
    "#### Q10. What is a special restriction when using the shelve package, as opposed to using other data dictionaries?\n",
    "**Ans:** A special restriction of using the shelve package is that the keys must be strings. Since shelve uses strings as keys to store objects, non-string keys will be converted to strings before storing."
   ]
  },
  {
   "cell_type": "code",
   "execution_count": null,
   "id": "1e4643a3",
   "metadata": {},
   "outputs": [],
   "source": []
  }
 ],
 "metadata": {
  "kernelspec": {
   "display_name": "Python 3 (ipykernel)",
   "language": "python",
   "name": "python3"
  },
  "language_info": {
   "codemirror_mode": {
    "name": "ipython",
    "version": 3
   },
   "file_extension": ".py",
   "mimetype": "text/x-python",
   "name": "python",
   "nbconvert_exporter": "python",
   "pygments_lexer": "ipython3",
   "version": "3.9.7"
  }
 },
 "nbformat": 4,
 "nbformat_minor": 5
}
