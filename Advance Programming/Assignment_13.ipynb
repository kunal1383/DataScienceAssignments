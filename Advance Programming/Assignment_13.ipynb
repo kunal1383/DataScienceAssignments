{
 "cells": [
  {
   "cell_type": "markdown",
   "id": "dfee8ef3",
   "metadata": {},
   "source": [
    "#### Q1. Can you create a programme or function that employs both positive and negative indexing? Is there any repercussion if you do so?\n",
    "**Ans** Creating a program or function that employs both positive and negative indexing is possible and can be useful in various scenarios. Positive indexing starts from 0 for the first element, while negative indexing starts from -1 for the last element. The main repercussion of using negative indexing is that it can lead to confusion and make the code harder to read and maintain."
   ]
  },
  {
   "cell_type": "code",
   "execution_count": 1,
   "id": "900d1a45",
   "metadata": {},
   "outputs": [
    {
     "name": "stdout",
     "output_type": "stream",
     "text": [
      "Positive Indexing -> 6\n",
      "Negative Indexing -> 10\n"
     ]
    }
   ],
   "source": [
    "my_list = [1,2,3,4,5,6,6,7,8,9,10]\n",
    "def bi_index(in_list,position):\n",
    "    return in_list[position]\n",
    "print('Positive Indexing ->',bi_index(my_list,5))\n",
    "print('Negative Indexing ->',bi_index(my_list,-1))"
   ]
  },
  {
   "cell_type": "markdown",
   "id": "12df6e66",
   "metadata": {},
   "source": [
    "#### Q2. What is the most effective way of starting with 1,000 elements in a Python list? Assume that all elements should be set to the same value.\n",
    "**Ans** The most effective way to start with 1,000 elements in a Python list, all set to the same value, is to use list multiplication."
   ]
  },
  {
   "cell_type": "code",
   "execution_count": 1,
   "id": "4c491202",
   "metadata": {},
   "outputs": [],
   "source": [
    "# Creating a list with 1,000 elements, all set to the value 0\n",
    "my_list = [0] * 1000\n"
   ]
  },
  {
   "cell_type": "markdown",
   "id": "6351fa74",
   "metadata": {},
   "source": [
    "#### Q3. How do you slice a list to get any other part while missing the rest? (For example, suppose you want to make a new list with the elements first, third, fifth, seventh, and so on.)\n",
    "**Ans** To slice a list and get every other part while missing the rest, you can use slice notation with a step of 2."
   ]
  },
  {
   "cell_type": "code",
   "execution_count": 2,
   "id": "8086d0ef",
   "metadata": {},
   "outputs": [
    {
     "name": "stdout",
     "output_type": "stream",
     "text": [
      "[1, 3, 5, 7, 9]\n"
     ]
    }
   ],
   "source": [
    "my_list = [1, 2, 3, 4, 5, 6, 7, 8, 9, 10]\n",
    "\n",
    "# Slicing the list to get every other element\n",
    "result = my_list[::2]\n",
    "print(result)  \n"
   ]
  },
  {
   "cell_type": "markdown",
   "id": "250146a1",
   "metadata": {},
   "source": [
    "#### Q4. Explain the distinctions between indexing and slicing ?\n",
    "**Ans:** Indexing returns a single element from the list, while slicing returns a new list with a specified portion of elements.\n",
    "\n",
    "Indexing uses a single integer value to access a specific element at that index, while slicing uses a colon-separated range of integers to specify a portion of elements."
   ]
  },
  {
   "cell_type": "code",
   "execution_count": 4,
   "id": "f8d34711",
   "metadata": {},
   "outputs": [
    {
     "name": "stdout",
     "output_type": "stream",
     "text": [
      "2\n",
      "[2, 3, 4]\n"
     ]
    }
   ],
   "source": [
    "my_list = [1, 2, 3, 4, 5]\n",
    "\n",
    "# Indexing\n",
    "element = my_list[1]\n",
    "print(element) \n",
    "\n",
    "# Slicing\n",
    "portion = my_list[1:4]\n",
    "print(portion)  \n"
   ]
  },
  {
   "cell_type": "markdown",
   "id": "a4d16dbf",
   "metadata": {},
   "source": [
    "#### Q5. What happens if one of the slicing expression's indexes is out of range?\n",
    "**Ans:** If one of the slicing expression's indexes is out of range, Python will not raise an error but will handle it gracefully. If the start index is greater than the length of the list, an empty list will be returned. If the end index is greater than the length of the list, the slicing will go up to the last element of the list."
   ]
  },
  {
   "cell_type": "code",
   "execution_count": 5,
   "id": "5f827cf4",
   "metadata": {},
   "outputs": [
    {
     "name": "stdout",
     "output_type": "stream",
     "text": [
      "[]\n",
      "[1, 2, 3, 4, 5]\n"
     ]
    }
   ],
   "source": [
    "my_list = [1, 2, 3, 4, 5]\n",
    "\n",
    "# Out of range start index\n",
    "result = my_list[10:]\n",
    "print(result)  \n",
    "\n",
    "# Out of range end index\n",
    "result = my_list[:10]\n",
    "print(result)  \n"
   ]
  },
  {
   "cell_type": "markdown",
   "id": "33dbda88",
   "metadata": {},
   "source": [
    "#### Q6. If you pass a list to a function, and if you want the function to be able to change the values of the list—so that the list is different after the function returns—what action should you do?\n",
    "**Ans:**  To allow a function to change the values of a list that is passed as an argument, you should avoid reassigning the list variable to a new list object inside the function. Instead, you can directly modify the elements of the list."
   ]
  },
  {
   "cell_type": "code",
   "execution_count": 6,
   "id": "97340aef",
   "metadata": {},
   "outputs": [
    {
     "name": "stdout",
     "output_type": "stream",
     "text": [
      "[4, 5, 6]\n",
      "[10, 5, 6]\n"
     ]
    }
   ],
   "source": [
    "# Avoid reassigning the list variable\n",
    "def modify_list(lst):\n",
    "    lst = [1, 2, 3]  # Avoid doing this, as it creates a new list object\n",
    "\n",
    "my_list = [4, 5, 6]\n",
    "modify_list(my_list)\n",
    "print(my_list)\n",
    "\n",
    "# Modify the elements directly\n",
    "def modify_list(lst):\n",
    "    lst[0] = 10\n",
    "\n",
    "my_list = [4, 5, 6]\n",
    "modify_list(my_list)\n",
    "print(my_list) \n"
   ]
  },
  {
   "cell_type": "markdown",
   "id": "6b1caf1f",
   "metadata": {},
   "source": [
    "#### Q7. What is the concept of an unbalanced matrix?\n",
    "**Ans:**  An unbalanced matrix is a matrix that does not have the same number of elements in each row. In other words, the rows have varying lengths."
   ]
  },
  {
   "cell_type": "markdown",
   "id": "95862b0d",
   "metadata": {},
   "source": [
    "#### Q8. Why is it necessary to use either list comprehension or a loop to create arbitrarily large matrices?\n",
    "**Ans:**   To create arbitrarily large matrices, you need to use either list comprehension or loops because they allow you to generate elements dynamically based on specific patterns or conditions."
   ]
  },
  {
   "cell_type": "code",
   "execution_count": null,
   "id": "f8873133",
   "metadata": {},
   "outputs": [],
   "source": []
  }
 ],
 "metadata": {
  "kernelspec": {
   "display_name": "Python 3 (ipykernel)",
   "language": "python",
   "name": "python3"
  },
  "language_info": {
   "codemirror_mode": {
    "name": "ipython",
    "version": 3
   },
   "file_extension": ".py",
   "mimetype": "text/x-python",
   "name": "python",
   "nbconvert_exporter": "python",
   "pygments_lexer": "ipython3",
   "version": "3.9.7"
  }
 },
 "nbformat": 4,
 "nbformat_minor": 5
}
