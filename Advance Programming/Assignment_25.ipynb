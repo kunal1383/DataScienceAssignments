{
 "cells": [
  {
   "cell_type": "markdown",
   "id": "bb43a46e",
   "metadata": {},
   "source": [
    "#### Q1. What is the distinction between a numpy array and a pandas data frame? Is there a way to convert between the two if there is ?\n",
    "**Ans:** The main distinction between a NumPy array and a Pandas DataFrame is that a NumPy array is a multi-dimensional homogeneous array, while a Pandas DataFrame is a 2-dimensional, size-mutable, and heterogeneous tabular data structure. NumPy arrays are more suitable for mathematical operations and numerical computations, while Pandas DataFrames offer more functionalities for data manipulation, analysis, and handling missing data.\n",
    "\n",
    "Yes, there is a way to convert between the two. You can create a Pandas DataFrame from a NumPy array using the pd.DataFrame() constructor. Similarly, you can convert a Pandas DataFrame to a NumPy array using the .values attribute of the DataFrame."
   ]
  },
  {
   "cell_type": "markdown",
   "id": "8bc462be",
   "metadata": {},
   "source": [
    "#### Q2. What can go wrong when an user enters in a stock-ticker symbol, and how do you handle it?\n",
    "**Ans** When a user enters a stock-ticker symbol, several things can go wrong, such as:\n",
    "\n",
    "* Entering an incorrect or non-existent stock-ticker symbol.\n",
    "* Connectivity issues while retrieving stock data from the data source.\n",
    "* Invalid input format or incorrect data type.\n",
    "* Unexpected server errors or data unavailability.\n",
    "\n",
    "To handle such situations, you can use error handling techniques like try-except blocks to catch exceptions and provide appropriate error messages or prompts to the user."
   ]
  },
  {
   "cell_type": "markdown",
   "id": "24146fcb",
   "metadata": {},
   "source": [
    "#### Q3. Identify some of the plotting techniques that are used to produce a stock-market chart ?\n",
    "**Ans:** Some plotting techniques used to produce a stock-market chart include:\n",
    "\n",
    "- Line plot: To visualize stock prices over time.\n",
    "- Candlestick plot: To display open, high, low, and close prices of stocks.\n",
    "- Moving averages: To smooth out stock price trends and identify patterns.\n",
    "- Volume plot: To show the trading volume of stocks over time.\n",
    "- Bollinger Bands: To indicate potential price volatility."
   ]
  },
  {
   "cell_type": "markdown",
   "id": "f0fdf95b",
   "metadata": {},
   "source": [
    "#### Q4. Why is it essential to print a legend on a stock market chart ?\n",
    "**Ans:** Legend will help comparison between different stocks, so will be essential on a stock market chart"
   ]
  },
  {
   "cell_type": "markdown",
   "id": "186d0d51",
   "metadata": {},
   "source": [
    "#### Q5. What is the best way to limit the length of a pandas data frame to less than a year ?\n",
    "**Ans:** : The best way to limit the length of a Pandas DataFrame to less than a year is to filter the DataFrame based on the date range you want to keep. You can use the pd.to_datetime() function to convert the date column to a datetime data type and then use boolean indexing to select the rows within the desired date range."
   ]
  },
  {
   "cell_type": "markdown",
   "id": "5805fa40",
   "metadata": {},
   "source": [
    "#### Q6. What is the definition of a 180-day moving average ?\n",
    "**Ans:** :  A 180-day moving average is a stock market indicator that calculates the average price of a stock over the past 180 trading days. It helps smooth out short-term fluctuations and provides a better understanding of the long-term trend of the stock's price."
   ]
  },
  {
   "cell_type": "markdown",
   "id": "02d205cb",
   "metadata": {},
   "source": [
    "#### Q7. Did the chapter's final example use \"indirect\" importing? If so, how exactly do you do it?\n",
    "**Ans** Yes, the chapter's final example used \"indirect\" importing by using the as keyword when importing the modules. For example, it imported Pandas as pd and Matplotlib.pyplot as plt. This allows the code to use shorter aliases for the module names and makes the code more concise and readable."
   ]
  },
  {
   "cell_type": "code",
   "execution_count": null,
   "id": "f2808f27",
   "metadata": {},
   "outputs": [],
   "source": []
  }
 ],
 "metadata": {
  "kernelspec": {
   "display_name": "Python 3 (ipykernel)",
   "language": "python",
   "name": "python3"
  },
  "language_info": {
   "codemirror_mode": {
    "name": "ipython",
    "version": 3
   },
   "file_extension": ".py",
   "mimetype": "text/x-python",
   "name": "python",
   "nbconvert_exporter": "python",
   "pygments_lexer": "ipython3",
   "version": "3.9.7"
  }
 },
 "nbformat": 4,
 "nbformat_minor": 5
}
