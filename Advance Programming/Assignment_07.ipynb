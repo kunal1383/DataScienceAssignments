{
 "cells": [
  {
   "cell_type": "markdown",
   "id": "890ac6ef",
   "metadata": {},
   "source": [
    "#### Q1. What is the purpose of the try statement?\n",
    "**Ans:** The `try statement` is used for exception handling in Python. It allows you to write code that may raise exceptions in a protected block. If an exception occurs within the try block, it is caught and can be handled in the corresponding except block. The try statement helps in preventing the program from terminating abruptly due to unhandled exceptions."
   ]
  },
  {
   "cell_type": "code",
   "execution_count": 1,
   "id": "72d89888",
   "metadata": {},
   "outputs": [
    {
     "name": "stdout",
     "output_type": "stream",
     "text": [
      "Division by Zero is Not Possible\n"
     ]
    }
   ],
   "source": [
    "try:\n",
    "    print(10/0)\n",
    "except ZeroDivisionError:\n",
    "    print('Division by Zero is Not Possible')"
   ]
  },
  {
   "cell_type": "markdown",
   "id": "4edfb2b6",
   "metadata": {},
   "source": [
    "#### Q2. What are the two most popular try statement variations?\n",
    "**Ans:** \n",
    "1. `try-except block:` This is the most common form of the try statement. It consists of a try block followed by one or more except blocks. If an exception occurs in the try block, it is caught by the corresponding except block, and the appropriate exception handling code is executed.\n",
    "\n",
    "2. `try-finally block:` This variation includes a finally block along with the try block. The code in the finally block always executes, regardless of whether an exception occurred or not. It is used to ensure that certain cleanup operations or resource releases are performed before exiting the try block."
   ]
  },
  {
   "cell_type": "code",
   "execution_count": 1,
   "id": "fa04dce2",
   "metadata": {},
   "outputs": [
    {
     "name": "stdout",
     "output_type": "stream",
     "text": [
      "Cannot divide by zero!\n"
     ]
    }
   ],
   "source": [
    "#try-except\n",
    "try:\n",
    "    # Code that may raise an exception\n",
    "    result = 10 / 0\n",
    "except ZeroDivisionError:\n",
    "    print(\"Cannot divide by zero!\")\n"
   ]
  },
  {
   "cell_type": "code",
   "execution_count": 3,
   "id": "ae114eb5",
   "metadata": {},
   "outputs": [
    {
     "name": "stdout",
     "output_type": "stream",
     "text": [
      "The result of 10 divided by 2 is: 5.0\n",
      "Operation completed.\n",
      "None\n",
      "Error: Cannot divide by zero.\n",
      "Operation completed.\n",
      "None\n",
      "The result of 20 divided by 5 is: 4.0\n",
      "Operation completed.\n",
      "None\n"
     ]
    }
   ],
   "source": [
    "# try-finally\n",
    "def divide_numbers(a, b):\n",
    "    try:\n",
    "        result = a / b\n",
    "        print(f\"The result of {a} divided by {b} is: {result}\")\n",
    "    except ZeroDivisionError:\n",
    "        print(\"Error: Cannot divide by zero.\")\n",
    "    finally:\n",
    "        print(\"Operation completed.\")\n",
    "\n",
    "# Test cases\n",
    "print(divide_numbers(10, 2) ) \n",
    "print(divide_numbers(8, 0)  )\n",
    "print(divide_numbers(20, 5) )\n",
    "  \n",
    " \n",
    "\n"
   ]
  },
  {
   "cell_type": "markdown",
   "id": "c39b56b0",
   "metadata": {},
   "source": [
    "#### Q3. What is the purpose of the raise statement?\n",
    "**Ans:** The` raise statement` is used to explicitly raise exceptions in Python. It allows developers to trigger exceptions programmatically, either by using built-in exception classes or by creating custom exception classes. The raise statement is often used in error handling situations where specific conditions warrant raising an exception."
   ]
  },
  {
   "cell_type": "markdown",
   "id": "2ea68550",
   "metadata": {},
   "source": [
    "#### Q4. What does the assert statement do, and what other statement is it like?\n",
    "**Ans:** The assert statement is used as a debugging aid and checks whether a given condition is true. If the condition is false, an AssertionError is raised. The assert statement is often used to verify assumptions during development and can be disabled in production environments to improve performance."
   ]
  },
  {
   "cell_type": "code",
   "execution_count": 5,
   "id": "6df3fe6c",
   "metadata": {},
   "outputs": [
    {
     "ename": "AssertionError",
     "evalue": "this is not a valid statement",
     "output_type": "error",
     "traceback": [
      "\u001b[1;31m---------------------------------------------------------------------------\u001b[0m",
      "\u001b[1;31mAssertionError\u001b[0m                            Traceback (most recent call last)",
      "Cell \u001b[1;32mIn[5], line 1\u001b[0m\n\u001b[1;32m----> 1\u001b[0m \u001b[38;5;28;01massert\u001b[39;00m(\u001b[38;5;241m2\u001b[39m \u001b[38;5;241m==\u001b[39m \u001b[38;5;241m4\u001b[39m), \u001b[38;5;124mf\u001b[39m\u001b[38;5;124m'\u001b[39m\u001b[38;5;124mthis is not a valid statement\u001b[39m\u001b[38;5;124m'\u001b[39m\n",
      "\u001b[1;31mAssertionError\u001b[0m: this is not a valid statement"
     ]
    }
   ],
   "source": [
    "assert(2 == 4), f'this is not a valid statement'"
   ]
  },
  {
   "cell_type": "markdown",
   "id": "1cc50d65",
   "metadata": {},
   "source": [
    "#### Q5. What is the purpose of the with/as argument, and what other statement is it like?\n",
    "**Ans:** The `with/as` statement is used for resource management in Python. It provides a way to ensure that resources are properly managed and released, even if exceptions occur during the execution of a block of code. The with statement is used in conjunction with context managers, and it guarantees that the enter() and exit() methods of the context manager will be called properly.\n",
    "\n",
    "`with open('sample_file.txt','w') as file:\n",
    "    file.write('Hello World')`"
   ]
  },
  {
   "cell_type": "code",
   "execution_count": null,
   "id": "51c5965c",
   "metadata": {},
   "outputs": [],
   "source": []
  }
 ],
 "metadata": {
  "kernelspec": {
   "display_name": "Python 3 (ipykernel)",
   "language": "python",
   "name": "python3"
  },
  "language_info": {
   "codemirror_mode": {
    "name": "ipython",
    "version": 3
   },
   "file_extension": ".py",
   "mimetype": "text/x-python",
   "name": "python",
   "nbconvert_exporter": "python",
   "pygments_lexer": "ipython3",
   "version": "3.9.7"
  }
 },
 "nbformat": 4,
 "nbformat_minor": 5
}
