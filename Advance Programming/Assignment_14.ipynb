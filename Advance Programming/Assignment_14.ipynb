{
 "cells": [
  {
   "cell_type": "markdown",
   "id": "642bede4",
   "metadata": {},
   "source": [
    "#### Q1. Is an assignment operator like += only for show? Is it possible that it would lead to faster results at the runtime ?\n",
    "**Ans:** The assignment operator `+=` is not just for show, and it can indeed lead to faster results at runtime in certain situations. It is an in-place addition operator that modifies the variable in place rather than creating a new object. This can be faster than creating a new object and assigning it to the variable, especially for mutable objects like lists."
   ]
  },
  {
   "cell_type": "code",
   "execution_count": 1,
   "id": "91112e78",
   "metadata": {},
   "outputs": [
    {
     "name": "stdout",
     "output_type": "stream",
     "text": [
      "8\n"
     ]
    }
   ],
   "source": [
    "# Using assignment operator +=\n",
    "x = 5\n",
    "x += 3\n",
    "print(x) \n",
    "\n",
    "# Equivalent to x = x + 3\n"
   ]
  },
  {
   "cell_type": "markdown",
   "id": "edf5ed8a",
   "metadata": {},
   "source": [
    "#### Q2. What is the smallest no of statements you'd have to write in most programming languages to replace the Python expr **`a, b = a + b, a`** ?\n",
    "**Ans:** In most programming languages, you would need three statements to replace the Python expression a, b = a + b, a."
   ]
  },
  {
   "cell_type": "code",
   "execution_count": 3,
   "id": "912e15dd",
   "metadata": {},
   "outputs": [],
   "source": [
    "# Three statements in other languages\n",
    "temp = a + b\n",
    "a = temp\n",
    "b = a\n"
   ]
  },
  {
   "cell_type": "markdown",
   "id": "97a99e30",
   "metadata": {},
   "source": [
    "#### Q3. In Python, what is the most effective way to set a list of 100 integers to 0?\n",
    "**Ans:** The most effective way to set a list of 100 integers to 0 in Python is by using a list comprehension."
   ]
  },
  {
   "cell_type": "code",
   "execution_count": 4,
   "id": "a7c86339",
   "metadata": {},
   "outputs": [],
   "source": [
    "# Using list comprehension to initialize a list of 100 integers to 0\n",
    "my_list = [0 for _ in range(100)]\n"
   ]
  },
  {
   "cell_type": "markdown",
   "id": "59d2dc95",
   "metadata": {},
   "source": [
    "#### Q4. What is the most effective way to initialise a list of 99 integers that repeats the sequence 1, 2, 3? S If necessary, show step-by-step instructions on how to accomplish this."
   ]
  },
  {
   "cell_type": "code",
   "execution_count": 5,
   "id": "1431f7a8",
   "metadata": {},
   "outputs": [
    {
     "name": "stdout",
     "output_type": "stream",
     "text": [
      "[1, 2, 3, 1, 2, 3, 1, 2, 3, 1, 2, 3, 1, 2, 3, 1, 2, 3, 1, 2, 3, 1, 2, 3, 1, 2, 3, 1, 2, 3, 1, 2, 3, 1, 2, 3, 1, 2, 3, 1, 2, 3, 1, 2, 3, 1, 2, 3, 1, 2, 3, 1, 2, 3, 1, 2, 3, 1, 2, 3, 1, 2, 3, 1, 2, 3, 1, 2, 3, 1, 2, 3, 1, 2, 3, 1, 2, 3, 1, 2, 3, 1, 2, 3, 1, 2, 3, 1, 2, 3, 1, 2, 3, 1, 2, 3, 1, 2, 3]\n",
      "Method 2: [1, 2, 3, 1, 2, 3, 1, 2, 3, 1, 2, 3, 1, 2, 3, 1, 2, 3, 1, 2, 3, 1, 2, 3, 1, 2, 3, 1, 2, 3, 1, 2, 3, 1, 2, 3, 1, 2, 3, 1, 2, 3, 1, 2, 3, 1, 2, 3, 1, 2, 3, 1, 2, 3, 1, 2, 3, 1, 2, 3, 1, 2, 3, 1, 2, 3, 1, 2, 3, 1, 2, 3, 1, 2, 3, 1, 2, 3, 1, 2, 3, 1, 2, 3, 1, 2, 3, 1, 2, 3, 1, 2, 3, 1, 2, 3, 1, 2, 3]\n"
     ]
    }
   ],
   "source": [
    "my_list = [1,2,3]*33\n",
    "print(my_list)\n",
    "\n",
    "#Method 2 Using list comprehension with modulo operator to repeat the sequence 1, 2, 3\n",
    "my_list = [i % 3 + 1 for i in range(99)]\n",
    "print(\"Method 2:\",my_list)"
   ]
  },
  {
   "cell_type": "markdown",
   "id": "70c890ab",
   "metadata": {},
   "source": [
    "#### Q5. If you're using IDLE to run a Python application, explain how to print a multidimensional list as efficiently?\n",
    "**Ans** To efficiently print a multidimensional list in IDLE, you can use a loop to iterate through the list and print each element."
   ]
  },
  {
   "cell_type": "code",
   "execution_count": 6,
   "id": "7e38a603",
   "metadata": {},
   "outputs": [
    {
     "name": "stdout",
     "output_type": "stream",
     "text": [
      "[1, 2, 3]\n",
      "[4, 5, 6]\n",
      "[7, 8, 9]\n"
     ]
    }
   ],
   "source": [
    "# Multidimensional list\n",
    "matrix = [[1, 2, 3], [4, 5, 6], [7, 8, 9]]\n",
    "\n",
    "# Printing the multidimensional list\n",
    "for row in matrix:\n",
    "    print(row)\n"
   ]
  },
  {
   "cell_type": "markdown",
   "id": "1b0c598e",
   "metadata": {},
   "source": [
    "#### Q6. Is it possible to use list comprehension with a string? If so, how can you go about doing it?\n",
    "**Ans:** List comprehension with string is possible."
   ]
  },
  {
   "cell_type": "code",
   "execution_count": 7,
   "id": "157a00f7",
   "metadata": {},
   "outputs": [
    {
     "name": "stdout",
     "output_type": "stream",
     "text": [
      "['H', 'E', 'L', 'L', 'O']\n"
     ]
    }
   ],
   "source": [
    "# List comprehension with a string\n",
    "my_string = \"hello\"\n",
    "result = [c.upper() for c in my_string]\n",
    "print(result)  \n"
   ]
  },
  {
   "cell_type": "markdown",
   "id": "80883d2f",
   "metadata": {},
   "source": [
    "#### Q7. From the command line, how do you get support with a user-written Python programme? Is this possible from inside IDLE?\n",
    "**Ans:**  To get support with a user-written Python program from the command line, you can use the `--help` option or provide specific command-line arguments to interact with the program. For getting help inside IDLE, you can use the `help()` function or access the docstrings of functions and classes."
   ]
  },
  {
   "cell_type": "markdown",
   "id": "524994b9",
   "metadata": {},
   "source": [
    "#### Q8. Functions are said to be “first-class objects” in Python but not in most other languages, such as C++ or Java. What can you do in Python with a function (callable object) that you can't do in C or C++?\n",
    "**Ans:** TIn Python, functions are first-class objects, which means you can treat them like any other object. You can pass functions as arguments to other functions, return functions from functions, and assign functions to variables."
   ]
  },
  {
   "cell_type": "code",
   "execution_count": 8,
   "id": "cf8baf96",
   "metadata": {},
   "outputs": [
    {
     "name": "stdout",
     "output_type": "stream",
     "text": [
      "7\n",
      "15\n"
     ]
    }
   ],
   "source": [
    "# Function as an argument\n",
    "def apply_operation(func, x, y):\n",
    "    return func(x, y)\n",
    "\n",
    "def add(a, b):\n",
    "    return a + b\n",
    "\n",
    "result = apply_operation(add, 3, 4)\n",
    "print(result)  # Output: 7\n",
    "\n",
    "# Function as a return value\n",
    "def get_multiplier(n):\n",
    "    def multiplier(x):\n",
    "        return x * n\n",
    "    return multiplier\n",
    "\n",
    "times_3 = get_multiplier(3)\n",
    "result = times_3(5)\n",
    "print(result)  # Output: 15\n"
   ]
  },
  {
   "cell_type": "markdown",
   "id": "05b83463",
   "metadata": {},
   "source": [
    "#### Q9. How do you distinguish between a wrapper, a wrapped feature, and a decorator?\n",
    "**Ans:**  In Python, a wrapper is a function that takes another function as its argument and adds some functionality before or after the wrapped function is called. The wrapped feature is the original function that is passed to the wrapper. A decorator is a specific type of wrapper that uses the `@decorator_name` syntax to apply the wrapper to a function automatically."
   ]
  },
  {
   "cell_type": "code",
   "execution_count": 9,
   "id": "ca141b5c",
   "metadata": {},
   "outputs": [
    {
     "name": "stdout",
     "output_type": "stream",
     "text": [
      "Before function call\n",
      "After function call\n"
     ]
    }
   ],
   "source": [
    "# Wrapper\n",
    "def my_wrapper(func):\n",
    "    def inner(*args, **kwargs):\n",
    "        print(\"Before function call\")\n",
    "        result = func(*args, **kwargs)\n",
    "        print(\"After function call\")\n",
    "        return result\n",
    "    return inner\n",
    "\n",
    "# Wrapped feature\n",
    "def my_function(x, y):\n",
    "    return x + y\n",
    "\n",
    "# Applying the wrapper to the function\n",
    "wrapped_function = my_wrapper(my_function)\n",
    "\n",
    "result = wrapped_function(3, 4)"
   ]
  },
  {
   "cell_type": "markdown",
   "id": "20f9a8cc",
   "metadata": {},
   "source": [
    "#### Q10. If a function is a generator function, what does it return?\n",
    "**Ans:** If a function is a generator function, it returns a generator object. A generator is an iterator that generates values lazily one at a time using the yield keyword.\n"
   ]
  },
  {
   "cell_type": "code",
   "execution_count": 10,
   "id": "355c116d",
   "metadata": {},
   "outputs": [
    {
     "name": "stdout",
     "output_type": "stream",
     "text": [
      "0\n",
      "1\n"
     ]
    }
   ],
   "source": [
    "# Generator function\n",
    "def my_generator(n):\n",
    "    for i in range(n):\n",
    "        yield i\n",
    "\n",
    "# Calling the generator function\n",
    "gen = my_generator(5)\n",
    "\n",
    "# Using the generator to get values one at a time\n",
    "print(next(gen))  \n",
    "print(next(gen)) \n"
   ]
  },
  {
   "cell_type": "markdown",
   "id": "03ee7d27",
   "metadata": {},
   "source": [
    "#### Q11. What is the one improvement that must be made to a function in order for it to become a generator function in the Python language?\n",
    "**Ans:** To make a function a generator function in Python, you need to use the `yield` keyword instead of `return` to produce values. The yield statement pauses the function's execution and saves its state, allowing it to resume from where it left off when the next value is requested."
   ]
  },
  {
   "cell_type": "markdown",
   "id": "ceae1939",
   "metadata": {},
   "source": [
    "#### Q12. Identify at least one benefit of generators.\n",
    "**Ans:** One benefit of generators is that they allow for `lazy evaluation`, which means they produce values one at a time as needed, conserving memory. They are particularly useful when dealing with large data sets or infinite sequences. Generators also have the advantage of being easy to implement and read compared to other approaches like creating custom iterators."
   ]
  },
  {
   "cell_type": "code",
   "execution_count": null,
   "id": "2f91156e",
   "metadata": {},
   "outputs": [],
   "source": []
  }
 ],
 "metadata": {
  "kernelspec": {
   "display_name": "Python 3 (ipykernel)",
   "language": "python",
   "name": "python3"
  },
  "language_info": {
   "codemirror_mode": {
    "name": "ipython",
    "version": 3
   },
   "file_extension": ".py",
   "mimetype": "text/x-python",
   "name": "python",
   "nbconvert_exporter": "python",
   "pygments_lexer": "ipython3",
   "version": "3.9.7"
  }
 },
 "nbformat": 4,
 "nbformat_minor": 5
}
