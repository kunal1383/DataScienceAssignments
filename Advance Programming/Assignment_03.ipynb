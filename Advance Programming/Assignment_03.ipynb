{
 "cells": [
  {
   "cell_type": "markdown",
   "id": "6d38e68b",
   "metadata": {},
   "source": [
    "#### 1. What is the concept of an abstract superclass?\n",
    "**Ans:** An abstract superclass is a class that is designed to serve as a blueprint or template for other classes, but it cannot be instantiated on its own. It defines a set of common attributes and methods that its subclasses must implement. Abstract superclasses often contain abstract methods, which are method declarations without an implementation. Subclasses of an abstract superclass are required to provide concrete implementations for these abstract methods.\n",
    "\n",
    "Abstract superclasses provide a way to define common behavior and enforce certain requirements among a group of related classes.\n",
    "In Python, abstract superclasses can be created using the `ABC (Abstract Base Class)` module from the` abc package`. By inheriting from ABC and using the`@abstractmethod decorator`, methods can be declared as abstract."
   ]
  },
  {
   "cell_type": "code",
   "execution_count": 1,
   "id": "00e14ca4",
   "metadata": {},
   "outputs": [],
   "source": [
    "from abc import ABC, abstractmethod\n",
    "class Polygon(ABC): # Abstract Class\n",
    "    @abstractmethod\n",
    "    def noofsides(self): # Abstract Method\n",
    "        pass\n",
    "class Triangle(Polygon):\n",
    "    def noofsides(self):  # overriding abstract method in child class Triangle\n",
    "        print(\"I have 3 sides\")\n",
    "class Pentagon(Polygon):\n",
    "    def noofsides(self): # overriding abstract method in child class Pentagon\n",
    "        print(\"I have 5 sides\")"
   ]
  },
  {
   "cell_type": "markdown",
   "id": "e4a49a25",
   "metadata": {},
   "source": [
    "#### 2. What happens when a class statement's top level contains a basic assignment statement?\n",
    "**Ans:** When a class statement's top level contains a basic assignment statement, it defines a class-level attribute. This means that the assigned value becomes an attribute shared by all instances of the class. Class-level attributes are accessed using the class name itself or through an instance of the class."
   ]
  },
  {
   "cell_type": "code",
   "execution_count": 1,
   "id": "c5d88b4d",
   "metadata": {},
   "outputs": [
    {
     "name": "stdout",
     "output_type": "stream",
     "text": [
      "10\n",
      "10\n",
      "10\n"
     ]
    }
   ],
   "source": [
    "class MyClass:\n",
    "    class_var = 10  # Class-level attribute\n",
    "\n",
    "obj1 = MyClass()\n",
    "obj2 = MyClass()\n",
    "\n",
    "print(obj1.class_var)  \n",
    "print(obj2.class_var) \n",
    "\n",
    "print(MyClass.class_var)  \n"
   ]
  },
  {
   "cell_type": "markdown",
   "id": "beb231b3",
   "metadata": {},
   "source": [
    "#### 3. Why does a class need to manually call a superclass's __init__ method?\n",
    "**Ans:** When a class inherits from a superclass (parent class), it can override the superclass's __init__ method with its own implementation. However, if the subclass wants to use the functionality of the superclass's __init__ method as well, it needs to call it explicitly using the` super() `function. This ensures that the initialization code in the superclass is executed before the subclass's initialization code."
   ]
  },
  {
   "cell_type": "code",
   "execution_count": 3,
   "id": "d30162f0",
   "metadata": {},
   "outputs": [
    {
     "name": "stdout",
     "output_type": "stream",
     "text": [
      "{'name': 'Vivek', 'age': 28, 'salary': 20000}\n"
     ]
    }
   ],
   "source": [
    "class Person:\n",
    "    def __init__(self,name,age):\n",
    "        self.name = name\n",
    "        self.age = age       \n",
    "class Employee(Person):\n",
    "    def __init__(self,name,age,salary):\n",
    "        super().__init__(name,age)\n",
    "        self.salary = salary\n",
    "emp_1 = Employee('Vivek',28,20000)\n",
    "print(emp_1.__dict__)"
   ]
  },
  {
   "cell_type": "markdown",
   "id": "f7468111",
   "metadata": {},
   "source": [
    "#### 4. How can you augment, instead of completely replacing, an inherited method?\n",
    "**Ans:** To augment an inherited method instead of completely replacing it, the subclass can override the method and use the `super()` function to call the superclass's implementation. This allows the subclass to add functionality before or after the superclass's method is executed."
   ]
  },
  {
   "cell_type": "code",
   "execution_count": 2,
   "id": "437bf527",
   "metadata": {},
   "outputs": [
    {
     "name": "stdout",
     "output_type": "stream",
     "text": [
      "Child method\n",
      "Parent method\n"
     ]
    }
   ],
   "source": [
    "class ParentClass:\n",
    "    def some_method(self):\n",
    "        print(\"Parent method\")\n",
    "\n",
    "class ChildClass(ParentClass):\n",
    "    def some_method(self):\n",
    "        print(\"Child method\")\n",
    "        super().some_method()  \n",
    "\n",
    "obj = ChildClass()\n",
    "obj.some_method()\n",
    "\n",
    "     "
   ]
  },
  {
   "cell_type": "markdown",
   "id": "16559793",
   "metadata": {},
   "source": [
    "#### 5. How is the local scope of a class different from that of a function?\n",
    "**Ans:** In Python, the local scope of a class refers to the namespace within the class body where class-level attributes, methods, and inner classes are defined. Class-level attributes are shared among all instances of the class, and they are accessed using the class name or an instance of the class.\n",
    "On the other hand, the local scope of a function refers to the namespace within the function body where local variables are defined. Local variables are specific to the function and can only be accessed within that function. They are not shared among different function calls."
   ]
  },
  {
   "cell_type": "code",
   "execution_count": 3,
   "id": "1d9896b9",
   "metadata": {},
   "outputs": [
    {
     "name": "stdout",
     "output_type": "stream",
     "text": [
      "you're name is James Carter\n",
      "Name varible is not available outside hello function scope\n",
      "HomeSapines\n",
      "HomeSapines\n"
     ]
    }
   ],
   "source": [
    "def hello(name):\n",
    "    name = name\n",
    "    print(f'you\\'re name is {name}')\n",
    "hello('James Carter')\n",
    "try:\n",
    "    name\n",
    "except NameError:\n",
    "    print('Name varible is not available outside hello function scope')\n",
    "\n",
    "class Person:\n",
    "    species = \"HomeSapines\"\n",
    "    def __init__(self):\n",
    "        pass\n",
    "print(Person.species)\n",
    "Male = Person()\n",
    "print(Male.species) "
   ]
  },
  {
   "cell_type": "code",
   "execution_count": null,
   "id": "b2a545e3",
   "metadata": {},
   "outputs": [],
   "source": []
  }
 ],
 "metadata": {
  "kernelspec": {
   "display_name": "Python 3 (ipykernel)",
   "language": "python",
   "name": "python3"
  },
  "language_info": {
   "codemirror_mode": {
    "name": "ipython",
    "version": 3
   },
   "file_extension": ".py",
   "mimetype": "text/x-python",
   "name": "python",
   "nbconvert_exporter": "python",
   "pygments_lexer": "ipython3",
   "version": "3.9.7"
  }
 },
 "nbformat": 4,
 "nbformat_minor": 5
}
