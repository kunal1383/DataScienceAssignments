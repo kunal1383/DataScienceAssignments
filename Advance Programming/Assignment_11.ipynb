{
 "cells": [
  {
   "cell_type": "markdown",
   "id": "11489fdc",
   "metadata": {},
   "source": [
    "#### Q1. What is the concept of a metaclass?\n",
    "**Ans:** The concept of a metaclass in Python is related to the idea of `\"classes as objects.\"` In Python, everything is an object, including classes. A metaclass is a class that defines the behavior of other classes, acting as a `\"class of a class.\"` It controls the creation and initialization of classes and can customize class creation, attribute access, method resolution, and other class-related behavior."
   ]
  },
  {
   "cell_type": "markdown",
   "id": "a7c66d6f",
   "metadata": {},
   "source": [
    "#### Q2. What is the best way to declare a class's metaclass?\n",
    "**Ans:** A way to declare a class’ metaclass is by using **`metaclass`** keyword in class definition."
   ]
  },
  {
   "cell_type": "code",
   "execution_count": 1,
   "id": "e1a13053",
   "metadata": {},
   "outputs": [
    {
     "name": "stdout",
     "output_type": "stream",
     "text": [
      "<class 'type'>\n",
      "<class '__main__.meta'>\n"
     ]
    }
   ],
   "source": [
    "class meta(type):\n",
    "    pass\n",
    "class class_meta(metaclass=meta):\n",
    "    pass\n",
    "print(type(meta))\n",
    "print(type(class_meta))"
   ]
  },
  {
   "cell_type": "markdown",
   "id": "938e3147",
   "metadata": {},
   "source": [
    "#### Q3. How do class decorators overlap with metaclasses for handling classes ?\n",
    "**Ans:** Class decorators and metaclasses can overlap in certain scenarios when handling classes. Both class decorators and metaclasses are used for customizing class creation and behavior. However, the main difference is in the level at which they operate:\n",
    "\n",
    "* Class decorators: They operate at the level of the class itself. They are applied directly to the class and can modify the class attributes or add new methods to the class.\n",
    "* Metaclasses: They operate at a higher level, controlling the creation and initialization of classes. Metaclasses define the behavior of the class, including how the class itself is created."
   ]
  },
  {
   "cell_type": "markdown",
   "id": "3f57ffac",
   "metadata": {},
   "source": [
    "#### Q4. How do class decorators overlap with metaclasses for handling instances?\n",
    "**Ans:**  `Class decorators:` They only affect the class itself, not its instances. They can modify the class's attributes or behavior, but the modifications do not apply to instances of the class.\n",
    "* `Metaclasses:` They can influence both the class and its instances. Metaclasses control the creation and initialization of class instances, so they can customize the behavior of instances in addition to the class itself."
   ]
  },
  {
   "cell_type": "code",
   "execution_count": null,
   "id": "fc3f47fb",
   "metadata": {},
   "outputs": [],
   "source": []
  }
 ],
 "metadata": {
  "kernelspec": {
   "display_name": "Python 3 (ipykernel)",
   "language": "python",
   "name": "python3"
  },
  "language_info": {
   "codemirror_mode": {
    "name": "ipython",
    "version": 3
   },
   "file_extension": ".py",
   "mimetype": "text/x-python",
   "name": "python",
   "nbconvert_exporter": "python",
   "pygments_lexer": "ipython3",
   "version": "3.9.7"
  }
 },
 "nbformat": 4,
 "nbformat_minor": 5
}
