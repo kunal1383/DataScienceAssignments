{
 "cells": [
  {
   "cell_type": "markdown",
   "id": "f8313cc0",
   "metadata": {},
   "source": [
    "#### Q1. What is the benefit of regular expressions?\n",
    "**Ans:**  The benefits of regular expressions in Python are as follows:\n",
    "\n",
    "1. `Pattern Matching:` Regular expressions allow you to search for and match specific patterns within text data, making it easier to find and extract relevant information.\n",
    "2. `Text Manipulation:` Regular expressions enable you to replace or modify parts of a text based on specific patterns, facilitating text manipulation tasks.\n",
    "3. `Data Validation:` Regular expressions can be used to validate and ensure that data follows a specific pattern or format, such as validating email addresses or phone numbers.\n",
    "4. `Efficient Searching:` Regular expressions provide powerful search capabilities, allowing you to find complex patterns efficiently in large text datasets."
   ]
  },
  {
   "cell_type": "markdown",
   "id": "3ec69ca0",
   "metadata": {},
   "source": [
    "#### Q2. Describe the difference between the effects of \"(ab)c+\" and \"a(bc)+\" Which of these, if any, is the unqualified pattern \"abc+\"?\n",
    "**Ans:** `(ab)c+`: This pattern matches the string \"abc\" or any occurrence of \"abc\" followed by one or more occurrences of the letter \"c\". For example, it matches \"abcc\", \"abccc\", \"abcccc\", and so on.\n",
    "* `a(bc)+`: This pattern matches the string \"abc\" or any occurrence of \"abc\" preceded by the letter \"a\". For example, it matches \"abc\", \"abcbc\", \"abcbcbc\", and so on.\n",
    "The unqualified pattern \"abc+\" matches the string \"abc\" followed by one or more occurrences of the letter \"c\"."
   ]
  },
  {
   "cell_type": "markdown",
   "id": "2b4c8728",
   "metadata": {},
   "source": [
    "#### Q3. How much do you need to use the following sentence while using regular expressions?\n",
    "**`import re`**  \n",
    "\n",
    "**Ans:** **`import re`** statement always has to be imported before using regular expressions."
   ]
  },
  {
   "cell_type": "markdown",
   "id": "2338be46",
   "metadata": {},
   "source": [
    "#### Q4. Which characters have special significance in square brackets when expressing a range, and under what circumstances?\n",
    "**Ans:** . In square brackets, certain characters have special significance when expressing a range:\n",
    "\n",
    "* `Hyphen (-)`: The hyphen is used to specify a range of characters. For example, [a-z] matches any lowercase letter from 'a' to 'z'.\n",
    "* `Caret (^)`: When used as the first character inside square brackets, the caret negates the character set, matching any character not in the specified set. For example, [^0-9] matches any character that is not a digit."
   ]
  },
  {
   "cell_type": "markdown",
   "id": "bc0c3bef",
   "metadata": {},
   "source": [
    "#### Q5. How does compiling a regular-expression object benefit you?\n",
    "**Ans:** Compiling a regular-expression object in Python provides several benefits:\n",
    "\n",
    "1. `Performance`: Compiling the regular expression allows Python to optimize the pattern matching, making subsequent searches faster.\n",
    "2.`Reusability`: Once compiled, the regular expression object can be reused multiple times to match patterns against different strings.\n",
    "3. `Cleaner Code`: Using a compiled regular expression object results in cleaner and more readable code, especially when the same pattern is used multiple times in the code.\n",
    "To compile a regular expression pattern, you can use the re.compile() function."
   ]
  },
  {
   "cell_type": "markdown",
   "id": "c2885976",
   "metadata": {},
   "source": [
    "#### Q6. What are some examples of how to use the match object returned by re.match and re.search?\n"
   ]
  },
  {
   "cell_type": "code",
   "execution_count": 1,
   "id": "358eb508",
   "metadata": {},
   "outputs": [
    {
     "name": "stdout",
     "output_type": "stream",
     "text": [
      "Match: 123\n",
      "Search: 123\n"
     ]
    }
   ],
   "source": [
    "import re\n",
    "\n",
    "# Using re.match\n",
    "pattern = r'\\d+'\n",
    "text = '123abc'\n",
    "match_obj = re.match(pattern, text)\n",
    "if match_obj:\n",
    "    print('Match:', match_obj.group()) \n",
    "\n",
    "# Using re.search\n",
    "pattern = r'\\d+'\n",
    "text = 'abc123'\n",
    "search_obj = re.search(pattern, text)\n",
    "if search_obj:\n",
    "    print('Search:', search_obj.group())  \n"
   ]
  },
  {
   "cell_type": "markdown",
   "id": "babed21c",
   "metadata": {},
   "source": [
    "#### Q7. What is the difference between using a vertical bar (|) as an alteration and using square brackets as a character set?\n",
    "**Ans:** The vertical bar `(|)` is used as an alteration operator, allowing you to specify multiple alternatives. It matches any of the expressions separated by the vertical bar. For example, the pattern \"a|b\" matches either \"a\" or \"b\".\n",
    "\n",
    "Square brackets, on the other hand, are used to define a character set, matching any single character that appears inside the brackets. For example, the pattern \"[aeiou]\" matches any lowercase vowel."
   ]
  },
  {
   "cell_type": "markdown",
   "id": "aad2feb4",
   "metadata": {},
   "source": [
    "#### Q8. In regular-expression search patterns, why is it necessary to use the raw-string indicator (r)? In   replacement strings?\n",
    "**Ans:**  In regular-expression search patterns, it is necessary to use the raw-string indicator (r) to avoid escaping backslashes. Raw strings in Python are specified with the 'r' prefix, and they treat backslashes as literal characters, which is essential for regular expressions since they often contain backslashes.\n",
    "\n",
    "For example, to match a literal backslash with a regular expression, you would use r'\\\\'. If you don't use the raw-string indicator, you would have to escape the backslash with double backslashes: '\\\\\\\\'."
   ]
  },
  {
   "cell_type": "code",
   "execution_count": null,
   "id": "721023aa",
   "metadata": {},
   "outputs": [],
   "source": []
  }
 ],
 "metadata": {
  "kernelspec": {
   "display_name": "Python 3 (ipykernel)",
   "language": "python",
   "name": "python3"
  },
  "language_info": {
   "codemirror_mode": {
    "name": "ipython",
    "version": 3
   },
   "file_extension": ".py",
   "mimetype": "text/x-python",
   "name": "python",
   "nbconvert_exporter": "python",
   "pygments_lexer": "ipython3",
   "version": "3.9.7"
  }
 },
 "nbformat": 4,
 "nbformat_minor": 5
}
