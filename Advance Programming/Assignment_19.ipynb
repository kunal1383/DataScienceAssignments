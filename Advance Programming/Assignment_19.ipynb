{
 "cells": [
  {
   "cell_type": "markdown",
   "id": "cc53963e",
   "metadata": {},
   "source": [
    "# Assignment 19 Solutions"
   ]
  },
  {
   "cell_type": "markdown",
   "id": "20fe32ca",
   "metadata": {},
   "source": [
    "#### Q1. Define the relationship between a class and its instances. Is it a one-to-one or a one-to-many partnership, for example?\n",
    "**Ans:** Relationship between a class and its instances is a one to many partnership."
   ]
  },
  {
   "cell_type": "markdown",
   "id": "a3998f76",
   "metadata": {},
   "source": [
    "#### Q2. What kind of data is held only in an instance?\n",
    "**Ans:** Instance data, also known as instance variables, is held only in an instance. These variables represent the unique state of each object and are not shared among different instances of the same class."
   ]
  },
  {
   "cell_type": "markdown",
   "id": "3bc4acfe",
   "metadata": {},
   "source": [
    "#### Q3. What kind of knowledge is stored in a class?\n",
    "**Ans:**  Class knowledge, also known as class data or class variables, is stored in a class. Class variables are shared among all instances of the class and represent attributes or behaviors that are common to all objects created from that class."
   ]
  },
  {
   "cell_type": "markdown",
   "id": "d6c2ef9c",
   "metadata": {},
   "source": [
    "#### Q4. What exactly is a method, and how is it different from a regular function?\n",
    "**Ans:**  A method is a function defined within a class and is associated with instances of that class. The main difference between a method and a regular function is that methods have access to the data and attributes of the instance they are bound to, which allows them to operate on the instance's state."
   ]
  },
  {
   "cell_type": "markdown",
   "id": "471e1689",
   "metadata": {},
   "source": [
    "#### Q5. Is inheritance supported in Python, and if so, what is the syntax?\n",
    "**Ans:** Yes,Python supports inheritance. The Types of Inheritence Supported by Python are:\n",
    "1. Simple Inheritence\n",
    "2. Multiple Inheritence\n",
    "3. Multilevel lInheritence\n",
    "4. Hybrid Inheritence\n",
    "5. Hierracial Inheritence"
   ]
  },
  {
   "cell_type": "code",
   "execution_count": 1,
   "id": "63b31180",
   "metadata": {},
   "outputs": [],
   "source": [
    "class Person:\n",
    "    def __init__(self, fname, lname):\n",
    "        self.first_name = fname\n",
    "        self.last_name = lname\n",
    "class Student(Person):\n",
    "    pass"
   ]
  },
  {
   "cell_type": "markdown",
   "id": "1f2a9517",
   "metadata": {},
   "source": [
    "#### Q6. How much encapsulation (making instance or class variables private) does Python support?\n",
    "**Ans:** Python supports limited encapsulation by convention, rather than through language-enforced mechanisms. It uses naming conventions like prefixing variables with underscores (e.g., _variable) to indicate that they should be treated as `private` and should not be accessed directly from outside the class. However, there are no strict access control modifiers like private or protected in some other object-oriented programming languages."
   ]
  },
  {
   "cell_type": "markdown",
   "id": "c0de33d4",
   "metadata": {},
   "source": [
    "#### Q7. How do you distinguish between a class variable and an instance variable?\n",
    "**Ans:** The main difference between a class variable and an instance variable is that class variables are shared among all instances of the class and are defined within the class scope, outside any method. Instance variables, on the other hand, belong to each instance individually and are defined within methods using the` self keyword.`"
   ]
  },
  {
   "cell_type": "markdown",
   "id": "65768276",
   "metadata": {},
   "source": [
    "#### Q8. When, if ever, can self be included in a class's method definitions?\n",
    "**Ans:** The self parameter should be included in a class's method definitions if the method needs to access or modify instance-specific data (instance variables) or call other instance methods within the class."
   ]
  },
  {
   "cell_type": "markdown",
   "id": "ae7c6bbf",
   "metadata": {},
   "source": [
    "#### Q9. What is the difference between the **`__add__`** and the **`__radd__`** methods ?\n",
    "**Ans:** The __add__ method is called when using the `+` operator with an object, while the __radd__ method is called when the object is on the right side of the `+` operator and the left operand does not support addition with the object."
   ]
  },
  {
   "cell_type": "markdown",
   "id": "5eae7542",
   "metadata": {},
   "source": [
    "#### Q10. When is it necessary to use a reflection method? When do you not need it, even though you support the operation in question?\n",
    "**Ans:** Reflection methods, such as `getattr, hasattr, and setattr,` are necessary when you need to access or manipulate attributes of an object dynamically at runtime, based on their names provided as strings. When you know the attribute name at compile-time, you can directly access the attribute without using reflection methods"
   ]
  },
  {
   "cell_type": "markdown",
   "id": "98aac547",
   "metadata": {},
   "source": [
    "#### Q11. What is the `__iadd__` method called?\n",
    "**Ans:** The __iadd__ method is called when using the `+=` operator with an object. It allows you to customize the behavior of in-place addition for instances of your class."
   ]
  },
  {
   "cell_type": "markdown",
   "id": "f6c3908c",
   "metadata": {},
   "source": [
    "#### Q12. Is the `_ _init_ _` method inherited by subclasses? What do you do if you need to customize its behavior within a subclass ?\n",
    "**Ans:** Yes, the __init__ method is inherited by subclasses. If you need to customize its behavior within a subclass, you can override the __init__ method in the subclass. By defining a new __init__ method in the subclass, you can add or modify initialization steps specific to that subclass while still calling the parent class's __init__ method using super().__init__() if needed."
   ]
  },
  {
   "cell_type": "code",
   "execution_count": null,
   "id": "65ea0b2b",
   "metadata": {},
   "outputs": [],
   "source": []
  }
 ],
 "metadata": {
  "kernelspec": {
   "display_name": "Python 3 (ipykernel)",
   "language": "python",
   "name": "python3"
  },
  "language_info": {
   "codemirror_mode": {
    "name": "ipython",
    "version": 3
   },
   "file_extension": ".py",
   "mimetype": "text/x-python",
   "name": "python",
   "nbconvert_exporter": "python",
   "pygments_lexer": "ipython3",
   "version": "3.9.7"
  }
 },
 "nbformat": 4,
 "nbformat_minor": 5
}
