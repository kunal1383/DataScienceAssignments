{
 "cells": [
  {
   "cell_type": "markdown",
   "id": "efb72245",
   "metadata": {},
   "source": [
    "#### Q1. What are the two latest user-defined exception constraints in Python 3.X?\n",
    "**Ans:** 1.`\"raise from\":` This allows you to raise a new exception while preserving the original exception context. It helps in creating a chain of exceptions to show where the exception was originally raised. \n",
    "\n",
    "`try:\n",
    "    # Some code that may raise an exception\n",
    "except SomeException as e:\n",
    "    raise NewException from e\n",
    "`\n",
    "\n",
    "2. `\"except ... as ...\":` This syntax allows you to assign the caught exception to a variable, providing access to the exception object for further processing or logging. It is used as follows:\n",
    "\n",
    "`try:\n",
    "    # Some code that may raise an exception\n",
    "except SomeException as e:\n",
    "    # Handle the exception using the variable 'e'`\n"
   ]
  },
  {
   "cell_type": "markdown",
   "id": "f1479448",
   "metadata": {},
   "source": [
    "#### Q2. How are class-based exceptions that have been raised matched to handlers?\n",
    "**Ans:**  When a class-based exception is raised, Python looks for a matching exception handler in the try-except blocks. It checks if the raised exception is an instance of the specified exception class or its subclass. If a matching exception handler is found, the corresponding except block is executed. If there is no matching handler, Python searches for a handler for the exception's base class. If that is not found either, Python moves up the inheritance hierarchy until a matching handler is found or until the exception is unhandled and results in an error."
   ]
  },
  {
   "cell_type": "code",
   "execution_count": 1,
   "id": "648a981d",
   "metadata": {},
   "outputs": [
    {
     "ename": "ToYoungException",
     "evalue": "To Young For Voting",
     "output_type": "error",
     "traceback": [
      "\u001b[1;31m---------------------------------------------------------------------------\u001b[0m",
      "\u001b[1;31mToYoungException\u001b[0m                          Traceback (most recent call last)",
      "\u001b[1;32m<ipython-input-1-b97f009151c8>\u001b[0m in \u001b[0;36m<module>\u001b[1;34m()\u001b[0m\n\u001b[0;32m      3\u001b[0m         \u001b[0mself\u001b[0m\u001b[1;33m.\u001b[0m\u001b[0mmsg\u001b[0m \u001b[1;33m=\u001b[0m \u001b[0mmsg\u001b[0m\u001b[1;33m\u001b[0m\u001b[1;33m\u001b[0m\u001b[0m\n\u001b[0;32m      4\u001b[0m \u001b[0mage\u001b[0m \u001b[1;33m=\u001b[0m \u001b[1;36m12\u001b[0m\u001b[1;33m\u001b[0m\u001b[1;33m\u001b[0m\u001b[0m\n\u001b[1;32m----> 5\u001b[1;33m \u001b[1;32mif\u001b[0m \u001b[0mage\u001b[0m \u001b[1;33m<=\u001b[0m \u001b[1;36m18\u001b[0m\u001b[1;33m:\u001b[0m \u001b[1;32mraise\u001b[0m \u001b[0mToYoungException\u001b[0m\u001b[1;33m(\u001b[0m\u001b[1;34m'To Young For Voting'\u001b[0m\u001b[1;33m)\u001b[0m\u001b[1;33m\u001b[0m\u001b[1;33m\u001b[0m\u001b[0m\n\u001b[0m",
      "\u001b[1;31mToYoungException\u001b[0m: To Young For Voting"
     ]
    }
   ],
   "source": [
    "class ToYoungException(Exception):\n",
    "    def __init__(self,msg):\n",
    "        self.msg = msg\n",
    "age = 12\n",
    "if age <= 18: raise ToYoungException('To Young For Voting')"
   ]
  },
  {
   "cell_type": "markdown",
   "id": "15ce7b10",
   "metadata": {},
   "source": [
    "#### Q3. Describe two methods for attaching context information to exception artefacts ?\n",
    "**Ans:** Using the `\"with_traceback()\"` method: When raising an exception, you can attach a traceback to it using the \"with_traceback()\" method. This allows you to attach a custom traceback or provide additional information about the exception. It is used as follows:\n",
    "\n",
    "`try:\n",
    "    # Some code that may raise an exception\n",
    "except SomeException as e:\n",
    "    raise NewException(\"Additional context information\").with_traceback(e.__traceback__)\n",
    "`\n",
    "\n",
    "Adding custom attributes to the exception object: You can add custom attributes to the exception object to provide extra information about the exception. This can be useful for logging or debugging purposes. For example:\n",
    "\n",
    "`try:\n",
    "    # Some code that may raise an exception\n",
    "except SomeException as e:\n",
    "    e.custom_info = \"Additional context information\"\n",
    "    raise\n",
    "`"
   ]
  },
  {
   "cell_type": "markdown",
   "id": "7fbfd775",
   "metadata": {},
   "source": [
    "#### Q4. Describe two methods for specifying the text of an exception object's error message ?\n",
    "**Ans:** **`raise`** and **`assert`** are two methods for specifying the text of an exception object's error message.**`raise`** statement is used to trigger explicit exception, if certain condition is not as per requirement of programmer. it helps in triggering exception as per need of programmer and logic.\n",
    "\n",
    "There are few assertions that programmer always want to be True to avoid code failure. This type of requirment is fullfilled by **`assert`** statement. This statement takes a Boolean Condition output of which if True, further program executes. if output of assert statement is False it raises an **`Assertion Error`**."
   ]
  },
  {
   "cell_type": "markdown",
   "id": "0855de9b",
   "metadata": {},
   "source": [
    "#### Q5. Why do you no longer use string-based exceptions?\n",
    "**Ans:** Python no longer uses string-based exceptions because string-based exceptions are considered outdated and error-prone. In older versions of Python (2.x), exceptions were represented as strings, and users were expected to catch exceptions by comparing the string representation of the exception message. This approach had several drawbacks:\n",
    "\n",
    "1. It was error-prone as typos in exception strings could lead to incorrect exception handling.\n",
    "2. It made it difficult to distinguish between different exception types and handle them appropriately.\n",
    "3. It did not allow for the creation of custom exception classes with specific attributes and behavior."
   ]
  },
  {
   "cell_type": "code",
   "execution_count": null,
   "id": "660704eb",
   "metadata": {},
   "outputs": [],
   "source": []
  }
 ],
 "metadata": {
  "kernelspec": {
   "display_name": "Python 3 (ipykernel)",
   "language": "python",
   "name": "python3"
  },
  "language_info": {
   "codemirror_mode": {
    "name": "ipython",
    "version": 3
   },
   "file_extension": ".py",
   "mimetype": "text/x-python",
   "name": "python",
   "nbconvert_exporter": "python",
   "pygments_lexer": "ipython3",
   "version": "3.9.7"
  }
 },
 "nbformat": 4,
 "nbformat_minor": 5
}
