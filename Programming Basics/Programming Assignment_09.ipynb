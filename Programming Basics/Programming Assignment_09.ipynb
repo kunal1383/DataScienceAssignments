{
 "cells": [
  {
   "cell_type": "markdown",
   "id": "abd957e6",
   "metadata": {},
   "source": [
    "#### 1.Write a Python Program to check if the given number is a Disarium Number ?"
   ]
  },
  {
   "cell_type": "code",
   "execution_count": 8,
   "id": "746fd8cb",
   "metadata": {},
   "outputs": [
    {
     "name": "stdout",
     "output_type": "stream",
     "text": [
      "Enter a number: 135\n",
      "135 is a Disarium number.\n"
     ]
    }
   ],
   "source": [
    "def Disarium(number):    \n",
    "    str_number = str(number)\n",
    "    sum_of_digits = sum(int(digit) ** (i + 1) for i, digit in enumerate(str_number))\n",
    "    return number == sum_of_digits\n",
    "\n",
    "num = int(input(\"Enter a number: \"))\n",
    "if Disarium(num):\n",
    "    print(f\"{num} is a Disarium number.\")\n",
    "else:\n",
    "    print(f\"{num} is not a Disarium number.\")\n",
    "        "
   ]
  },
  {
   "cell_type": "markdown",
   "id": "f11e7cd5",
   "metadata": {},
   "source": [
    "#### 2.Write a Python Program to print all Disarium numbers between 1 to 100 ?"
   ]
  },
  {
   "cell_type": "code",
   "execution_count": 12,
   "id": "03d9e0f4",
   "metadata": {},
   "outputs": [
    {
     "name": "stdout",
     "output_type": "stream",
     "text": [
      "Disarium numbers between 1 and 100: [1, 2, 3, 4, 5, 6, 7, 8, 9, 89]\n"
     ]
    }
   ],
   "source": [
    "disarium_numbers = []\n",
    "for num in range(1, 101):\n",
    "    #Reusing the above the Disarium function\n",
    "    if Disarium(num):\n",
    "        disarium_numbers.append(num)\n",
    "\n",
    "print(\"Disarium numbers between 1 and 100:\", disarium_numbers)"
   ]
  },
  {
   "cell_type": "markdown",
   "id": "a3f58a68",
   "metadata": {},
   "source": [
    "#### 3.Write a Python Program to check if the given number is Happy Number ?"
   ]
  },
  {
   "cell_type": "code",
   "execution_count": 13,
   "id": "28d42beb",
   "metadata": {},
   "outputs": [
    {
     "name": "stdout",
     "output_type": "stream",
     "text": [
      "Enter a number: 19\n",
      "19 is a Happy number.\n"
     ]
    }
   ],
   "source": [
    "def is_happy_number(number):\n",
    "    num_set = set()\n",
    "    while number != 1 and number not in num_set:\n",
    "        num_set.add(number)\n",
    "        number = sum(int(digit) ** 2 for digit in str(number))\n",
    "    return number == 1\n",
    "\n",
    "num = int(input(\"Enter a number: \"))\n",
    "if is_happy_number(num):\n",
    "    print(f\"{num} is a Happy number.\")\n",
    "else:\n",
    "    print(f\"{num} is not a Happy number.\")\n"
   ]
  },
  {
   "cell_type": "markdown",
   "id": "4c5027f6",
   "metadata": {},
   "source": [
    "#### 4.Write a Python Program to print all Happy numbers between 1 and 100 ?"
   ]
  },
  {
   "cell_type": "code",
   "execution_count": 14,
   "id": "a578ab2a",
   "metadata": {},
   "outputs": [
    {
     "name": "stdout",
     "output_type": "stream",
     "text": [
      "Happy numbers between 1 and 100: [1, 7, 10, 13, 19, 23, 28, 31, 32, 44, 49, 68, 70, 79, 82, 86, 91, 94, 97, 100]\n"
     ]
    }
   ],
   "source": [
    "happy_numbers = []\n",
    "for num in range(1, 101):\n",
    "    if is_happy_number(num):\n",
    "        happy_numbers.append(num)\n",
    "\n",
    "print(\"Happy numbers between 1 and 100:\", happy_numbers)"
   ]
  },
  {
   "cell_type": "markdown",
   "id": "ed74970d",
   "metadata": {},
   "source": [
    "#### 5.Write a Python Program to determine whether the given number is a Harshad Number ?"
   ]
  },
  {
   "cell_type": "code",
   "execution_count": 19,
   "id": "c2459d31",
   "metadata": {},
   "outputs": [
    {
     "name": "stdout",
     "output_type": "stream",
     "text": [
      "Enter a number: 18\n",
      "18 is a Harshad number.\n"
     ]
    }
   ],
   "source": [
    "def is_harshad_number(number):\n",
    "    sum_of_digits = sum(int(digit) for digit in str(number))\n",
    "    return number % sum_of_digits == 0\n",
    "\n",
    "num = int(input(\"Enter a number: \"))\n",
    "if is_harshad_number(num):\n",
    "    print(f\"{num} is a Harshad number.\")\n",
    "else:\n",
    "    print(f\"{num} is not a Harshad number.\")"
   ]
  },
  {
   "cell_type": "markdown",
   "id": "142b8027",
   "metadata": {},
   "source": [
    "#### 6.Write a Python Program to print all pronic numbers between 1 and 100 ?"
   ]
  },
  {
   "cell_type": "code",
   "execution_count": 23,
   "id": "dc0b22c6",
   "metadata": {},
   "outputs": [
    {
     "name": "stdout",
     "output_type": "stream",
     "text": [
      "Pronic numbers between 1 and 100: [2, 6, 12, 20, 30, 42, 56, 72, 90, 110, 132, 156, 182, 210, 240, 272, 306, 342, 380, 420, 462, 506, 552, 600, 650, 702, 756, 812, 870, 930, 992, 1056, 1122, 1190, 1260, 1332, 1406, 1482, 1560, 1640, 1722, 1806, 1892, 1980, 2070, 2162, 2256, 2352, 2450, 2550, 2652, 2756, 2862, 2970, 3080, 3192, 3306, 3422, 3540, 3660, 3782, 3906, 4032, 4160, 4290, 4422, 4556, 4692, 4830, 4970, 5112, 5256, 5402, 5550, 5700, 5852, 6006, 6162, 6320, 6480, 6642, 6806, 6972, 7140, 7310, 7482, 7656, 7832, 8010, 8190, 8372, 8556, 8742, 8930, 9120, 9312, 9506, 9702, 9900, 10100]\n"
     ]
    }
   ],
   "source": [
    "def print_pronic_numbers():\n",
    "    pronic_numbers = []\n",
    "    for num in range(1, 101):\n",
    "           \n",
    "        pronic_numbers.append(num * (num + 1))\n",
    "    print(\"Pronic numbers between 1 and 100:\", pronic_numbers)\n",
    "\n",
    "print_pronic_numbers()\n",
    "   "
   ]
  },
  {
   "cell_type": "markdown",
   "id": "230c3737",
   "metadata": {},
   "source": []
  }
 ],
 "metadata": {
  "kernelspec": {
   "display_name": "Python 3 (ipykernel)",
   "language": "python",
   "name": "python3"
  },
  "language_info": {
   "codemirror_mode": {
    "name": "ipython",
    "version": 3
   },
   "file_extension": ".py",
   "mimetype": "text/x-python",
   "name": "python",
   "nbconvert_exporter": "python",
   "pygments_lexer": "ipython3",
   "version": "3.9.7"
  }
 },
 "nbformat": 4,
 "nbformat_minor": 5
}
