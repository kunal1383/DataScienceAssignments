{
 "cells": [
  {
   "cell_type": "markdown",
   "id": "47588382",
   "metadata": {},
   "source": [
    "#### 1.Write a Python program to Extract Unique values dictionary values?"
   ]
  },
  {
   "cell_type": "code",
   "execution_count": 12,
   "id": "8cfece02",
   "metadata": {},
   "outputs": [
    {
     "name": "stdout",
     "output_type": "stream",
     "text": [
      "Unique Values: [1, 2, 3, 4, 'Ram', 5]\n"
     ]
    }
   ],
   "source": [
    "def extract_unique_values(dictionary):\n",
    "    unique_values = set()\n",
    "    for value in dictionary.values():\n",
    "        if isinstance(value, list):\n",
    "            unique_values.update(value)\n",
    "        else:\n",
    "            unique_values.add(value)\n",
    "    return list(unique_values)\n",
    "\n",
    "\n",
    "sample_dict = {\n",
    "    'key1': [1, 2, 3],\n",
    "    'key2': 'Ram',\n",
    "    'key3': [3, 4, 5],\n",
    "    'key4': 'Ram'\n",
    "}\n",
    "\n",
    "unique_values = extract_unique_values(sample_dict)\n",
    "print(\"Unique Values:\", unique_values)\n"
   ]
  },
  {
   "cell_type": "markdown",
   "id": "3cfcbbc9",
   "metadata": {},
   "source": [
    "#### 2.Write a Python program to find the sum of all items in a dictionary?"
   ]
  },
  {
   "cell_type": "code",
   "execution_count": 13,
   "id": "33738c60",
   "metadata": {},
   "outputs": [
    {
     "name": "stdout",
     "output_type": "stream",
     "text": [
      "Sum of Dictionary Items: 60\n"
     ]
    }
   ],
   "source": [
    "def sum_of_dictionary_items(dictionary):\n",
    "    return sum(dictionary.values())\n",
    "\n",
    "\n",
    "sample_dict = {\n",
    "    'a': 10,\n",
    "    'b': 20,\n",
    "    'c': 30\n",
    "}\n",
    "\n",
    "total_sum = sum_of_dictionary_items(sample_dict)\n",
    "print(\"Sum of Dictionary Items:\", total_sum)\n"
   ]
  },
  {
   "cell_type": "markdown",
   "id": "5e26e96b",
   "metadata": {},
   "source": [
    "#### 3.Write a Python program to Merging two Dictionaries?"
   ]
  },
  {
   "cell_type": "code",
   "execution_count": 14,
   "id": "059056dd",
   "metadata": {},
   "outputs": [
    {
     "name": "stdout",
     "output_type": "stream",
     "text": [
      "Merged Dictionary: {'a': 1, 'b': 2, 'c': 3, 'd': 4}\n"
     ]
    }
   ],
   "source": [
    "def merge_dictionaries(dict1, dict2):\n",
    "    return {**dict1, **dict2}\n",
    "\n",
    "\n",
    "dict1 = {'a': 1, 'b': 2}\n",
    "dict2 = {'c': 3, 'd': 4}\n",
    "\n",
    "merged_dict = merge_dictionaries(dict1, dict2)\n",
    "print(\"Merged Dictionary:\", merged_dict)\n"
   ]
  },
  {
   "cell_type": "markdown",
   "id": "ea32cefe",
   "metadata": {},
   "source": [
    "#### 4.Write a Python program to convert key-values list to flat dictionary?"
   ]
  },
  {
   "cell_type": "code",
   "execution_count": 15,
   "id": "55139b2d",
   "metadata": {},
   "outputs": [
    {
     "name": "stdout",
     "output_type": "stream",
     "text": [
      "Method one :{'A': 10, 'B': 20, 'C': 30, 'D': 40, 'E': 50, 'F': 60, 'G': 70, 'H': 80, 'I': 90, 'J': 100}\n",
      "Method two : {'A': 10, 'B': 20, 'C': 30, 'D': 40, 'E': 50, 'F': 60, 'G': 70, 'H': 80, 'I': 90, 'J': 100}\n"
     ]
    }
   ],
   "source": [
    "key_value_list = [('A',10),('B',20),('C',30),('D',40),('E',50),('F',60),('G',70),('H',80),('I',90),('J',100)]\n",
    "\n",
    "# Method #1\n",
    "print(f\"Method one :{dict(key_value_list)}\")\n",
    "\n",
    "# Method #2\n",
    "flat_dict = {}\n",
    "for elemnt in key_value_list:\n",
    "    flat_dict [elemnt[0]] = elemnt[1]\n",
    "print(f\"Method two : {flat_dict }\")    "
   ]
  },
  {
   "cell_type": "markdown",
   "id": "e945b1cf",
   "metadata": {},
   "source": [
    "#### 5.Write a Python program to insertion at the beginning in OrderedDict?"
   ]
  },
  {
   "cell_type": "code",
   "execution_count": 20,
   "id": "b28845f5",
   "metadata": {},
   "outputs": [
    {
     "name": "stdout",
     "output_type": "stream",
     "text": [
      "Before instertion :  OrderedDict([('Apple', 'Iphone'), ('Microsoft', 'Windows'), ('Google', 'chrome')])\n",
      "OrderedDict after insertion: OrderedDict([('Tesla', 'SpaceX'), ('Apple', 'Iphone'), ('Microsoft', 'Windows'), ('Google', 'chrome')])\n"
     ]
    }
   ],
   "source": [
    "from collections import OrderedDict\n",
    "\n",
    "def insert_at_beginning(odict, key, value):\n",
    "    odict.update(OrderedDict({key: value}))\n",
    "    odict.move_to_end(key, last=False)\n",
    "\n",
    "# Test the function with a sample OrderedDict\n",
    "ordered_dict = OrderedDict({'Apple':'Iphone','Microsoft':'Windows','Google':'chrome'})\n",
    "print(\"Before instertion : \",ordered_dict)\n",
    "insert_at_beginning(ordered_dict, 'Tesla','SpaceX')\n",
    "print(\"OrderedDict after insertion:\", ordered_dict)\n",
    "\n",
    "\n"
   ]
  },
  {
   "cell_type": "markdown",
   "id": "a67da729",
   "metadata": {},
   "source": [
    "#### 6.Write a Python program to check order of character in string using OrderedDict()?"
   ]
  },
  {
   "cell_type": "code",
   "execution_count": 23,
   "id": "cc023a52",
   "metadata": {},
   "outputs": [
    {
     "name": "stdout",
     "output_type": "stream",
     "text": [
      "{'a': 1000, 'f': 200, 'd': 300, 'c': 400, 'b': 500, 'e': 600}\n",
      "OrderedDict([('a', 1000), ('b', 500), ('c', 400), ('d', 300), ('e', 600), ('f', 200)])\n"
     ]
    }
   ],
   "source": [
    "from collections import OrderedDict\n",
    "\n",
    "initial_list = {'a': 1000, 'f': 200, 'd': 300, 'c': 400, 'b': 500, 'e': 600}\n",
    "print(initial_list)\n",
    "\n",
    "final_list = OrderedDict(dict(sorted(initial_list.items())))\n",
    "print(final_list)"
   ]
  },
  {
   "cell_type": "code",
   "execution_count": null,
   "id": "60e6f3ae",
   "metadata": {},
   "outputs": [],
   "source": [
    "from collections import OrderedDict\n",
    "\n",
    "def check_order_of_characters(string):\n",
    "    unique_chars = ''.join(OrderedDict.fromkeys(string))\n",
    "    print(unique_chars)\n",
    "    return unique_chars == string\n",
    "\n",
    "# Test the function with a sample string\n",
    "sample_string = \"hello\"\n",
    "result = check_order_of_characters(sample_string)\n",
    "print(\"Order of Characters:\", result)\n"
   ]
  },
  {
   "cell_type": "markdown",
   "id": "00e77a00",
   "metadata": {},
   "source": [
    "#### 7.Write a Python program to sort Python Dictionaries by Key or Value?"
   ]
  },
  {
   "cell_type": "code",
   "execution_count": 24,
   "id": "799ba84a",
   "metadata": {},
   "outputs": [
    {
     "name": "stdout",
     "output_type": "stream",
     "text": [
      "Sorted by Key: {'a': 3, 'b': 2, 'c': 1}\n",
      "Sorted by Value: {'c': 1, 'b': 2, 'a': 3}\n"
     ]
    }
   ],
   "source": [
    "def sort_dictionary_by_key(dictionary):\n",
    "    return dict(sorted(dictionary.items()))\n",
    "\n",
    "def sort_dictionary_by_value(dictionary):\n",
    "    return dict(sorted(dictionary.items(), key=lambda item: item[1]))\n",
    "\n",
    "\n",
    "sample_dict = {'a': 3, 'c': 1, 'b': 2}\n",
    "\n",
    "sorted_by_key = sort_dictionary_by_key(sample_dict)\n",
    "print(\"Sorted by Key:\", sorted_by_key)\n",
    "\n",
    "sorted_by_value = sort_dictionary_by_value(sample_dict)\n",
    "print(\"Sorted by Value:\", sorted_by_value)\n"
   ]
  },
  {
   "cell_type": "code",
   "execution_count": null,
   "id": "2f766a9f",
   "metadata": {},
   "outputs": [],
   "source": []
  }
 ],
 "metadata": {
  "kernelspec": {
   "display_name": "Python 3 (ipykernel)",
   "language": "python",
   "name": "python3"
  },
  "language_info": {
   "codemirror_mode": {
    "name": "ipython",
    "version": 3
   },
   "file_extension": ".py",
   "mimetype": "text/x-python",
   "name": "python",
   "nbconvert_exporter": "python",
   "pygments_lexer": "ipython3",
   "version": "3.9.7"
  }
 },
 "nbformat": 4,
 "nbformat_minor": 5
}
