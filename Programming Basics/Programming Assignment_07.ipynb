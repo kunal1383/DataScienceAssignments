{
 "cells": [
  {
   "cell_type": "markdown",
   "id": "823845d3",
   "metadata": {},
   "source": [
    "#### 1. Write a Python Program to find sum of Array ?"
   ]
  },
  {
   "cell_type": "code",
   "execution_count": 5,
   "id": "6dd2fd5c",
   "metadata": {},
   "outputs": [
    {
     "name": "stdout",
     "output_type": "stream",
     "text": [
      "Enter the Array: 12 34 556 7 45 312\n",
      "The sum of [12, 34, 556, 7, 45, 312] is 966\n"
     ]
    }
   ],
   "source": [
    "def sumOfArray():\n",
    "    in_arr = [int(x) for x in input(\"Enter the Array: \").split()]\n",
    "    print(f'The sum of {in_arr} is {sum(in_arr)}')\n",
    "\n",
    "sumOfArray()"
   ]
  },
  {
   "cell_type": "markdown",
   "id": "9e6c1983",
   "metadata": {},
   "source": [
    "#### 2. Write a Python Program to find Largest element in an Array ?"
   ]
  },
  {
   "cell_type": "code",
   "execution_count": 6,
   "id": "e5c57cb3",
   "metadata": {},
   "outputs": [
    {
     "name": "stdout",
     "output_type": "stream",
     "text": [
      "Enter the Array: 65 656 233 87 12 1000\n",
      "The Largest Element in [65, 656, 233, 87, 12, 1000] is 1000\n"
     ]
    }
   ],
   "source": [
    "def largestElement():\n",
    "    in_arr =[int(x) for x in input(\"Enter the Array: \").split()]\n",
    "    print(f\"The Largest Element in {in_arr} is {sorted(in_arr, reverse=True)[0]}\")\n",
    "    \n",
    "largestElement()"
   ]
  },
  {
   "cell_type": "markdown",
   "id": "c2705b7d",
   "metadata": {},
   "source": [
    "#### 3. Write a Python Program for array rotation ?"
   ]
  },
  {
   "cell_type": "code",
   "execution_count": 7,
   "id": "08afb7ff",
   "metadata": {},
   "outputs": [
    {
     "name": "stdout",
     "output_type": "stream",
     "text": [
      "Enter the Array: 55 78 3423 098 41 56 678  563 24\n",
      "The Reverse of Array [55, 78, 3423, 98, 41, 56, 678, 563, 24] is [24, 563, 678, 56, 41, 98, 3423, 78, 55]\n"
     ]
    }
   ],
   "source": [
    "def reverseOfArray():\n",
    "    in_arr = [int(x) for x in input(\"Enter the Array: \").split()]\n",
    "    print(f\"The Reverse of Array {in_arr} is {in_arr[::-1]}\")\n",
    "    \n",
    "reverseOfArray()"
   ]
  },
  {
   "cell_type": "markdown",
   "id": "5b6207c1",
   "metadata": {},
   "source": [
    "#### 4. Write a Python Program to Split the array and add the first part to the end ?"
   ]
  },
  {
   "cell_type": "code",
   "execution_count": 9,
   "id": "d6e5de3d",
   "metadata": {},
   "outputs": [
    {
     "name": "stdout",
     "output_type": "stream",
     "text": [
      "Enter the Array:  22 45 66 311 46 77 88 45\n",
      "Enter the index form where you want to split3\n",
      "The resulted Array of [22, 45, 66, 311, 46, 77, 88, 45] is [311, 46, 77, 88, 45, 22, 45, 66]\n"
     ]
    }
   ],
   "source": [
    "def sumOfSplits():\n",
    "    array =[int(x) for x in input(\"Enter the Array: \").split()]\n",
    "    split_index = int(input(\"Enter the index form where you want to split\"))\n",
    "    split_array = array[split_index:] + array[:split_index]\n",
    "    print(f\"The resulted Array of {array} is {split_array}\")\n",
    "    \n",
    "sumOfSplits()"
   ]
  },
  {
   "cell_type": "markdown",
   "id": "eb0e084d",
   "metadata": {},
   "source": [
    "#### 5. Write a Python Program to check if given array is Monotonic ?"
   ]
  },
  {
   "cell_type": "code",
   "execution_count": 10,
   "id": "08c0196d",
   "metadata": {},
   "outputs": [
    {
     "name": "stdout",
     "output_type": "stream",
     "text": [
      "Enter the Array: 1 2 3 4  6 6\n",
      "Given array is monotonic\n"
     ]
    }
   ],
   "source": [
    "def is_monotonic(array):\n",
    "    increasing = all(array[i] <= array[i+1] for i in range(len(array) - 1))\n",
    "    decreasing = all(array[i] >= array[i+1] for i in range(len(array) - 1))\n",
    "    return increasing or decreasing\n",
    "\n",
    "array =[int(x) for x in input(\"Enter the Array: \").split()]\n",
    "is_monotonic_array = is_monotonic(array)\n",
    "if is_monotonic_array:\n",
    "    print(\"Given array is monotonic\")\n",
    "else:\n",
    "    print(\"Given array is not monotonic\")"
   ]
  },
  {
   "cell_type": "code",
   "execution_count": null,
   "id": "b29c1b2e",
   "metadata": {},
   "outputs": [],
   "source": []
  }
 ],
 "metadata": {
  "kernelspec": {
   "display_name": "Python 3 (ipykernel)",
   "language": "python",
   "name": "python3"
  },
  "language_info": {
   "codemirror_mode": {
    "name": "ipython",
    "version": 3
   },
   "file_extension": ".py",
   "mimetype": "text/x-python",
   "name": "python",
   "nbconvert_exporter": "python",
   "pygments_lexer": "ipython3",
   "version": "3.9.7"
  }
 },
 "nbformat": 4,
 "nbformat_minor": 5
}
