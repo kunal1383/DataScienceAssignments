{
 "cells": [
  {
   "cell_type": "markdown",
   "id": "3b8368dc",
   "metadata": {},
   "source": [
    "#### 1.Create a function that takes a number as an argument and returns True or False depending on whether the number is symmetrical or not. A number is symmetrical when it is the same as its reverse.\n",
    "**Examples:**    \n",
    "`is_symmetrical(7227) ➞ True`  \n",
    "`is_symmetrical(12567) ➞ False`  \n",
    "`is_symmetrical(44444444) ➞ True`  \n",
    "`is_symmetrical(9939) ➞ False`  \n",
    "`is_symmetrical(1112111) ➞ True`  "
   ]
  },
  {
   "cell_type": "code",
   "execution_count": 1,
   "id": "c26dbf7e",
   "metadata": {},
   "outputs": [
    {
     "name": "stdout",
     "output_type": "stream",
     "text": [
      "True\n",
      "False\n",
      "True\n",
      "False\n",
      "True\n"
     ]
    }
   ],
   "source": [
    "def is_symmetrical(num):\n",
    "    return str(num) == str(num)[::-1]\n",
    "\n",
    "print(is_symmetrical(7227)) \n",
    "print(is_symmetrical(12567)) \n",
    "print(is_symmetrical(44444444)) \n",
    "print(is_symmetrical(9939)) \n",
    "print(is_symmetrical(1112111))\n"
   ]
  },
  {
   "cell_type": "markdown",
   "id": "45b97989",
   "metadata": {},
   "source": [
    "#### 2.Given a string of numbers separated by a comma and space, return the product of the numbers.\n",
    "**Examples:**  \n",
    "`multiply_nums(\"2, 3\") ➞ 6`  \n",
    "`multiply_nums(\"1, 2, 3, 4\") ➞ 24`  \n",
    "`multiply_nums(\"54, 75, 453, 0\") ➞ 0`  \n",
    "`multiply_nums(\"10, -2\") ➞ -20`  "
   ]
  },
  {
   "cell_type": "code",
   "execution_count": 2,
   "id": "60133913",
   "metadata": {},
   "outputs": [
    {
     "name": "stdout",
     "output_type": "stream",
     "text": [
      "6\n",
      "24\n",
      "0\n",
      "-20\n"
     ]
    }
   ],
   "source": [
    "def multiply_nums(nums_str):\n",
    "    nums = [int(x) for x in nums_str.split(\", \")]\n",
    "    result = 1\n",
    "    for num in nums:\n",
    "        result *= num\n",
    "    return result\n",
    "\n",
    "\n",
    "print(multiply_nums(\"2, 3\")) \n",
    "print(multiply_nums(\"1, 2, 3, 4\"))\n",
    "print(multiply_nums(\"54, 75, 453, 0\"))\n",
    "print(multiply_nums(\"10, -2\")) \n"
   ]
  },
  {
   "cell_type": "markdown",
   "id": "42e17e6f",
   "metadata": {},
   "source": [
    "#### 3.Create a function that squares every digit of a number.\n",
    "**Examples:**  \n",
    "`square_digits(9119) ➞ 811181`  \n",
    "`square_digits(2483) ➞ 416649`  \n",
    "`square_digits(3212) ➞ 9414`  \n",
    "\n",
    "**Notes:**   \n",
    "The function receives an integer and must return an integer."
   ]
  },
  {
   "cell_type": "code",
   "execution_count": 3,
   "id": "fb0d6d2b",
   "metadata": {},
   "outputs": [
    {
     "name": "stdout",
     "output_type": "stream",
     "text": [
      "811181\n",
      "416649\n",
      "9414\n"
     ]
    }
   ],
   "source": [
    "def square_digits(num):\n",
    "    result = int(''.join(str(int(digit)**2) for digit in str(num)))\n",
    "    return result\n",
    "\n",
    "\n",
    "print(square_digits(9119))\n",
    "print(square_digits(2483))\n",
    "print(square_digits(3212)) \n"
   ]
  },
  {
   "cell_type": "markdown",
   "id": "5edc0e1b",
   "metadata": {},
   "source": [
    "#### 4.Create a function that sorts a list and removes all duplicate items from it.\n",
    "**Examples:**  \n",
    "`setify([1, 3, 3, 5, 5]) ➞ [1, 3, 5]`  \n",
    "`setify([4, 4, 4, 4]) ➞ [4]`  \n",
    "`setify([5, 7, 8, 9, 10, 15]) ➞ [5, 7, 8, 9, 10, 15]`  \n",
    "`setify([3, 3, 3, 2, 1]) ➞ [1, 2, 3]`  "
   ]
  },
  {
   "cell_type": "code",
   "execution_count": 4,
   "id": "8ca50bbd",
   "metadata": {},
   "outputs": [
    {
     "name": "stdout",
     "output_type": "stream",
     "text": [
      "[1, 3, 5]\n",
      "[4]\n",
      "[5, 7, 8, 9, 10, 15]\n",
      "[1, 2, 3]\n"
     ]
    }
   ],
   "source": [
    "def setify(nums_list):\n",
    "    return list(set(nums_list))\n",
    "\n",
    "\n",
    "print(setify([1, 3, 3, 5, 5]))\n",
    "print(setify([4, 4, 4, 4])) \n",
    "print(setify([5, 7, 8, 9, 10, 15])) \n",
    "print(setify([3, 3, 3, 2, 1])) \n"
   ]
  },
  {
   "cell_type": "markdown",
   "id": "02d28ede",
   "metadata": {},
   "source": [
    "#### 5.Create a function that returns the mean of all digits.\n",
    "**Examples:**  \n",
    "`mean(42) ➞ 3`  \n",
    "`mean(12345) ➞ 3`  \n",
    "`mean(666) ➞ 6`  \n",
    "\n",
    "**Notes:**   \n",
    "    1.The mean of all digits is the sum of digits / how many digits there are (e.g. mean of digits in 512 is (5+1+2)/3(number of digits) = 8/3=2).  \n",
    "    2.The mean will always be an integer."
   ]
  },
  {
   "cell_type": "code",
   "execution_count": 6,
   "id": "30baa94c",
   "metadata": {},
   "outputs": [
    {
     "name": "stdout",
     "output_type": "stream",
     "text": [
      "3\n",
      "3\n",
      "6\n"
     ]
    }
   ],
   "source": [
    "def mean(num):\n",
    "    digits = [int(digit) for digit in str(num)]\n",
    "    return sum(digits) // len(digits)\n",
    "\n",
    "\n",
    "print(mean(42)) \n",
    "print(mean(12345))\n",
    "print(mean(666)) \n"
   ]
  },
  {
   "cell_type": "code",
   "execution_count": null,
   "id": "d921fede",
   "metadata": {},
   "outputs": [],
   "source": []
  }
 ],
 "metadata": {
  "kernelspec": {
   "display_name": "Python 3 (ipykernel)",
   "language": "python",
   "name": "python3"
  },
  "language_info": {
   "codemirror_mode": {
    "name": "ipython",
    "version": 3
   },
   "file_extension": ".py",
   "mimetype": "text/x-python",
   "name": "python",
   "nbconvert_exporter": "python",
   "pygments_lexer": "ipython3",
   "version": "3.9.7"
  }
 },
 "nbformat": 4,
 "nbformat_minor": 5
}
