{
 "cells": [
  {
   "cell_type": "markdown",
   "id": "901748b2",
   "metadata": {},
   "source": [
    "#### 1. Write a Python Program to find LCM ?"
   ]
  },
  {
   "cell_type": "code",
   "execution_count": 3,
   "id": "91140999",
   "metadata": {},
   "outputs": [
    {
     "name": "stdout",
     "output_type": "stream",
     "text": [
      "Enter the first number: 3\n",
      "Enter the second number: 8\n",
      "The LCM of 3 and 8 is 24\n"
     ]
    }
   ],
   "source": [
    "def compute_lcm(x, y):\n",
    "    if x > y:\n",
    "        greater = x\n",
    "    else:\n",
    "        greater = y\n",
    "\n",
    "    while True:\n",
    "        if greater % x == 0 and greater % y == 0:\n",
    "            lcm = greater\n",
    "            break\n",
    "        greater += 1\n",
    "\n",
    "    return lcm\n",
    "\n",
    "num1 = int(input(\"Enter the first number: \"))\n",
    "num2 = int(input(\"Enter the second number: \"))\n",
    "\n",
    "lcm = compute_lcm(num1, num2)\n",
    "print(\"The LCM of\", num1, \"and\", num2, \"is\", lcm)"
   ]
  },
  {
   "cell_type": "markdown",
   "id": "5998fa74",
   "metadata": {},
   "source": [
    "#### 2. Write a Python Program to find HCF ?"
   ]
  },
  {
   "cell_type": "code",
   "execution_count": 6,
   "id": "06cfe702",
   "metadata": {},
   "outputs": [
    {
     "name": "stdout",
     "output_type": "stream",
     "text": [
      "Enter the first number: 6\n",
      "Enter the second number: 12\n",
      "The HCF of 6 and 12 is 6\n"
     ]
    }
   ],
   "source": [
    "def compute_hcf(x, y):\n",
    "    while y:\n",
    "        x, y = y, x % y\n",
    "        #print(x ,y)\n",
    "    return x\n",
    "\n",
    "num1 = int(input(\"Enter the first number: \"))\n",
    "num2 = int(input(\"Enter the second number: \"))\n",
    "\n",
    "hcf = compute_hcf(num1, num2)\n",
    "print(\"The HCF of\", num1, \"and\", num2, \"is\", hcf)"
   ]
  },
  {
   "cell_type": "markdown",
   "id": "f29f8214",
   "metadata": {},
   "source": [
    "#### 3. Write a Python Program to Convert Decimal to Binary, Octal and Hexadecimal ?"
   ]
  },
  {
   "cell_type": "code",
   "execution_count": 7,
   "id": "53212645",
   "metadata": {},
   "outputs": [
    {
     "name": "stdout",
     "output_type": "stream",
     "text": [
      "Enter a decimal number: 2\n",
      "Binary representation: 0b10\n",
      "Octal representation: 0o2\n",
      "Hexadecimal representation: 0x2\n"
     ]
    }
   ],
   "source": [
    "def DecimalToOther():\n",
    "    decimal_num = int(input(\"Enter a decimal number: \"))\n",
    "\n",
    "    binary_num = bin(decimal_num)\n",
    "    octal_num = oct(decimal_num)\n",
    "    hexadecimal_num = hex(decimal_num)\n",
    "\n",
    "    print(\"Binary representation:\", binary_num)\n",
    "    print(\"Octal representation:\", octal_num)\n",
    "    print(\"Hexadecimal representation:\", hexadecimal_num)\n",
    "\n",
    "DecimalToOther()"
   ]
  },
  {
   "cell_type": "markdown",
   "id": "1a4ed424",
   "metadata": {},
   "source": [
    "#### 4. Write a Python Program to Find the ASCII value of  a Character ?"
   ]
  },
  {
   "cell_type": "code",
   "execution_count": 15,
   "id": "8173265f",
   "metadata": {},
   "outputs": [
    {
     "name": "stdout",
     "output_type": "stream",
     "text": [
      "Enter a Character: @\n",
      "Ascii Character of @ is 64\n"
     ]
    }
   ],
   "source": [
    "def charToAscii():\n",
    "    char = input('Enter a Character: ')\n",
    "    if len(char) > 1:\n",
    "        print('Please Enter a Single Character')\n",
    "    else:\n",
    "        print(f'Ascii Character of {char} is {ord(char)}')\n",
    "\n",
    "charToAscii()"
   ]
  },
  {
   "cell_type": "markdown",
   "id": "e9f467f1",
   "metadata": {},
   "source": [
    "#### 5. Write a Python Program to Make a Simple Calculator with 4 Basic Mathematical operations ?"
   ]
  },
  {
   "cell_type": "code",
   "execution_count": 8,
   "id": "846d7a21",
   "metadata": {},
   "outputs": [
    {
     "name": "stdout",
     "output_type": "stream",
     "text": [
      "Enter the first number: 67\n",
      "Enter an operator (+, -, *, /): /\n",
      "Enter the second number: 17\n",
      "Result: 3.9411764705882355\n"
     ]
    }
   ],
   "source": [
    "def add(x, y):\n",
    "    return x + y\n",
    "\n",
    "def subtract(x, y):\n",
    "    return x - y\n",
    "\n",
    "def multiply(x, y):\n",
    "    return x * y\n",
    "\n",
    "def divide(x, y):\n",
    "    return x / y\n",
    "\n",
    "num1 = float(input(\"Enter the first number: \"))\n",
    "operator = input(\"Enter an operator (+, -, *, /): \")\n",
    "num2 = float(input(\"Enter the second number: \"))\n",
    "\n",
    "result = 0\n",
    "if operator == \"+\":\n",
    "    result = add(num1, num2)\n",
    "elif operator == \"-\":\n",
    "    result = subtract(num1, num2)\n",
    "elif operator == \"*\":\n",
    "    result = multiply(num1, num2)\n",
    "elif operator == \"/\":\n",
    "    result = divide(num1, num2)\n",
    "\n",
    "print(\"Result:\", result)"
   ]
  },
  {
   "cell_type": "code",
   "execution_count": null,
   "id": "d876b3ce",
   "metadata": {},
   "outputs": [],
   "source": []
  }
 ],
 "metadata": {
  "kernelspec": {
   "display_name": "Python 3 (ipykernel)",
   "language": "python",
   "name": "python3"
  },
  "language_info": {
   "codemirror_mode": {
    "name": "ipython",
    "version": 3
   },
   "file_extension": ".py",
   "mimetype": "text/x-python",
   "name": "python",
   "nbconvert_exporter": "python",
   "pygments_lexer": "ipython3",
   "version": "3.9.7"
  }
 },
 "nbformat": 4,
 "nbformat_minor": 5
}
