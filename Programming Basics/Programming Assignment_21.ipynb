{
 "cells": [
  {
   "cell_type": "markdown",
   "id": "9f8cb8fd",
   "metadata": {},
   "source": [
    "#### 1.Write a function that takes a list and a number as arguments. Add the number to the end of the list, then remove the first element of the list. The function should then return the updated list.\n",
    "**Examples:**  \n",
    "`next_in_line([5, 6, 7, 8, 9], 1) ➞ [6, 7, 8, 9, 1]`  \n",
    "`next_in_line([7, 6, 3, 23, 17], 10) ➞ [6, 3, 23, 17, 10]`  \n",
    "`next_in_line([1, 10, 20, 42 ], 6) ➞ [10, 20, 42, 6]`  \n",
    "`next_in_line([], 6) ➞ \"No list has been selected\"`  "
   ]
  },
  {
   "cell_type": "code",
   "execution_count": 1,
   "id": "925dd9d9",
   "metadata": {},
   "outputs": [
    {
     "name": "stdout",
     "output_type": "stream",
     "text": [
      "[6, 7, 8, 9, 1]\n",
      "[6, 3, 23, 17, 10]\n",
      "[10, 20, 42, 6]\n",
      "No list has been selected\n"
     ]
    }
   ],
   "source": [
    "def next_in_line(lst, num):\n",
    "    if not lst:\n",
    "        return \"No list has been selected\"\n",
    "    lst.append(num)\n",
    "    lst.pop(0)\n",
    "    return lst\n",
    "\n",
    "\n",
    "print(next_in_line([5, 6, 7, 8, 9], 1))\n",
    "print(next_in_line([7, 6, 3, 23, 17], 10)) \n",
    "print(next_in_line([1, 10, 20, 42], 6)) \n",
    "print(next_in_line([], 6)) \n"
   ]
  },
  {
   "cell_type": "markdown",
   "id": "406594e9",
   "metadata": {},
   "source": [
    "#### 2.Create the function that takes a list of dictionaries and returns the sum of people's budgets.\n",
    "**Examples:**  \n",
    "`get_budgets([\n",
    "{ \"name\": \"John\", \"age\": 21, \"budget\": 23000 },\n",
    "{ \"name\": \"Steve\", \"age\": 32, \"budget\": 40000 },\n",
    "{ \"name\": \"Martin\", \"age\": 16, \"budget\": 2700 }\n",
    "]) ➞ 65700`\n",
    "\n",
    "`get_budgets([\n",
    "{ \"name\": \"John\", \"age\": 21, \"budget\": 29000 },\n",
    "{ \"name\": \"Steve\", \"age\": 32, \"budget\": 32000 },\n",
    "{ \"name\": \"Martin\", \"age\": 16, \"budget\": 1600 }\n",
    "]) ➞ 62600`"
   ]
  },
  {
   "cell_type": "code",
   "execution_count": 2,
   "id": "2762e1ad",
   "metadata": {},
   "outputs": [
    {
     "name": "stdout",
     "output_type": "stream",
     "text": [
      "65700\n",
      "62600\n"
     ]
    }
   ],
   "source": [
    "def get_budgets(lst):\n",
    "    return sum(person['budget'] for person in lst)\n",
    "\n",
    "\n",
    "print(get_budgets([\n",
    "    {\"name\": \"John\", \"age\": 21, \"budget\": 23000},\n",
    "    {\"name\": \"Steve\", \"age\": 32, \"budget\": 40000},\n",
    "    {\"name\": \"Martin\", \"age\": 16, \"budget\": 2700}\n",
    "])) \n",
    "\n",
    "print(get_budgets([\n",
    "    {\"name\": \"John\", \"age\": 21, \"budget\": 29000},\n",
    "    {\"name\": \"Steve\", \"age\": 32, \"budget\": 32000},\n",
    "    {\"name\": \"Martin\", \"age\": 16, \"budget\": 1600}\n",
    "])) \n"
   ]
  },
  {
   "cell_type": "markdown",
   "id": "dca0850a",
   "metadata": {},
   "source": [
    "#### 3.Create a function that takes a string and returns a string with its letters in alphabetical order.\n",
    "**Examples:**   \n",
    "`alphabet_soup(\"hello\") ➞ \"ehllo\"`  \n",
    "`alphabet_soup(\"edabit\") ➞ \"abdeit\"`  \n",
    "`alphabet_soup(\"hacker\") ➞ \"acehkr\"`  \n",
    "`alphabet_soup(\"geek\") ➞ \"eegk\"`  \n",
    "`alphabet_soup(\"javascript\") ➞ \"aacijprstv\"`  "
   ]
  },
  {
   "cell_type": "code",
   "execution_count": 5,
   "id": "5232ceca",
   "metadata": {},
   "outputs": [
    {
     "name": "stdout",
     "output_type": "stream",
     "text": [
      "ehllo\n",
      "abdeit\n",
      "acehkr\n",
      "eegk\n",
      "aacijprstv\n"
     ]
    }
   ],
   "source": [
    "def alphabet_soup(string):\n",
    "    return ''.join(sorted(string))\n",
    "\n",
    "# Test cases\n",
    "print(alphabet_soup(\"hello\")) \n",
    "print(alphabet_soup(\"edabit\"))\n",
    "print(alphabet_soup(\"hacker\"))\n",
    "print(alphabet_soup(\"geek\")) \n",
    "print(alphabet_soup(\"javascript\")) \n"
   ]
  },
  {
   "cell_type": "markdown",
   "id": "79ce23fd",
   "metadata": {},
   "source": [
    "#### 4.What will be the value of your investment at the end of the 10 year period?\n",
    "Create a function that accepts the principal p, the term in years t, the interest rate r, and the\n",
    "number of compounding periods per year n. The function returns the value at the end of term\n",
    "rounded to the nearest cent.\n",
    "\n",
    "\n",
    "**For the example above:**  \n",
    "`compound_interest(10000, 10, 0.06, 12) ➞ 18193.97`  \n",
    "Note that the interest rate is given as a decimal and n=12 because with monthly compounding\n",
    "there are 12 periods per year. Compounding can also be done annually, quarterly, weekly, or\n",
    "daily.  \n",
    "\n",
    "**Examples:**  \n",
    "`compound_interest(100, 1, 0.05, 1) ➞ 105.0`  \n",
    "`compound_interest(3500, 15, 0.1, 4) ➞ 15399.26`  \n",
    "`compound_interest(100000, 20, 0.15, 365) ➞ 2007316.26`  "
   ]
  },
  {
   "cell_type": "code",
   "execution_count": 6,
   "id": "0eb9a4d8",
   "metadata": {},
   "outputs": [
    {
     "name": "stdout",
     "output_type": "stream",
     "text": [
      "18193.97\n",
      "105.0\n",
      "15399.26\n",
      "2007316.26\n"
     ]
    }
   ],
   "source": [
    "def compound_interest(p, t, r, n):\n",
    "    return round(p * (1 + r/n)**(n*t), 2)\n",
    "\n",
    "\n",
    "print(compound_interest(10000, 10, 0.06, 12)) \n",
    "print(compound_interest(100, 1, 0.05, 1)) \n",
    "print(compound_interest(3500, 15, 0.1, 4)) \n",
    "print(compound_interest(100000, 20, 0.15, 365))\n"
   ]
  },
  {
   "cell_type": "markdown",
   "id": "abb06dab",
   "metadata": {},
   "source": [
    "#### 5.Write a function that takes a list of elements and returns only the integers.\n",
    "**Examples:**  \n",
    "`return_only_integer([9, 2, \"space\", \"car\", \"lion\", 16]) ➞ [9, 2, 16]`  \n",
    "`return_only_integer([\"hello\", 81, \"basketball\", 123, \"fox\"]) ➞ [81, 123]`   \n",
    "`return_only_integer([10, \"121\", 56, 20, \"car\", 3, \"lion\"]) ➞ [10, 56, 20,3]`    \n",
    "`return_only_integer([\"String\", True, 3.3, 1]) ➞ [1]`"
   ]
  },
  {
   "cell_type": "code",
   "execution_count": 10,
   "id": "61926cd1",
   "metadata": {},
   "outputs": [
    {
     "name": "stdout",
     "output_type": "stream",
     "text": [
      "[9, 2, 16]\n",
      "[81, 123]\n",
      "[10, 56, 20, 3]\n",
      "[1]\n"
     ]
    }
   ],
   "source": [
    "def return_only_integer(lst):\n",
    "    return [x for x in lst if isinstance(x, int) and not isinstance(x ,bool)]\n",
    "\n",
    "\n",
    "print(return_only_integer([9, 2, \"space\", \"car\", \"lion\", 16])) \n",
    "print(return_only_integer([\"hello\", 81, \"basketball\", 123, \"fox\"]))\n",
    "print(return_only_integer([10, \"121\", 56, 20, \"car\", 3, \"lion\"])) \n",
    "print(return_only_integer([\"String\", True, 3.3, 1]))"
   ]
  },
  {
   "cell_type": "code",
   "execution_count": null,
   "id": "90240aab",
   "metadata": {},
   "outputs": [],
   "source": []
  },
  {
   "cell_type": "code",
   "execution_count": null,
   "id": "4fc51b40",
   "metadata": {},
   "outputs": [],
   "source": []
  }
 ],
 "metadata": {
  "kernelspec": {
   "display_name": "Python 3 (ipykernel)",
   "language": "python",
   "name": "python3"
  },
  "language_info": {
   "codemirror_mode": {
    "name": "ipython",
    "version": 3
   },
   "file_extension": ".py",
   "mimetype": "text/x-python",
   "name": "python",
   "nbconvert_exporter": "python",
   "pygments_lexer": "ipython3",
   "version": "3.9.7"
  }
 },
 "nbformat": 4,
 "nbformat_minor": 5
}
