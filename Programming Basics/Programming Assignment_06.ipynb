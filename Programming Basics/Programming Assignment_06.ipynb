{
 "cells": [
  {
   "cell_type": "markdown",
   "id": "cd035ec4",
   "metadata": {},
   "source": [
    "#### 1. Write a Python Program to Display Fibonacci Sequence using Recursion ?"
   ]
  },
  {
   "cell_type": "code",
   "execution_count": 10,
   "id": "c6a0db1b",
   "metadata": {},
   "outputs": [
    {
     "name": "stdout",
     "output_type": "stream",
     "text": [
      "Enter the number of terms: 20\n",
      "Fibonacci Sequence: [0, 1, 1, 2, 3, 5, 8, 13, 21, 34, 55, 89, 144, 233, 377, 610, 987, 1597, 2584, 4181]\n"
     ]
    }
   ],
   "source": [
    "def fibonacci(n):\n",
    "    if n <= 1:\n",
    "        return n\n",
    "    else:\n",
    "        return fibonacci(n-1) + fibonacci(n-2)\n",
    "\n",
    "num_terms = int(input(\"Enter the number of terms: \"))\n",
    "\n",
    "fib_sequence = []\n",
    "for i in range(num_terms):\n",
    "    fib_sequence.append(fibonacci(i))\n",
    "\n",
    "print(\"Fibonacci Sequence:\" ,fib_sequence)"
   ]
  },
  {
   "cell_type": "markdown",
   "id": "15b838c7",
   "metadata": {},
   "source": [
    "#### 2. Write a Python Program to Find Factorial of a Number using Recursion ?"
   ]
  },
  {
   "cell_type": "code",
   "execution_count": 11,
   "id": "56e04b25",
   "metadata": {},
   "outputs": [
    {
     "data": {
      "text/plain": [
       "120"
      ]
     },
     "execution_count": 11,
     "metadata": {},
     "output_type": "execute_result"
    }
   ],
   "source": [
    "def factorial(num):\n",
    "    if num < 1:\n",
    "        return 1\n",
    "    else:\n",
    "        return num * factorial(num-1)\n",
    "        \n",
    "\n",
    "factorial(5)"
   ]
  },
  {
   "cell_type": "markdown",
   "id": "95f7ab1e",
   "metadata": {},
   "source": [
    "#### 3. Write a Python Program to Calculate your Body Mass Index ?"
   ]
  },
  {
   "cell_type": "code",
   "execution_count": 7,
   "id": "8e0c3d17",
   "metadata": {},
   "outputs": [
    {
     "name": "stdout",
     "output_type": "stream",
     "text": [
      "Enter your weight in kilograms: 75\n",
      "Enter your height in meters: 1.70\n",
      "Your BMI is 25.95\n",
      "Your BMI status is Overweight\n"
     ]
    }
   ],
   "source": [
    "def calculate_bmi(weight, height):\n",
    "    bmi = weight / (height ** 2)\n",
    "    return bmi\n",
    "\n",
    "weight = float(input(\"Enter your weight in kilograms: \"))\n",
    "height = float(input(\"Enter your height in meters: \"))\n",
    "\n",
    "bmi = calculate_bmi(weight, height)\n",
    "\n",
    "if bmi < 18.5:\n",
    "    status = \"Underweight\"\n",
    "elif 18.5 <= bmi < 25:\n",
    "    status = \"Healthy\"\n",
    "elif 25 <= bmi < 30:\n",
    "    status = \"Overweight\"\n",
    "else:\n",
    "    status = \"Obese\"\n",
    "\n",
    "print(f\"Your BMI is {bmi:.2f}\")\n",
    "print(f\"Your BMI status is {status}\")"
   ]
  },
  {
   "cell_type": "markdown",
   "id": "8be593fe",
   "metadata": {},
   "source": [
    "#### 4. Write a Python Program to Calculate the Natural Logarithm of any Number ?"
   ]
  },
  {
   "cell_type": "code",
   "execution_count": 13,
   "id": "e1db8d0f",
   "metadata": {},
   "outputs": [
    {
     "name": "stdout",
     "output_type": "stream",
     "text": [
      "Enter a number: 32\n",
      "The natural logarithm of 32.0 is 3.47\n"
     ]
    }
   ],
   "source": [
    "import math\n",
    "\n",
    "num = float(input(\"Enter a number: \"))\n",
    "log_value = math.log(num)\n",
    "\n",
    "print(f\"The natural logarithm of {num} is {log_value:.2f}\")"
   ]
  },
  {
   "cell_type": "markdown",
   "id": "5dc827ea",
   "metadata": {},
   "source": [
    "#### 5. Write a Python Program for Cube sum of first n Natural Numbers ?"
   ]
  },
  {
   "cell_type": "code",
   "execution_count": 8,
   "id": "70a3a203",
   "metadata": {},
   "outputs": [
    {
     "name": "stdout",
     "output_type": "stream",
     "text": [
      "enter the num :3\n",
      "The cube sum of first 3 natural numbers is 36\n"
     ]
    }
   ],
   "source": [
    "def cube_sum(n):\n",
    "    sum = 0\n",
    "    for i in range(1, n+1):\n",
    "        sum += i**3\n",
    "    return sum\n",
    "\n",
    "\n",
    "n = int(input(\"enter the num :\"))\n",
    "\n",
    "print(f\"The cube sum of first {n} natural numbers is {cube_sum(n)}\")\n"
   ]
  },
  {
   "cell_type": "code",
   "execution_count": null,
   "id": "8796859b",
   "metadata": {},
   "outputs": [],
   "source": []
  }
 ],
 "metadata": {
  "kernelspec": {
   "display_name": "Python 3 (ipykernel)",
   "language": "python",
   "name": "python3"
  },
  "language_info": {
   "codemirror_mode": {
    "name": "ipython",
    "version": 3
   },
   "file_extension": ".py",
   "mimetype": "text/x-python",
   "name": "python",
   "nbconvert_exporter": "python",
   "pygments_lexer": "ipython3",
   "version": "3.9.7"
  }
 },
 "nbformat": 4,
 "nbformat_minor": 5
}
