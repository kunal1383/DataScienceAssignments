{
 "cells": [
  {
   "cell_type": "markdown",
   "id": "e73a2da3",
   "metadata": {},
   "source": [
    "#### 1.Write a program that calculates and prints the value according to the given formula:\n",
    "`Q = Square root of [(2 * C * D)/H]`  \n",
    "Following are the fixed values of C and H:  \n",
    "C is 50. H is 30.  \n",
    "D is the variable whose values should be input to your program in a comma-separated sequence.  \n",
    "**Example:** Let us assume the following comma separated input sequence is given to the program:`100,150,180`  \n",
    "The output of the program should be:  `18,22,24`    "
   ]
  },
  {
   "cell_type": "code",
   "execution_count": 5,
   "id": "c85d5eb5",
   "metadata": {},
   "outputs": [
    {
     "name": "stdout",
     "output_type": "stream",
     "text": [
      "Enter comma-separated values of D: 100,150,180\n",
      "18,22,24\n"
     ]
    }
   ],
   "source": [
    "import math\n",
    "\n",
    "def calculate_Q(D):\n",
    "    C = 50\n",
    "    H = 30\n",
    "    Q = math.sqrt((2 * C * D) / H)\n",
    "    return Q\n",
    "\n",
    "input_sequence = input(\"Enter comma-separated values of D: \")\n",
    "D_values = [int(D) for D in input_sequence.split(',')]\n",
    "results = [round(calculate_Q(D)) for D in D_values]\n",
    "print(','.join(map(str, results)))\n"
   ]
  },
  {
   "cell_type": "markdown",
   "id": "2f5b884e",
   "metadata": {},
   "source": [
    "#### 2.Write a program which takes 2 digits, X,Y as input and generates a 2-dimensional array. The element value in the i-th row and j-th column of the array should be i*j.     \n",
    "`Note: i=0,1.., X-1; j=0,1,¡Y-1.`  \n",
    "**Example:** Suppose the following inputs are given to the program: `3,5`  \n",
    "Then, the output of the program should be:`[[0, 0, 0, 0, 0], [0, 1, 2, 3, 4], [0, 2, 4, 6, 8]]`   "
   ]
  },
  {
   "cell_type": "code",
   "execution_count": 9,
   "id": "999879ce",
   "metadata": {},
   "outputs": [
    {
     "name": "stdout",
     "output_type": "stream",
     "text": [
      "Enter X and Y separated by comma: 3,5\n",
      "[[0, 0, 0, 0, 0], [0, 1, 2, 3, 4], [0, 2, 4, 6, 8]]\n"
     ]
    }
   ],
   "source": [
    "def generate_2d_array(X, Y):\n",
    "    result = [[i*j for j in range(Y)] for i in range(X)]\n",
    "    return result\n",
    "\n",
    "X, Y = map(int, input(\"Enter X and Y separated by comma: \").split(','))\n",
    "result_array = generate_2d_array(X, Y)\n",
    "print(result_array)"
   ]
  },
  {
   "cell_type": "markdown",
   "id": "512e5348",
   "metadata": {},
   "source": [
    "#### 3.Write a program that accepts a comma separated sequence of words as input and prints the words in a comma-separated sequence after sorting them alphabetically ? \n",
    "Suppose the following input is supplied to the program: `without,hello,bag,world`  \n",
    "Then, the output should be: `bag,hello,without,world`\n"
   ]
  },
  {
   "cell_type": "code",
   "execution_count": 11,
   "id": "d62e5da5",
   "metadata": {},
   "outputs": [
    {
     "name": "stdout",
     "output_type": "stream",
     "text": [
      "Enter comma-separated words without,hello,bag,world\n",
      "bag,hello,without,world\n"
     ]
    }
   ],
   "source": [
    "def sort_words(words_list):\n",
    "    return sorted(words_list)\n",
    "\n",
    "words = input(\"Enter comma-separated words \")\n",
    "input_sequence = [word for word in words.split(',')]\n",
    "result = sort_words(input_sequence)\n",
    "print(','.join(map(str, result)))"
   ]
  },
  {
   "cell_type": "markdown",
   "id": "67d99dab",
   "metadata": {},
   "source": [
    "#### 4.Write a program that accepts a sequence of whitespace separated words as input and prints the words after removing all duplicate words and sorting them alphanumerically.\n",
    "Suppose the following input is supplied to the program: `hello world and practice makes perfect and hello world again`  \n",
    "Then, the output should be: `again and hello makes perfect practice world`"
   ]
  },
  {
   "cell_type": "code",
   "execution_count": 14,
   "id": "2633f827",
   "metadata": {},
   "outputs": [
    {
     "name": "stdout",
     "output_type": "stream",
     "text": [
      "Enter whitespace-separated words: hello world and practice makes perfect and hello world again\n",
      "again and hello makes perfect practice world\n"
     ]
    }
   ],
   "source": [
    "input_words = input(\"Enter whitespace-separated words: \")\n",
    "words_list = input_words.split()\n",
    "unique_words = sorted(set(words_list))\n",
    "output = ' '.join(unique_words)\n",
    "print(output)\n"
   ]
  },
  {
   "cell_type": "markdown",
   "id": "bf647aa0",
   "metadata": {},
   "source": [
    "#### 5.Write a program that accepts a sentence and calculate the number of letters and digits.\n",
    "Suppose the following input is supplied to the program: `hello world! 123`  \n",
    "Then, the output should be:  \n",
    "`LETTERS 10`  \n",
    "`DIGITS 3`  "
   ]
  },
  {
   "cell_type": "code",
   "execution_count": 15,
   "id": "a1055c73",
   "metadata": {},
   "outputs": [
    {
     "name": "stdout",
     "output_type": "stream",
     "text": [
      "Enter a sentence: hello world! 123\n",
      "LETTERS 10\n",
      "DIGITS 3\n"
     ]
    }
   ],
   "source": [
    "input_sentence = input(\"Enter a sentence: \")\n",
    "letter_count = sum(1 for char in input_sentence if char.isalpha())\n",
    "digit_count = sum(1 for char in input_sentence if char.isdigit())\n",
    "print(\"LETTERS\", letter_count)\n",
    "print(\"DIGITS\", digit_count)\n"
   ]
  },
  {
   "cell_type": "markdown",
   "id": "925eb219",
   "metadata": {},
   "source": [
    "#### 6.A website requires the users to input username and password to register. Write a program to check the validity of password input by users.\n",
    "Following are the criteria for checking the password:  \n",
    "1. At least 1 letter between [a-z]\n",
    "2. At least 1 number between [0-9]\n",
    "1. At least 1 letter between [A-Z]\n",
    "3. At least 1 character from [$#@]\n",
    "4. Minimum length of transaction password: 6\n",
    "5. Maximum length of transaction password: 12\n",
    "\n",
    "Your program should accept a sequence of comma separated passwords and will check them according to the above criteria. Passwords that match the criteria are to be printed, each separated by a comma.\n",
    "\n",
    "**Example:**  \n",
    "If the following passwords are given as input to the program: `ABd1234@1,a F1#,2w3E*,2We3345`  \n",
    "Then, the output of the program should be:`ABd1234@1`\n"
   ]
  },
  {
   "cell_type": "code",
   "execution_count": 16,
   "id": "b7b299c2",
   "metadata": {},
   "outputs": [
    {
     "name": "stdout",
     "output_type": "stream",
     "text": [
      "Enter comma-separated passwords: ABd1234@1,a F1#,2w3E*,2We3345\n",
      "ABd1234@1\n"
     ]
    }
   ],
   "source": [
    "import re\n",
    "\n",
    "def check_valid_password(password):\n",
    "    if len(password) < 6 or len(password) > 12:\n",
    "        return False\n",
    "    if not re.search(\"[a-z]\", password):\n",
    "        return False\n",
    "    if not re.search(\"[0-9]\", password):\n",
    "        return False\n",
    "    if not re.search(\"[A-Z]\", password):\n",
    "        return False\n",
    "    if not re.search(\"[$#@]\", password):\n",
    "        return False\n",
    "    return True\n",
    "\n",
    "input_passwords = input(\"Enter comma-separated passwords: \")\n",
    "passwords_list = input_passwords.split(',')\n",
    "valid_passwords = [password for password in passwords_list if check_valid_password(password)]\n",
    "print(','.join(valid_passwords))"
   ]
  },
  {
   "cell_type": "code",
   "execution_count": null,
   "id": "3f3457b8",
   "metadata": {},
   "outputs": [],
   "source": []
  }
 ],
 "metadata": {
  "kernelspec": {
   "display_name": "Python 3 (ipykernel)",
   "language": "python",
   "name": "python3"
  },
  "language_info": {
   "codemirror_mode": {
    "name": "ipython",
    "version": 3
   },
   "file_extension": ".py",
   "mimetype": "text/x-python",
   "name": "python",
   "nbconvert_exporter": "python",
   "pygments_lexer": "ipython3",
   "version": "3.9.7"
  }
 },
 "nbformat": 4,
 "nbformat_minor": 5
}
