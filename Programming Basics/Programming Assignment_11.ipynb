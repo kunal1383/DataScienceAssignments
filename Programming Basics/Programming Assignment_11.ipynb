{
 "cells": [
  {
   "cell_type": "markdown",
   "id": "e9523fbb",
   "metadata": {},
   "source": [
    "# Assignment 11 Solutions"
   ]
  },
  {
   "cell_type": "markdown",
   "id": "267b6b8f",
   "metadata": {},
   "source": [
    "#### 1. Write a Python program to find words which are greater than given length k ?"
   ]
  },
  {
   "cell_type": "code",
   "execution_count": 1,
   "id": "d3ec10f6",
   "metadata": {},
   "outputs": [
    {
     "name": "stdout",
     "output_type": "stream",
     "text": [
      "Enter the string: This is a sample text containing some long words\n",
      "Enter the length of the string: 5\n",
      "Words greater than length 5 are: ['sample', 'containing']\n"
     ]
    }
   ],
   "source": [
    "def find_long_words(text, k):\n",
    "    words = text.split()\n",
    "    long_words = [word for word in words if len(word) > k]\n",
    "    return long_words\n",
    "\n",
    "  #  This is a sample text containing some long words\n",
    "input_text = input(\"Enter the string: \")\n",
    "length_threshold =int(input('Enter the length of the string: '))\n",
    "result = find_long_words(input_text, length_threshold)\n",
    "print(\"Words greater than length\", length_threshold, \"are:\", result)"
   ]
  },
  {
   "cell_type": "markdown",
   "id": "3711485d",
   "metadata": {},
   "source": [
    "#### 2. Write a Python program for removing i-th character from a string ?"
   ]
  },
  {
   "cell_type": "code",
   "execution_count": 3,
   "id": "f7fccd01",
   "metadata": {},
   "outputs": [
    {
     "name": "stdout",
     "output_type": "stream",
     "text": [
      "Enter the string: This is a sample text containing some long words\n",
      "Enter the length of the string: 6\n",
      "String after removing character at index 6 : This i a sample text containing some long words\n"
     ]
    }
   ],
   "source": [
    "def remove_ith_character(text, i):\n",
    "    if i < 0 or i >= len(text):\n",
    "        return \"Invalid index\"\n",
    "    new_text = text[:i] + text[i + 1:]\n",
    "    return new_text\n",
    "\n",
    "input_string =input(\"Enter the string: \")\n",
    "index_to_remove = int(input('Enter the length of the string: '))\n",
    "result = remove_ith_character(input_string, index_to_remove)\n",
    "print(\"String after removing character at index\", index_to_remove, \":\", result)\n"
   ]
  },
  {
   "cell_type": "markdown",
   "id": "845ba790",
   "metadata": {},
   "source": [
    "#### 3. Write a Python program to split and join a string ?"
   ]
  },
  {
   "cell_type": "code",
   "execution_count": 6,
   "id": "fd82df54",
   "metadata": {},
   "outputs": [
    {
     "name": "stdout",
     "output_type": "stream",
     "text": [
      "Enter the string: This is a sample text containing some long words\n",
      "Split String: ['This', 'is', 'a', 'sample', 'text', 'containing', 'some', 'long', 'words']\n",
      "Join String: This-is-a-sample-text-containing-some-long-words\n"
     ]
    }
   ],
   "source": [
    "def split_and_join():\n",
    "\n",
    "    in_string = input('Enter the string: ')\n",
    "    print(f\"Split String: {in_string.split(' ')}\")\n",
    "    print(f\"Join String: {'-'.join(in_string.split(' '))}\")\n",
    "\n",
    "split_and_join()\n"
   ]
  },
  {
   "cell_type": "markdown",
   "id": "ee642cdf",
   "metadata": {},
   "source": [
    "#### 4. Write a Python to check if a given string is binary string or not ?"
   ]
  },
  {
   "cell_type": "code",
   "execution_count": 8,
   "id": "6d04b29e",
   "metadata": {},
   "outputs": [
    {
     "name": "stdout",
     "output_type": "stream",
     "text": [
      "Enter the string: 10101\n",
      "10101 is a binary string\n"
     ]
    }
   ],
   "source": [
    "def check_binary():\n",
    "    in_string = input('Enter the string: ')\n",
    "    is_binary = all(char in '01' for char in in_string)\n",
    "    statement = 'is a binary string' if is_binary else 'is not a binary string'\n",
    "    print(f'{in_string} {statement}')\n",
    "\n",
    "check_binary()"
   ]
  },
  {
   "cell_type": "markdown",
   "id": "d22e2622",
   "metadata": {},
   "source": [
    "#### 5. Write a Python program to find uncommon words from two Strings ?"
   ]
  },
  {
   "cell_type": "code",
   "execution_count": 11,
   "id": "be223e06",
   "metadata": {},
   "outputs": [
    {
     "name": "stdout",
     "output_type": "stream",
     "text": [
      "Uncommon words between two strings: {'sample', 'different', 'is', 'first', 'This', 'Another', 'a'}\n"
     ]
    }
   ],
   "source": [
    "def find_uncommon_words(str1, str2):\n",
    "    set1 = set(str1.split())\n",
    "    set2 = set(str2.split())\n",
    "    uncommon_words = set1.symmetric_difference(set2)\n",
    "    return uncommon_words\n",
    "\n",
    "string1 = \"This is a first sample text with some words\"\n",
    "string2 = \"Another text with some different words\"\n",
    "result = find_uncommon_words(string1, string2)\n",
    "print(\"Uncommon words between two strings:\", result)"
   ]
  },
  {
   "cell_type": "markdown",
   "id": "a077bda5",
   "metadata": {},
   "source": [
    "#### 6. Write a Python to find all duplicate characters in string ?"
   ]
  },
  {
   "cell_type": "code",
   "execution_count": 14,
   "id": "6116a494",
   "metadata": {},
   "outputs": [
    {
     "name": "stdout",
     "output_type": "stream",
     "text": [
      "Enter the string: This is a sample text containing some long words\n",
      "Duplicate characters in the string: ['t', 'n', 'm', 'e', 'g', 'i', 'o', 'l', 's', 'a']\n"
     ]
    }
   ],
   "source": [
    "def find_duplicate_characters(text):\n",
    "    \n",
    "    duplicate_chars = [char for char in text if text.count(char) > 1 and char != ' ']\n",
    "    return list(set(duplicate_chars))\n",
    "\n",
    "#This is a sample text containing some long words\n",
    "input_string = input('Enter the string: ')\n",
    "result = find_duplicate_characters(input_string)\n",
    "print(\"Duplicate characters in the string:\", result)"
   ]
  },
  {
   "cell_type": "markdown",
   "id": "e14912b1",
   "metadata": {},
   "source": [
    "#### 7. Write a Python Program to check if a string contains any special character?"
   ]
  },
  {
   "cell_type": "code",
   "execution_count": 15,
   "id": "b51b221d",
   "metadata": {},
   "outputs": [
    {
     "name": "stdout",
     "output_type": "stream",
     "text": [
      "Enter the string: Hello, World! #123\n",
      "The string contains special characters.\n"
     ]
    }
   ],
   "source": [
    "def has_special_characters(text):\n",
    "    for char in text:\n",
    "        if not char.isalnum() and char != \" \":\n",
    "            return True\n",
    "    return False\n",
    "\n",
    "#Hello, World! #123\n",
    "input_string =  input('Enter the string: ')\n",
    "if has_special_characters(input_string):\n",
    "    print(\"The string contains special characters.\")\n",
    "else:\n",
    "    print(\"The string does not contain any special characters.\")\n"
   ]
  },
  {
   "cell_type": "code",
   "execution_count": null,
   "id": "3c8eac40",
   "metadata": {},
   "outputs": [],
   "source": []
  }
 ],
 "metadata": {
  "kernelspec": {
   "display_name": "Python 3 (ipykernel)",
   "language": "python",
   "name": "python3"
  },
  "language_info": {
   "codemirror_mode": {
    "name": "ipython",
    "version": 3
   },
   "file_extension": ".py",
   "mimetype": "text/x-python",
   "name": "python",
   "nbconvert_exporter": "python",
   "pygments_lexer": "ipython3",
   "version": "3.9.7"
  }
 },
 "nbformat": 4,
 "nbformat_minor": 5
}
